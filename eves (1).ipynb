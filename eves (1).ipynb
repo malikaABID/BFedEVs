{
 "cells": [
  {
   "cell_type": "code",
   "execution_count": 1,
   "id": "7f5982bd-f859-4943-bc6a-68b411bdf90e",
   "metadata": {},
   "outputs": [],
   "source": [
    "import pandas as pd\n",
    "import numpy as np\n",
    "\n",
    "# Load the dataset\n",
    "file_path = './dataset/SMOTE_data.csv'\n",
    "df = pd.read_csv(file_path)"
   ]
  },
  {
   "cell_type": "code",
   "execution_count": 2,
   "id": "c0dec095-d4b4-4051-8563-0a0fb96fbb4a",
   "metadata": {},
   "outputs": [
    {
     "data": {
      "text/plain": [
       "(2903068, 10)"
      ]
     },
     "execution_count": 2,
     "metadata": {},
     "output_type": "execute_result"
    }
   ],
   "source": [
    "df.shape"
   ]
  },
  {
   "cell_type": "code",
   "execution_count": 3,
   "id": "146b9096-d6d5-442c-9fa5-39f663e8176b",
   "metadata": {},
   "outputs": [
    {
     "name": "stdout",
     "output_type": "stream",
     "text": [
      "<class 'pandas.core.frame.DataFrame'>\n",
      "RangeIndex: 2903068 entries, 0 to 2903067\n",
      "Data columns (total 10 columns):\n",
      " #   Column                     Dtype  \n",
      "---  ------                     -----  \n",
      " 0   dst2src_first_seen_ms      float64\n",
      " 1   dst2src_last_seen_ms       float64\n",
      " 2   dst2src_max_piat_ms        float64\n",
      " 3   bidirectional_syn_packets  float64\n",
      " 4   src2dst_syn_packets        float64\n",
      " 5   application_name           float64\n",
      " 6   application_category_name  float64\n",
      " 7   application_is_guessed     float64\n",
      " 8   application_confidence     float64\n",
      " 9   label_mul                  float64\n",
      "dtypes: float64(10)\n",
      "memory usage: 221.5 MB\n"
     ]
    }
   ],
   "source": [
    "df.info()"
   ]
  },
  {
   "cell_type": "code",
   "execution_count": 4,
   "id": "a58f177a-fee2-4d69-8f65-80de7d2af4df",
   "metadata": {},
   "outputs": [],
   "source": [
    "\n",
    "import numpy as np\n",
    "import pandas as pd\n",
    "import matplotlib.pyplot as plt\n",
    "\n",
    "# Sample DataFrame creation (replace this with your actual DataFrame)\n",
    "data = {\n",
    "    'dst2src_first_seen_ms': np.random.rand(100),\n",
    "    'dst2src_last_seen_ms': np.random.rand(100),\n",
    "    'dst2src_max_piat_ms': np.random.rand(100),\n",
    "    'bidirectional_syn_packets': np.random.rand(100),\n",
    "    'src2dst_syn_packets': np.random.rand(100),\n",
    "    'application_is_guessed': np.random.randint(0, 2, 100),\n",
    "    'application_confidence': np.random.rand(100),\n",
    "    'label_mul': np.random.randint(0, 15, 100)\n",
    "}\n",
    "\n",
    "df = pd.DataFrame(data)\n",
    "\n",
    "# Create binary labels\n",
    "df['binary_label'] = df['label_mul'].apply(lambda x: 0 if x == 0 else 1)\n",
    "\n",
    "# Prepare features and labels\n",
    "features = df.drop(columns=['label_mul', 'binary_label', 'application_is_guessed', 'application_confidence'])\n",
    "labels = df['binary_label'].values\n",
    "\n",
    "\n",
    "\n"
   ]
  },
  {
   "cell_type": "code",
   "execution_count": 5,
   "id": "37281e31-370b-4b88-ae75-8d7fa64cf200",
   "metadata": {},
   "outputs": [
    {
     "data": {
      "text/plain": [
       "array([1, 1, 0, 1, 1, 1, 1, 1, 1, 1, 1, 1, 1, 1, 1, 1, 1, 1, 1, 1, 1, 0,\n",
       "       1, 1, 1, 1, 1, 1, 1, 1, 1, 1, 1, 1, 1, 1, 1, 1, 1, 1, 1, 1, 1, 1,\n",
       "       1, 1, 0, 0, 1, 1, 1, 1, 1, 1, 1, 1, 1, 1, 1, 1, 1, 1, 1, 1, 1, 1,\n",
       "       1, 1, 1, 1, 1, 1, 1, 1, 1, 1, 1, 1, 1, 1, 1, 1, 1, 1, 1, 1, 1, 1,\n",
       "       1, 0, 1, 1, 1, 1, 1, 1, 1, 0, 1, 1])"
      ]
     },
     "execution_count": 5,
     "metadata": {},
     "output_type": "execute_result"
    }
   ],
   "source": [
    "labels"
   ]
  },
  {
   "cell_type": "code",
   "execution_count": 6,
   "id": "cdf00c19-13d2-4b9f-b03e-8c1ae0523081",
   "metadata": {},
   "outputs": [
    {
     "name": "stdout",
     "output_type": "stream",
     "text": [
      "Collecting imblearn\n",
      "  Downloading imblearn-0.0-py2.py3-none-any.whl.metadata (355 bytes)\n",
      "Collecting imbalanced-learn (from imblearn)\n",
      "  Downloading imbalanced_learn-0.13.0-py3-none-any.whl.metadata (8.8 kB)\n",
      "Requirement already satisfied: numpy<3,>=1.24.3 in /opt/bitnami/miniforge/lib/python3.12/site-packages (from imbalanced-learn->imblearn) (2.0.2)\n",
      "Requirement already satisfied: scipy<2,>=1.10.1 in /opt/bitnami/jupyterhub-singleuser/.local/lib/python3.12/site-packages (from imbalanced-learn->imblearn) (1.15.2)\n",
      "Requirement already satisfied: scikit-learn<2,>=1.3.2 in /opt/bitnami/jupyterhub-singleuser/.local/lib/python3.12/site-packages (from imbalanced-learn->imblearn) (1.6.1)\n",
      "Collecting sklearn-compat<1,>=0.1 (from imbalanced-learn->imblearn)\n",
      "  Downloading sklearn_compat-0.1.3-py3-none-any.whl.metadata (18 kB)\n",
      "Requirement already satisfied: joblib<2,>=1.1.1 in /opt/bitnami/jupyterhub-singleuser/.local/lib/python3.12/site-packages (from imbalanced-learn->imblearn) (1.4.2)\n",
      "Requirement already satisfied: threadpoolctl<4,>=2.0.0 in /opt/bitnami/jupyterhub-singleuser/.local/lib/python3.12/site-packages (from imbalanced-learn->imblearn) (3.5.0)\n",
      "Downloading imblearn-0.0-py2.py3-none-any.whl (1.9 kB)\n",
      "Downloading imbalanced_learn-0.13.0-py3-none-any.whl (238 kB)\n",
      "Downloading sklearn_compat-0.1.3-py3-none-any.whl (18 kB)\n",
      "Installing collected packages: sklearn-compat, imbalanced-learn, imblearn\n",
      "Successfully installed imbalanced-learn-0.13.0 imblearn-0.0 sklearn-compat-0.1.3\n",
      "\n",
      "\u001b[1m[\u001b[0m\u001b[34;49mnotice\u001b[0m\u001b[1;39;49m]\u001b[0m\u001b[39;49m A new release of pip is available: \u001b[0m\u001b[31;49m25.0.1\u001b[0m\u001b[39;49m -> \u001b[0m\u001b[32;49m25.1.1\u001b[0m\n",
      "\u001b[1m[\u001b[0m\u001b[34;49mnotice\u001b[0m\u001b[1;39;49m]\u001b[0m\u001b[39;49m To update, run: \u001b[0m\u001b[32;49mpip install --upgrade pip\u001b[0m\n",
      "Note: you may need to restart the kernel to use updated packages.\n"
     ]
    }
   ],
   "source": [
    "pip install imblearn"
   ]
  },
  {
   "cell_type": "code",
   "execution_count": 7,
   "id": "b9950e1a-6a39-4318-a94b-7da7b3533e59",
   "metadata": {
    "scrolled": true
   },
   "outputs": [
    {
     "name": "stderr",
     "output_type": "stream",
     "text": [
      "2025-05-20 10:32:19.224787: I tensorflow/core/util/port.cc:153] oneDNN custom operations are on. You may see slightly different numerical results due to floating-point round-off errors from different computation orders. To turn them off, set the environment variable `TF_ENABLE_ONEDNN_OPTS=0`.\n",
      "2025-05-20 10:32:19.235843: E external/local_xla/xla/stream_executor/cuda/cuda_fft.cc:477] Unable to register cuFFT factory: Attempting to register factory for plugin cuFFT when one has already been registered\n",
      "WARNING: All log messages before absl::InitializeLog() is called are written to STDERR\n",
      "E0000 00:00:1747737139.247218      63 cuda_dnn.cc:8310] Unable to register cuDNN factory: Attempting to register factory for plugin cuDNN when one has already been registered\n",
      "E0000 00:00:1747737139.250252      63 cuda_blas.cc:1418] Unable to register cuBLAS factory: Attempting to register factory for plugin cuBLAS when one has already been registered\n",
      "2025-05-20 10:32:19.264520: I tensorflow/core/platform/cpu_feature_guard.cc:210] This TensorFlow binary is optimized to use available CPU instructions in performance-critical operations.\n",
      "To enable the following instructions: AVX2 AVX512F AVX512_VNNI AVX512_BF16 FMA, in other operations, rebuild TensorFlow with the appropriate compiler flags.\n"
     ]
    }
   ],
   "source": [
    "import numpy as np\n",
    "import pandas as pd\n",
    "from sklearn.model_selection import train_test_split\n",
    "from sklearn.preprocessing import MinMaxScaler, LabelEncoder\n",
    "from tensorflow.keras.models import Sequential\n",
    "from tensorflow.keras.layers import LSTM, Dense, Dropout\n",
    "from tensorflow.keras.utils import to_categorical\n",
    "from imblearn.over_sampling import SMOTE\n",
    "import matplotlib.pyplot as plt"
   ]
  },
  {
   "cell_type": "code",
   "execution_count": 8,
   "id": "a4e19e32-f47e-418c-834b-bc3a4e2c4219",
   "metadata": {},
   "outputs": [],
   "source": [
    "def load_and_preprocess_data(filepath):\n",
    "    # Load the data\n",
    "    df = pd.read_csv(filepath)\n",
    "    \n",
    "    # Create binary labels from 'label_mul'\n",
    "    df['binary_label'] = df['label_mul'].apply(lambda x: 0 if x == 0 else 1)\n",
    "    \n",
    "    # Prepare features and labels\n",
    "    y = df['binary_label'].values  # Use the binary labels\n",
    "    X = df.drop(['label_mul', 'binary_label'], axis=1).values  # Drop the original label and binary label\n",
    "    \n",
    "    # Scale the features\n",
    "    scaler = MinMaxScaler()\n",
    "    X_scaled = scaler.fit_transform(X)\n",
    "    \n",
    "    # Reshape the data for LSTM (timesteps, features)\n",
    "    timesteps, features = 1, X_scaled.shape[1] // 1\n",
    "    X_reshaped = X_scaled.reshape(-1, timesteps, features)\n",
    "    \n",
    "    return X_reshaped, y, timesteps, features\n"
   ]
  },
  {
   "cell_type": "code",
   "execution_count": null,
   "id": "e9b2d3d8-efc9-4ff7-af7d-973adf9a3ab0",
   "metadata": {},
   "outputs": [],
   "source": [
    "def load_and_preprocess_data(filepath):\n",
    "    df = pd.read_csv(filepath)\n",
    "    label_encoder = LabelEncoder()\n",
    "    y_encoded = label_encoder.fit_transform(df['label_mul'])\n",
    "    y = to_categorical(y_encoded)\n",
    "    X = df.drop(['label_mul'], axis=1).values\n",
    "    scaler = MinMaxScaler()\n",
    "    X_scaled = scaler.fit_transform(X)\n",
    "    timesteps, features = 1, X_scaled.shape[1] // 1\n",
    "    X_reshaped = X_scaled.reshape(-1, timesteps, features)\n",
    "    return X_reshaped, y, timesteps, features\n"
   ]
  },
  {
   "cell_type": "code",
   "execution_count": 9,
   "id": "e26c5119-6824-4880-8ad5-4d32a1ff65bb",
   "metadata": {},
   "outputs": [],
   "source": [
    "def distribute_data_dirichlet(X, y, num_clients, alpha=0.01):\n",
    "    y_labels = np.argmax(y, axis=1) if y.ndim > 1 else y\n",
    "    num_classes = len(np.unique(y_labels))\n",
    "    class_indices = [np.where(y_labels == i)[0] for i in range(num_classes)]\n",
    "\n",
    "    client_indices = [[] for _ in range(num_clients)]\n",
    "\n",
    "    for c in range(num_classes):\n",
    "        np.random.shuffle(class_indices[c])\n",
    "        proportions = np.random.dirichlet(np.repeat(alpha, num_clients))\n",
    "        proportions = proportions / proportions.sum()  # Normalize proportions\n",
    "\n",
    "        split_points = (np.cumsum(proportions) * len(class_indices[c])).astype(int)\n",
    "        split_points[-1] = len(class_indices[c])  # Ensure last point matches length\n",
    "        splits = np.split(class_indices[c], split_points[:-1])\n",
    "\n",
    "        for i in range(num_clients):\n",
    "            client_indices[i].extend(splits[i])\n",
    "\n",
    "    clients_data = [(X[client_idx], y[client_idx]) for client_idx in client_indices]\n",
    "    return clients_data\n"
   ]
  },
  {
   "cell_type": "code",
   "execution_count": 10,
   "id": "9eecf8e5-1c27-4022-8a3c-29ddda66c18e",
   "metadata": {},
   "outputs": [],
   "source": [
    "import matplotlib.pyplot as plt\n",
    "import matplotlib.cm as cm\n",
    "import numpy as np\n",
    "\n",
    "def plot_label_distribution(clients_data, task_name,alpha,exclude_label=6 ):\n",
    "    num_clients = len(clients_data)\n",
    "    fig, axes = plt.subplots(1, num_clients, figsize=(20, 5), tight_layout=True)\n",
    "    fig.suptitle(f'Label Distribution Across Clients for {task_name} Task aplha ={alpha}')\n",
    "\n",
    "    # Create a color map (using a colormap like 'tab10', 'tab20', etc.)\n",
    "    cmap = plt.get_cmap('tab10')  # tab10 has 10 different colors\n",
    "    colors = [cmap(i) for i in range(10)]  # Adjust according to number of labels you have\n",
    "\n",
    "    for i, (X_client, y_client) in enumerate(clients_data):\n",
    "        labels = np.argmax(y_client, axis=1) if y_client.ndim > 1 else y_client\n",
    "        labels = labels[labels != exclude_label]\n",
    "\n",
    "        unique, counts = np.unique(labels, return_counts=True)\n",
    "\n",
    "        # Assign a color for each unique label\n",
    "        label_colors = [colors[label % len(colors)] for label in unique]\n",
    "\n",
    "        axes[i].bar(unique, counts, color=label_colors)\n",
    "        axes[i].set_title(f'Client {i+1}')\n",
    "        axes[i].set_xlabel('Label')\n",
    "        axes[i].set_ylabel('Count')\n",
    "        axes[i].set_xticks(unique)\n",
    "    plt.savefig('attack_distributiona.png', dpi=600, bbox_inches='tight')\n",
    "    plt.show()\n"
   ]
  },
  {
   "cell_type": "code",
   "execution_count": 11,
   "id": "eb8adea1-a239-4f2e-bed4-aaf9e1dce85f",
   "metadata": {},
   "outputs": [],
   "source": [
    "num_clients = 5\n",
    "num_rounds = 20\n",
    "task_name = 'Non-IID'\n",
    "alpha = 1000"
   ]
  },
  {
   "cell_type": "code",
   "execution_count": 12,
   "id": "857c5127-985b-4a9a-aeb7-50fb841d5e38",
   "metadata": {},
   "outputs": [],
   "source": [
    "X, y, timesteps, features = load_and_preprocess_data(file_path)"
   ]
  },
  {
   "cell_type": "code",
   "execution_count": 13,
   "id": "3e2eefa7-347f-4ef2-9e65-8b768672c555",
   "metadata": {},
   "outputs": [],
   "source": [
    "x_train, x_val, y_train, y_val = train_test_split(X, y, test_size=0.2, random_state=42)"
   ]
  },
  {
   "cell_type": "code",
   "execution_count": 14,
   "id": "960f5a53-d5fd-40a4-8e87-c8329a56ccc9",
   "metadata": {},
   "outputs": [],
   "source": [
    "def apply_smote(X, y):\n",
    "    y_labels = np.argmax(y, axis=1) if y.ndim > 1 else y\n",
    "    smote = SMOTE()\n",
    "    try:\n",
    "        X_reshaped = X.reshape(X.shape[0], -1)\n",
    "        X_resampled, y_resampled_labels = smote.fit_resample(X_reshaped, y_labels)\n",
    "        y_resampled = to_categorical(y_resampled_labels, num_classes=y.shape[1])\n",
    "        X_resampled_reshaped = X_resampled.reshape(-1, X.shape[1], X.shape[2])\n",
    "        return X_resampled_reshaped, y_resampled\n",
    "    except Exception as e:\n",
    "        print(f\"SMOTE could not be applied: {e}\")\n",
    "        return X, y\n"
   ]
  },
  {
   "cell_type": "code",
   "execution_count": 15,
   "id": "74c990cd-d298-415d-8dad-9c5ccd1adfe0",
   "metadata": {},
   "outputs": [
    {
     "name": "stdout",
     "output_type": "stream",
     "text": [
      "SMOTE could not be applied: Input X contains NaN.\n",
      "SMOTE does not accept missing values encoded as NaN natively. For supervised learning, you might want to consider sklearn.ensemble.HistGradientBoostingClassifier and Regressor which accept missing values encoded as NaNs natively. Alternatively, it is possible to preprocess the data, for instance by using an imputer transformer in a pipeline or drop samples with missing values. See https://scikit-learn.org/stable/modules/impute.html You can find a list of all estimators that handle NaN values at the following page: https://scikit-learn.org/stable/modules/impute.html#estimators-that-handle-nan-values\n"
     ]
    }
   ],
   "source": [
    "X_smote, y_smote = apply_smote(x_train, y_train)"
   ]
  },
  {
   "cell_type": "code",
   "execution_count": 16,
   "id": "fd5f0b9b-140c-48a8-9970-7a975cf80ee8",
   "metadata": {},
   "outputs": [],
   "source": [
    "# Distribute data using Dirichlet distribution\n",
    "clients_data = distribute_data_dirichlet(X_smote, y_smote, num_clients, alpha)"
   ]
  },
  {
   "cell_type": "code",
   "execution_count": 17,
   "id": "e08e6eb9-55d1-4774-93ee-b9d14f56e1d3",
   "metadata": {},
   "outputs": [
    {
     "data": {
      "image/png": "[encoded data removed]",
      "text/plain": [
       "<Figure size 2000x500 with 5 Axes>"
      ]
     },
     "metadata": {},
     "output_type": "display_data"
    }
   ],
   "source": [
    "# Plot label distribution\n",
    "plot_label_distribution(clients_data, task_name ,alpha)\n"
   ]
  },
  {
   "cell_type": "code",
   "execution_count": 26,
   "id": "4a367b85-9667-4df1-9e2c-18bbb5852850",
   "metadata": {},
   "outputs": [],
   "source": [
    "# Create an LSTM model\n",
    "def create_lstm_model(input_shape, nb_classes):\n",
    "    model = Sequential([\n",
    "        Bidirectional(LSTM(256, return_sequences=True), input_shape=input_shape),\n",
    "        BatchNormalization(),\n",
    "        Dropout(0.3),\n",
    "        Bidirectional(LSTM(128)),\n",
    "        BatchNormalization(),\n",
    "        Dropout(0.3),\n",
    "        Dense(128, activation='relu'),\n",
    "        Dropout(0.2),\n",
    "        Dense(nb_classes, activation='softmax')\n",
    "    ])\n",
    "    optimizer = Adam(learning_rate=0.001)\n",
    "    model.compile(optimizer=optimizer, loss='categorical_crossentropy', metrics=['accuracy'])\n",
    "    return model\n",
    "# Apply SMOTE to the dataset\n",
    "def apply_smote(X, y):\n",
    "    y_labels = np.argmax(y, axis=1) if y.ndim > 1 else y\n",
    "    smote = SMOTE()\n",
    "    try:\n",
    "        X_reshaped = X.reshape(X.shape[0], -1)\n",
    "        X_resampled, y_resampled_labels = smote.fit_resample(X_reshaped, y_labels)\n",
    "        y_resampled = to_categorical(y_resampled_labels, num_classes=y.shape[1])\n",
    "        X_resampled_reshaped = X_resampled.reshape(-1, X.shape[1], X.shape[2])\n",
    "        return X_resampled_reshaped, y_resampled\n",
    "    except Exception as e:\n",
    "        print(f\"SMOTE could not be applied: {e}\")\n",
    "        return X, y\n",
    "\n",
    "# Federated averaging to aggregate client weights\n",
    "def fedavg_aggregate(client_weights_list):\n",
    "    average_weights = []\n",
    "    for layer in range(len(client_weights_list[0])):\n",
    "        layer_weights = np.mean([client_weights[layer] for client_weights in client_weights_list], axis=0)\n",
    "        average_weights.append(layer_weights)\n",
    "    return average_weights\n",
    "\n",
    "# Distribute data IID among clients\n",
    "def distribute_data_iid(X, y, num_clients):\n",
    "    indices = np.arange(len(X))\n",
    "    np.random.shuffle(indices)\n",
    "    X_shuffled, y_shuffled = X[indices], y[indices]\n",
    "    data_size_per_client = len(X_shuffled) // num_clients\n",
    "    clients_data = [(X_shuffled[i * data_size_per_client: (i + 1) * data_size_per_client],\n",
    "                     y_shuffled[i * data_size_per_client: (i + 1) * data_size_per_client]) for i in range(num_clients)]\n",
    "    if len(X_shuffled) % num_clients != 0:\n",
    "        clients_data[-1] = (np.concatenate((clients_data[-1][0], X_shuffled[num_clients * data_size_per_client:])),\n",
    "                            np.concatenate((clients_data[-1][1], y_shuffled[num_clients * data_size_per_client:])))\n",
    "    return clients_data\n",
    "\n",
    "\n",
    "\n",
    "# Plot label distribution for each client\n",
    "\n",
    "\n",
    "# Train and evaluate the local model for a client\n",
    "def train_and_evaluate_client_model(x_local, y_local, model_config, epochs=1, batch_size=32):\n",
    "    if x_local.size == 0 or y_local.size == 0:\n",
    "        print(\"Skipping training and evaluation due to an empty dataset.\")\n",
    "        return None, None\n",
    "    local_model = Sequential.from_config(model_config)\n",
    "    if y_local.ndim == 1 or y_local.shape[1] != model_config['layers'][-1]['config']['units']:\n",
    "        y_local = to_categorical(y_local, num_classes=model_config['layers'][-1]['config']['units'])\n",
    "    local_model.compile(optimizer='adam', loss='categorical_crossentropy', metrics=['accuracy'])\n",
    "    local_model.fit(x_local, y_local, epochs=epochs, batch_size=batch_size, verbose=0)\n",
    "    loss, accuracy = local_model.evaluate(x_local, y_local, verbose=1)\n",
    "    return local_model.get_weights(), accuracy"
   ]
  },
  {
   "cell_type": "code",
   "execution_count": null,
   "id": "e0eaf160-6a0b-4473-a139-30e767bf2c2c",
   "metadata": {},
   "outputs": [
    {
     "name": "stdout",
     "output_type": "stream",
     "text": [
      "\n",
      "Round 1\n",
      "Local model accuracy: 0.9451\n",
      "Local model accuracy: 0.9999\n",
      "Local model accuracy: 0.9999\n",
      "Local model accuracy: 0.9999\n",
      "Local model accuracy: 0.9999\n",
      "\u001b[1m18145/18145\u001b[0m \u001b[32m━━━━━━━━━━━━━━━━━━━━\u001b[0m\u001b[37m\u001b[0m \u001b[1m23s\u001b[0m 1ms/step - accuracy: 0.9450 - loss: 0.4814\n",
      "Global model accuracy after round 1: 0.9452\n",
      "\n",
      "Round 2\n",
      "Local model accuracy: 0.9451\n",
      "Local model accuracy: 0.9999\n",
      "Local model accuracy: 0.9999\n",
      "Local model accuracy: 0.9999\n",
      "Local model accuracy: 0.9999\n",
      "\u001b[1m18145/18145\u001b[0m \u001b[32m━━━━━━━━━━━━━━━━━━━━\u001b[0m\u001b[37m\u001b[0m \u001b[1m24s\u001b[0m 1ms/step - accuracy: 0.9450 - loss: 0.4859\n",
      "Global model accuracy after round 2: 0.9452\n",
      "\n",
      "Round 3\n",
      "Local model accuracy: 0.9451\n",
      "Local model accuracy: 0.9999\n",
      "Local model accuracy: 0.9999\n",
      "Local model accuracy: 0.9999\n",
      "Local model accuracy: 0.9999\n",
      "\u001b[1m18145/18145\u001b[0m \u001b[32m━━━━━━━━━━━━━━━━━━━━\u001b[0m\u001b[37m\u001b[0m \u001b[1m24s\u001b[0m 1ms/step - accuracy: 0.9450 - loss: 0.4879\n",
      "Global model accuracy after round 3: 0.9452\n",
      "\n",
      "Round 4\n",
      "Local model accuracy: 0.9451\n",
      "Local model accuracy: 0.9999\n",
      "Local model accuracy: 0.9999\n",
      "Local model accuracy: 0.9999\n",
      "Local model accuracy: 0.9999\n",
      "\u001b[1m18145/18145\u001b[0m \u001b[32m━━━━━━━━━━━━━━━━━━━━\u001b[0m\u001b[37m\u001b[0m \u001b[1m24s\u001b[0m 1ms/step - accuracy: 0.9450 - loss: 0.4930\n",
      "Global model accuracy after round 4: 0.9452\n",
      "\n",
      "Round 5\n",
      "Local model accuracy: 0.9451\n",
      "Local model accuracy: 0.9999\n",
      "Local model accuracy: 0.9999\n",
      "Local model accuracy: 0.9999\n",
      "Local model accuracy: 0.9999\n",
      "\u001b[1m18145/18145\u001b[0m \u001b[32m━━━━━━━━━━━━━━━━━━━━\u001b[0m\u001b[37m\u001b[0m \u001b[1m24s\u001b[0m 1ms/step - accuracy: 0.9450 - loss: 0.5055\n",
      "Global model accuracy after round 5: 0.9452\n",
      "\n",
      "Round 6\n",
      "Local model accuracy: 0.9451\n",
      "Local model accuracy: 0.9999\n",
      "Local model accuracy: 0.9999\n",
      "Local model accuracy: 0.9999\n",
      "Local model accuracy: 0.9999\n",
      "\u001b[1m18145/18145\u001b[0m \u001b[32m━━━━━━━━━━━━━━━━━━━━\u001b[0m\u001b[37m\u001b[0m \u001b[1m24s\u001b[0m 1ms/step - accuracy: 0.9450 - loss: 0.5180\n",
      "Global model accuracy after round 6: 0.9452\n",
      "\n",
      "Round 7\n",
      "Local model accuracy: 0.9451\n"
     ]
    }
   ],
   "source": [
    "import numpy as np\n",
    "import matplotlib.pyplot as plt\n",
    "from tensorflow.keras.models import Sequential\n",
    "from tensorflow.keras.layers import LSTM, Dropout, Dense, Bidirectional, BatchNormalization\n",
    "from tensorflow.keras.optimizers import Adam\n",
    "from tensorflow.keras.utils import to_categorical\n",
    "from imblearn.over_sampling import SMOTE\n",
    "\n",
    "# Create improved LSTM model\n",
    "def create_lstm_model(input_shape, nb_classes):\n",
    "    model = Sequential([\n",
    "        Bidirectional(LSTM(256, return_sequences=True), input_shape=input_shape),\n",
    "        BatchNormalization(),\n",
    "        Dropout(0.3),\n",
    "        Bidirectional(LSTM(128)),\n",
    "        BatchNormalization(),\n",
    "        Dropout(0.3),\n",
    "        Dense(128, activation='relu'),\n",
    "        Dropout(0.2),\n",
    "        Dense(nb_classes, activation='softmax')\n",
    "    ])\n",
    "    optimizer = Adam(learning_rate=0.001)\n",
    "    model.compile(optimizer=optimizer, loss='categorical_crossentropy', metrics=['accuracy'])\n",
    "    return model\n",
    "\n",
    "# Apply SMOTE to the dataset\n",
    "def apply_smote(X, y):\n",
    "    y_labels = np.argmax(y, axis=1) if y.ndim > 1 else y\n",
    "    smote = SMOTE()\n",
    "    try:\n",
    "        X_reshaped = X.reshape(X.shape[0], -1)\n",
    "        X_resampled, y_resampled_labels = smote.fit_resample(X_reshaped, y_labels)\n",
    "        y_resampled = to_categorical(y_resampled_labels, num_classes=y.shape[1] if y.ndim > 1 else len(np.unique(y_labels)))\n",
    "        X_resampled_reshaped = X_resampled.reshape(-1, X.shape[1], X.shape[2])\n",
    "        return X_resampled_reshaped, y_resampled\n",
    "    except Exception as e:\n",
    "        print(f\"SMOTE could not be applied: {e}\")\n",
    "        return X, y\n",
    "\n",
    "# Federated averaging to aggregate client weights\n",
    "def fedavg_aggregate(client_weights_list):\n",
    "    average_weights = []\n",
    "    for layer in range(len(client_weights_list[0])):\n",
    "        layer_weights = np.mean([client_weights[layer] for client_weights in client_weights_list], axis=0)\n",
    "        average_weights.append(layer_weights)\n",
    "    return average_weights\n",
    "\n",
    "# Distribute data IID among clients\n",
    "def distribute_data_iid(X, y, num_clients):\n",
    "    indices = np.arange(len(X))\n",
    "    np.random.shuffle(indices)\n",
    "    X_shuffled, y_shuffled = X[indices], y[indices]\n",
    "    data_size_per_client = len(X_shuffled) // num_clients\n",
    "    clients_data = [(X_shuffled[i * data_size_per_client: (i + 1) * data_size_per_client],\n",
    "                     y_shuffled[i * data_size_per_client: (i + 1) * data_size_per_client]) for i in range(num_clients)]\n",
    "    if len(X_shuffled) % num_clients != 0:\n",
    "        clients_data[-1] = (np.concatenate((clients_data[-1][0], X_shuffled[num_clients * data_size_per_client:])),\n",
    "                            np.concatenate((clients_data[-1][1], y_shuffled[num_clients * data_size_per_client:])))\n",
    "    return clients_data\n",
    "\n",
    "# Train and evaluate the local model for a client\n",
    "def train_and_evaluate_client_model(x_local, y_local, model_config, epochs=1, batch_size=32):\n",
    "    if x_local.size == 0 or y_local.size == 0:\n",
    "        print(\"Skipping training and evaluation due to an empty dataset.\")\n",
    "        return None, None\n",
    "    local_model = Sequential.from_config(model_config)\n",
    "    # Check if y_local needs to be one-hot encoded\n",
    "    expected_classes = model_config['layers'][-1]['config']['units']\n",
    "    if y_local.ndim == 1 or (y_local.ndim == 2 and y_local.shape[1] != expected_classes):\n",
    "        y_local = to_categorical(y_local, num_classes=expected_classes)\n",
    "    local_model.compile(optimizer='adam', loss='categorical_crossentropy', metrics=['accuracy'])\n",
    "    local_model.fit(x_local, y_local, epochs=epochs, batch_size=batch_size, verbose=0)\n",
    "    loss, accuracy = local_model.evaluate(x_local, y_local, verbose=0)\n",
    "    return local_model.get_weights(), accuracy\n",
    "\n",
    "# -------- Example usage and federated learning loop --------\n",
    "\n",
    "# Assuming you have preprocessed data X, y and validation data x_val, y_val\n",
    "# Also defined: timesteps, features, num_rounds, num_clients, task_name\n",
    "\n",
    "# Example placeholder variables (replace with your actual preprocessed data)\n",
    "# X, y, timesteps, features should come from your data loading/preprocessing function\n",
    "# x_val, y_val should be validation data\n",
    "# num_rounds = 10\n",
    "# num_clients = 5\n",
    "# task_name = \"EV Charging Security\"\n",
    "\n",
    "# Distribute data among clients\n",
    "clients_data = distribute_data_iid(X, y, num_clients)\n",
    "\n",
    "# Determine number of classes (y is 1D array of labels)\n",
    "num_classes = len(np.unique(y))\n",
    "\n",
    "# Create global model config\n",
    "global_model_config = create_lstm_model((timesteps, features), num_classes).get_config()\n",
    "global_accuracies = []\n",
    "\n",
    "for round_num in range(1, num_rounds + 1):\n",
    "    print(f\"\\nRound {round_num}\")\n",
    "\n",
    "    client_weights = []\n",
    "    for x_client, y_client in clients_data:\n",
    "        weights, accuracy = train_and_evaluate_client_model(x_client, y_client, global_model_config)\n",
    "        if weights is not None:\n",
    "            client_weights.append(weights)\n",
    "            print(f\"Local model accuracy: {accuracy:.4f}\")\n",
    "        else:\n",
    "            print(\"Client training skipped due to empty data.\")\n",
    "\n",
    "    # Aggregate client weights if any clients trained\n",
    "    if client_weights:\n",
    "        new_global_weights = fedavg_aggregate(client_weights)\n",
    "        global_model = Sequential.from_config(global_model_config)\n",
    "        global_model.set_weights(new_global_weights)\n",
    "        global_model.compile(optimizer='adam', loss='categorical_crossentropy', metrics=['accuracy'])\n",
    "\n",
    "        # Ensure y_val is one-hot encoded\n",
    "        if y_val.ndim == 1:\n",
    "            y_val = to_categorical(y_val, num_classes=num_classes)\n",
    "\n",
    "        # Evaluate global model\n",
    "        loss, acc = global_model.evaluate(x_val, y_val, verbose=1)\n",
    "        global_accuracies.append(acc)\n",
    "        print(f\"Global model accuracy after round {round_num}: {acc:.4f}\")\n",
    "    else:\n",
    "        print(\"No client weights to aggregate.\")\n",
    "\n",
    "# Plotting global model accuracy across rounds\n",
    "plt.figure(figsize=(10, 6))\n",
    "plt.plot(range(1, len(global_accuracies) + 1), global_accuracies, marker='o', linestyle='-', color='b')\n",
    "plt.xlabel('Federated Learning Round')\n",
    "plt.ylabel('Global Model Accuracy')\n",
    "plt.title(f'Global Model Accuracy Across Federated Learning Rounds with FedAvg for {task_name} Task')\n",
    "plt.ylim(0, 1)\n",
    "plt.grid(True)\n",
    "plt.show()\n"
   ]
  },
  {
   "cell_type": "code",
   "execution_count": null,
   "id": "2c2d194d-03a3-48d6-b51b-a1c2a5687c4f",
   "metadata": {},
   "outputs": [],
   "source": []
  }
 ],
 "metadata": {
  "kernelspec": {
   "display_name": "Python 3 (ipykernel)",
   "language": "python",
   "name": "python3"
  },
  "language_info": {
   "codemirror_mode": {
    "name": "ipython",
    "version": 3
   },
   "file_extension": ".py",
   "mimetype": "text/x-python",
   "name": "python",
   "nbconvert_exporter": "python",
   "pygments_lexer": "ipython3",
   "version": "3.12.7"
  }
 },
 "nbformat": 4,
 "nbformat_minor": 5
}
