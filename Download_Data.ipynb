{
 "cells": [
  {
   "cell_type": "code",
   "execution_count": 1,
   "id": "489f3a03",
   "metadata": {},
   "outputs": [],
   "source": [
    "import numpy as np\n",
    "import pandas as pd\n",
    "import os"
   ]
  },
  {
   "cell_type": "markdown",
   "id": "e23e2fc0",
   "metadata": {},
   "source": [
    "## Download the dataset"
   ]
  },
  {
   "cell_type": "code",
   "execution_count": 3,
   "id": "e7993217",
   "metadata": {},
   "outputs": [
    {
     "name": "stdout",
     "output_type": "stream",
     "text": [
      "Downloading PowerCombined.csv...\n",
      "Downloaded PowerCombined.csv\n"
     ]
    }
   ],
   "source": [
    "import requests\n",
    "import os\n",
    "\n",
    "# URL of the CSV file\n",
    "file_url = \"http://205.174.165.80/IOTDataset/CICEVSE2024%20Dataset/Dataset/Power%20Consumption/EVSE-B-PowerCombined.csv\"\n",
    "\n",
    "# Download file to current directory\n",
    "file_name = \"EVSE-B-PowerCombined.csv\"\n",
    "\n",
    "# Download the file\n",
    "print(\"Downloading PowerCombined.csv...\")\n",
    "file_response = requests.get(file_url)\n",
    "with open(file_name, 'wb') as f:\n",
    "    f.write(file_response.content)\n",
    "print(\"Downloaded PowerCombined.csv\")"
   ]
  },
  {
   "cell_type": "code",
   "execution_count": 4,
   "id": "11a366f7",
   "metadata": {},
   "outputs": [
    {
     "name": "stdout",
     "output_type": "stream",
     "text": [
      "Downloading HPC.csv...\n",
      "Downloaded HPC.csv\n"
     ]
    }
   ],
   "source": [
    "import requests\n",
    "import os\n",
    "\n",
    "# URL of the CSV file\n",
    "file_url = \"http://205.174.165.80/IOTDataset/CICEVSE2024%20Dataset/Dataset/Host%20Events/EVSE-B-HPC-Kernel-Events-Combined.csv\"\n",
    "\n",
    "# Download file to current directory\n",
    "file_name = \"EVSE-B-HPC-Kernel-Events-Combined.csv\"\n",
    "\n",
    "# Download the file\n",
    "print(\"Downloading HPC.csv...\")\n",
    "file_response = requests.get(file_url)\n",
    "with open(file_name, 'wb') as f:\n",
    "    f.write(file_response.content)\n",
    "print(\"Downloaded HPC.csv\")"
   ]
  },
  {
   "cell_type": "code",
   "execution_count": null,
   "id": "64cb6802",
   "metadata": {},
   "outputs": [],
   "source": [
    "import requests\n",
    "from bs4 import BeautifulSoup\n",
    "import os\n",
    "\n",
    "# URL of the directory containing the CSV files\n",
    "base_url = \"http://205.174.165.80/IOTDataset/CICEVSE2024%20Dataset/Dataset/Network%20Traffic/EVSE-A/csv/\"\n",
    "\n",
    "# Send a request to the URL\n",
    "response = requests.get(base_url)\n",
    "soup = BeautifulSoup(response.text, 'html.parser')\n",
    "\n",
    "# Create a directory to save the downloaded files\n",
    "os.makedirs('Dataset', exist_ok=True)\n",
    "\n",
    "# Find all links on the page\n",
    "for link in soup.find_all('a'):\n",
    "    href = link.get('href')\n",
    "    if href.endswith('.csv'):\n",
    "        file_url = base_url + href\n",
    "        print(f\"Downloading {href}...\")\n",
    "        file_response = requests.get(file_url)\n",
    "        with open(os.path.join('Dataset', href), 'wb') as f:\n",
    "            f.write(file_response.content)\n",
    "        print(f\"Downloaded {href}\")\n",
    "\n",
    "print(\"All files downloaded.\")"
   ]
  },
  {
   "cell_type": "code",
   "execution_count": 2,
   "id": "7cf94949",
   "metadata": {},
   "outputs": [
    {
     "ename": "InvalidSchema",
     "evalue": "No connection adapters were found for 'D:/CICEVSE2024_Dataset/Network Traffic/EVSE-B/'",
     "output_type": "error",
     "traceback": [
      "\u001b[1;31m---------------------------------------------------------------------------\u001b[0m",
      "\u001b[1;31mInvalidSchema\u001b[0m                             Traceback (most recent call last)",
      "Cell \u001b[1;32mIn[2], line 9\u001b[0m\n\u001b[0;32m      6\u001b[0m base_url \u001b[38;5;241m=\u001b[39m \u001b[38;5;124m\"\u001b[39m\u001b[38;5;124mD:/CICEVSE2024_Dataset/Network Traffic/EVSE-B/\u001b[39m\u001b[38;5;124m\"\u001b[39m\n\u001b[0;32m      8\u001b[0m \u001b[38;5;66;03m# Send a request to the URL\u001b[39;00m\n\u001b[1;32m----> 9\u001b[0m response \u001b[38;5;241m=\u001b[39m requests\u001b[38;5;241m.\u001b[39mget(base_url)\n\u001b[0;32m     10\u001b[0m soup \u001b[38;5;241m=\u001b[39m BeautifulSoup(response\u001b[38;5;241m.\u001b[39mtext, \u001b[38;5;124m'\u001b[39m\u001b[38;5;124mhtml.parser\u001b[39m\u001b[38;5;124m'\u001b[39m)\n\u001b[0;32m     12\u001b[0m \u001b[38;5;66;03m# Create a directory to save the downloaded files\u001b[39;00m\n",
      "File \u001b[1;32mc:\\Users\\MALIKA\\AppData\\Local\\anaconda3\\Lib\\site-packages\\requests\\api.py:73\u001b[0m, in \u001b[0;36mget\u001b[1;34m(url, params, **kwargs)\u001b[0m\n\u001b[0;32m     62\u001b[0m \u001b[38;5;28;01mdef\u001b[39;00m \u001b[38;5;21mget\u001b[39m(url, params\u001b[38;5;241m=\u001b[39m\u001b[38;5;28;01mNone\u001b[39;00m, \u001b[38;5;241m*\u001b[39m\u001b[38;5;241m*\u001b[39mkwargs):\n\u001b[0;32m     63\u001b[0m \u001b[38;5;250m    \u001b[39m\u001b[38;5;124mr\u001b[39m\u001b[38;5;124;03m\"\"\"Sends a GET request.\u001b[39;00m\n\u001b[0;32m     64\u001b[0m \n\u001b[0;32m     65\u001b[0m \u001b[38;5;124;03m    :param url: URL for the new :class:`Request` object.\u001b[39;00m\n\u001b[1;32m   (...)\u001b[0m\n\u001b[0;32m     70\u001b[0m \u001b[38;5;124;03m    :rtype: requests.Response\u001b[39;00m\n\u001b[0;32m     71\u001b[0m \u001b[38;5;124;03m    \"\"\"\u001b[39;00m\n\u001b[1;32m---> 73\u001b[0m     \u001b[38;5;28;01mreturn\u001b[39;00m request(\u001b[38;5;124m\"\u001b[39m\u001b[38;5;124mget\u001b[39m\u001b[38;5;124m\"\u001b[39m, url, params\u001b[38;5;241m=\u001b[39mparams, \u001b[38;5;241m*\u001b[39m\u001b[38;5;241m*\u001b[39mkwargs)\n",
      "File \u001b[1;32mc:\\Users\\MALIKA\\AppData\\Local\\anaconda3\\Lib\\site-packages\\requests\\api.py:59\u001b[0m, in \u001b[0;36mrequest\u001b[1;34m(method, url, **kwargs)\u001b[0m\n\u001b[0;32m     55\u001b[0m \u001b[38;5;66;03m# By using the 'with' statement we are sure the session is closed, thus we\u001b[39;00m\n\u001b[0;32m     56\u001b[0m \u001b[38;5;66;03m# avoid leaving sockets open which can trigger a ResourceWarning in some\u001b[39;00m\n\u001b[0;32m     57\u001b[0m \u001b[38;5;66;03m# cases, and look like a memory leak in others.\u001b[39;00m\n\u001b[0;32m     58\u001b[0m \u001b[38;5;28;01mwith\u001b[39;00m sessions\u001b[38;5;241m.\u001b[39mSession() \u001b[38;5;28;01mas\u001b[39;00m session:\n\u001b[1;32m---> 59\u001b[0m     \u001b[38;5;28;01mreturn\u001b[39;00m session\u001b[38;5;241m.\u001b[39mrequest(method\u001b[38;5;241m=\u001b[39mmethod, url\u001b[38;5;241m=\u001b[39murl, \u001b[38;5;241m*\u001b[39m\u001b[38;5;241m*\u001b[39mkwargs)\n",
      "File \u001b[1;32mc:\\Users\\MALIKA\\AppData\\Local\\anaconda3\\Lib\\site-packages\\requests\\sessions.py:589\u001b[0m, in \u001b[0;36mSession.request\u001b[1;34m(self, method, url, params, data, headers, cookies, files, auth, timeout, allow_redirects, proxies, hooks, stream, verify, cert, json)\u001b[0m\n\u001b[0;32m    584\u001b[0m send_kwargs \u001b[38;5;241m=\u001b[39m {\n\u001b[0;32m    585\u001b[0m     \u001b[38;5;124m\"\u001b[39m\u001b[38;5;124mtimeout\u001b[39m\u001b[38;5;124m\"\u001b[39m: timeout,\n\u001b[0;32m    586\u001b[0m     \u001b[38;5;124m\"\u001b[39m\u001b[38;5;124mallow_redirects\u001b[39m\u001b[38;5;124m\"\u001b[39m: allow_redirects,\n\u001b[0;32m    587\u001b[0m }\n\u001b[0;32m    588\u001b[0m send_kwargs\u001b[38;5;241m.\u001b[39mupdate(settings)\n\u001b[1;32m--> 589\u001b[0m resp \u001b[38;5;241m=\u001b[39m \u001b[38;5;28mself\u001b[39m\u001b[38;5;241m.\u001b[39msend(prep, \u001b[38;5;241m*\u001b[39m\u001b[38;5;241m*\u001b[39msend_kwargs)\n\u001b[0;32m    591\u001b[0m \u001b[38;5;28;01mreturn\u001b[39;00m resp\n",
      "File \u001b[1;32mc:\\Users\\MALIKA\\AppData\\Local\\anaconda3\\Lib\\site-packages\\requests\\sessions.py:697\u001b[0m, in \u001b[0;36mSession.send\u001b[1;34m(self, request, **kwargs)\u001b[0m\n\u001b[0;32m    694\u001b[0m hooks \u001b[38;5;241m=\u001b[39m request\u001b[38;5;241m.\u001b[39mhooks\n\u001b[0;32m    696\u001b[0m \u001b[38;5;66;03m# Get the appropriate adapter to use\u001b[39;00m\n\u001b[1;32m--> 697\u001b[0m adapter \u001b[38;5;241m=\u001b[39m \u001b[38;5;28mself\u001b[39m\u001b[38;5;241m.\u001b[39mget_adapter(url\u001b[38;5;241m=\u001b[39mrequest\u001b[38;5;241m.\u001b[39murl)\n\u001b[0;32m    699\u001b[0m \u001b[38;5;66;03m# Start time (approximately) of the request\u001b[39;00m\n\u001b[0;32m    700\u001b[0m start \u001b[38;5;241m=\u001b[39m preferred_clock()\n",
      "File \u001b[1;32mc:\\Users\\MALIKA\\AppData\\Local\\anaconda3\\Lib\\site-packages\\requests\\sessions.py:794\u001b[0m, in \u001b[0;36mSession.get_adapter\u001b[1;34m(self, url)\u001b[0m\n\u001b[0;32m    791\u001b[0m         \u001b[38;5;28;01mreturn\u001b[39;00m adapter\n\u001b[0;32m    793\u001b[0m \u001b[38;5;66;03m# Nothing matches :-/\u001b[39;00m\n\u001b[1;32m--> 794\u001b[0m \u001b[38;5;28;01mraise\u001b[39;00m InvalidSchema(\u001b[38;5;124mf\u001b[39m\u001b[38;5;124m\"\u001b[39m\u001b[38;5;124mNo connection adapters were found for \u001b[39m\u001b[38;5;132;01m{\u001b[39;00murl\u001b[38;5;132;01m!r}\u001b[39;00m\u001b[38;5;124m\"\u001b[39m)\n",
      "\u001b[1;31mInvalidSchema\u001b[0m: No connection adapters were found for 'D:/CICEVSE2024_Dataset/Network Traffic/EVSE-B/'"
     ]
    }
   ],
   "source": [
    "import requests\n",
    "from bs4 import BeautifulSoup\n",
    "import os\n",
    "\n",
    "# URL of the directory containing the CSV files\n",
    "base_url = \"D:/CICEVSE2024_Dataset/Network Traffic/EVSE-B/\"\n",
    "\n",
    "# Send a request to the URL\n",
    "response = requests.get(base_url)\n",
    "soup = BeautifulSoup(response.text, 'html.parser')\n",
    "\n",
    "# Create a directory to save the downloaded files\n",
    "os.makedirs('Dataset', exist_ok=True)\n",
    "\n",
    "# Find all links on the page\n",
    "for link in soup.find_all('a'):\n",
    "    href = link.get('href')\n",
    "    if href.endswith('.csv'):\n",
    "        file_url = base_url + href\n",
    "        print(f\"Downloading {href}...\")\n",
    "        file_response = requests.get(file_url)\n",
    "        with open(os.path.join('Dataset', href), 'wb') as f:\n",
    "            f.write(file_response.content)\n",
    "        print(f\"Downloaded {href}\")\n",
    "\n",
    "print(\"All files downloaded.\")"
   ]
  },
  {
   "cell_type": "markdown",
   "id": "a82f7cd9",
   "metadata": {},
   "source": [
    "## Merge train data"
   ]
  },
  {
   "cell_type": "code",
   "execution_count": 3,
   "id": "e3926ac3",
   "metadata": {
    "scrolled": true
   },
   "outputs": [
    {
     "name": "stderr",
     "output_type": "stream",
     "text": [
      "C:\\Users\\MALIKA\\AppData\\Local\\Temp\\ipykernel_8696\\2516083501.py:8: DtypeWarning: Columns (81) have mixed types. Specify dtype option on import or set low_memory=False.\n",
      "  csv_dataframes = {os.path.basename(file): pd.read_csv(file) for file in csv_files}\n",
      "C:\\Users\\MALIKA\\AppData\\Local\\Temp\\ipykernel_8696\\2516083501.py:8: DtypeWarning: Columns (81) have mixed types. Specify dtype option on import or set low_memory=False.\n",
      "  csv_dataframes = {os.path.basename(file): pd.read_csv(file) for file in csv_files}\n",
      "C:\\Users\\MALIKA\\AppData\\Local\\Temp\\ipykernel_8696\\2516083501.py:8: DtypeWarning: Columns (81) have mixed types. Specify dtype option on import or set low_memory=False.\n",
      "  csv_dataframes = {os.path.basename(file): pd.read_csv(file) for file in csv_files}\n",
      "C:\\Users\\MALIKA\\AppData\\Local\\Temp\\ipykernel_8696\\2516083501.py:8: DtypeWarning: Columns (81,82,84) have mixed types. Specify dtype option on import or set low_memory=False.\n",
      "  csv_dataframes = {os.path.basename(file): pd.read_csv(file) for file in csv_files}\n",
      "C:\\Users\\MALIKA\\AppData\\Local\\Temp\\ipykernel_8696\\2516083501.py:8: DtypeWarning: Columns (81) have mixed types. Specify dtype option on import or set low_memory=False.\n",
      "  csv_dataframes = {os.path.basename(file): pd.read_csv(file) for file in csv_files}\n",
      "C:\\Users\\MALIKA\\AppData\\Local\\Temp\\ipykernel_8696\\2516083501.py:8: DtypeWarning: Columns (81,82,84) have mixed types. Specify dtype option on import or set low_memory=False.\n",
      "  csv_dataframes = {os.path.basename(file): pd.read_csv(file) for file in csv_files}\n",
      "C:\\Users\\MALIKA\\AppData\\Local\\Temp\\ipykernel_8696\\2516083501.py:8: DtypeWarning: Columns (81) have mixed types. Specify dtype option on import or set low_memory=False.\n",
      "  csv_dataframes = {os.path.basename(file): pd.read_csv(file) for file in csv_files}\n",
      "C:\\Users\\MALIKA\\AppData\\Local\\Temp\\ipykernel_8696\\2516083501.py:8: DtypeWarning: Columns (81,82) have mixed types. Specify dtype option on import or set low_memory=False.\n",
      "  csv_dataframes = {os.path.basename(file): pd.read_csv(file) for file in csv_files}\n",
      "C:\\Users\\MALIKA\\AppData\\Local\\Temp\\ipykernel_8696\\2516083501.py:8: DtypeWarning: Columns (81) have mixed types. Specify dtype option on import or set low_memory=False.\n",
      "  csv_dataframes = {os.path.basename(file): pd.read_csv(file) for file in csv_files}\n",
      "C:\\Users\\MALIKA\\AppData\\Local\\Temp\\ipykernel_8696\\2516083501.py:8: DtypeWarning: Columns (81,82,84) have mixed types. Specify dtype option on import or set low_memory=False.\n",
      "  csv_dataframes = {os.path.basename(file): pd.read_csv(file) for file in csv_files}\n",
      "C:\\Users\\MALIKA\\AppData\\Local\\Temp\\ipykernel_8696\\2516083501.py:8: DtypeWarning: Columns (81) have mixed types. Specify dtype option on import or set low_memory=False.\n",
      "  csv_dataframes = {os.path.basename(file): pd.read_csv(file) for file in csv_files}\n",
      "C:\\Users\\MALIKA\\AppData\\Local\\Temp\\ipykernel_8696\\2516083501.py:8: DtypeWarning: Columns (81) have mixed types. Specify dtype option on import or set low_memory=False.\n",
      "  csv_dataframes = {os.path.basename(file): pd.read_csv(file) for file in csv_files}\n",
      "C:\\Users\\MALIKA\\AppData\\Local\\Temp\\ipykernel_8696\\2516083501.py:8: DtypeWarning: Columns (81) have mixed types. Specify dtype option on import or set low_memory=False.\n",
      "  csv_dataframes = {os.path.basename(file): pd.read_csv(file) for file in csv_files}\n",
      "C:\\Users\\MALIKA\\AppData\\Local\\Temp\\ipykernel_8696\\2516083501.py:8: DtypeWarning: Columns (81) have mixed types. Specify dtype option on import or set low_memory=False.\n",
      "  csv_dataframes = {os.path.basename(file): pd.read_csv(file) for file in csv_files}\n",
      "C:\\Users\\MALIKA\\AppData\\Local\\Temp\\ipykernel_8696\\2516083501.py:8: DtypeWarning: Columns (81,82) have mixed types. Specify dtype option on import or set low_memory=False.\n",
      "  csv_dataframes = {os.path.basename(file): pd.read_csv(file) for file in csv_files}\n",
      "C:\\Users\\MALIKA\\AppData\\Local\\Temp\\ipykernel_8696\\2516083501.py:8: DtypeWarning: Columns (81) have mixed types. Specify dtype option on import or set low_memory=False.\n",
      "  csv_dataframes = {os.path.basename(file): pd.read_csv(file) for file in csv_files}\n",
      "C:\\Users\\MALIKA\\AppData\\Local\\Temp\\ipykernel_8696\\2516083501.py:8: DtypeWarning: Columns (81,82) have mixed types. Specify dtype option on import or set low_memory=False.\n",
      "  csv_dataframes = {os.path.basename(file): pd.read_csv(file) for file in csv_files}\n",
      "C:\\Users\\MALIKA\\AppData\\Local\\Temp\\ipykernel_8696\\2516083501.py:8: DtypeWarning: Columns (81) have mixed types. Specify dtype option on import or set low_memory=False.\n",
      "  csv_dataframes = {os.path.basename(file): pd.read_csv(file) for file in csv_files}\n",
      "C:\\Users\\MALIKA\\AppData\\Local\\Temp\\ipykernel_8696\\2516083501.py:8: DtypeWarning: Columns (81,82) have mixed types. Specify dtype option on import or set low_memory=False.\n",
      "  csv_dataframes = {os.path.basename(file): pd.read_csv(file) for file in csv_files}\n",
      "C:\\Users\\MALIKA\\AppData\\Local\\Temp\\ipykernel_8696\\2516083501.py:8: DtypeWarning: Columns (81,82) have mixed types. Specify dtype option on import or set low_memory=False.\n",
      "  csv_dataframes = {os.path.basename(file): pd.read_csv(file) for file in csv_files}\n",
      "C:\\Users\\MALIKA\\AppData\\Local\\Temp\\ipykernel_8696\\2516083501.py:8: DtypeWarning: Columns (81) have mixed types. Specify dtype option on import or set low_memory=False.\n",
      "  csv_dataframes = {os.path.basename(file): pd.read_csv(file) for file in csv_files}\n",
      "C:\\Users\\MALIKA\\AppData\\Local\\Temp\\ipykernel_8696\\2516083501.py:8: DtypeWarning: Columns (81) have mixed types. Specify dtype option on import or set low_memory=False.\n",
      "  csv_dataframes = {os.path.basename(file): pd.read_csv(file) for file in csv_files}\n"
     ]
    }
   ],
   "source": [
    "# Specify the path where your CSV files are stored\n",
    "csv_folder = \"D:/CICEVSE2024_Dataset/Network Traffic/EVSE-B/csv/\"\n",
    "\n",
    "# Get a list of all CSV files in the folder\n",
    "csv_files = [os.path.join(csv_folder, f) for f in os.listdir(csv_folder) if f.endswith(\".csv\")]\n",
    "\n",
    "# Load all CSV files into a dictionary of DataFrames\n",
    "csv_dataframes = {os.path.basename(file): pd.read_csv(file) for file in csv_files}\n"
   ]
  },
  {
   "cell_type": "code",
   "execution_count": 4,
   "id": "815686ee-b411-45d4-8772-743ce5900b1d",
   "metadata": {
    "scrolled": true
   },
   "outputs": [
    {
     "name": "stdout",
     "output_type": "stream",
     "text": [
      "charging aggressive scan\n",
      "charging icmp flood\n",
      "charging os fingerprinting\n",
      "charging port scan\n",
      "charging push ack flood\n",
      "charging service detection scan\n",
      "charging syn flood\n",
      "charging syn stealth\n",
      "charging synonymous ip flood\n",
      "charging tcp flood\n",
      "charging udp flood\n",
      "charging vulnerability scan\n",
      "idle aggressive scan\n",
      "idle icmp flood\n",
      "idle icmp fragmentation\n",
      "idle os fingerprinting\n",
      "idle port scan\n",
      "idle push ack flood\n",
      "idle service detection\n",
      "idle syn flood\n",
      "idle syn stealth scan\n",
      "idle synonymous ip flood\n",
      "idle tcp flood\n",
      "idle udp flood\n",
      "idle vulnerability scan\n",
      "MaliciousEV aggressive scan\n",
      "MaliciousEV os fingerprinting\n",
      "MaliciousEV port scan\n",
      "MaliciousEV service detection\n",
      "MaliciousEV syn stealth scan\n",
      "MaliciousEV vulnerability scan\n"
     ]
    }
   ],
   "source": [
    "for file_name, df in csv_dataframes.items():\n",
    "    # Extract label from the file name\n",
    "    label = \" \".join(file_name.split(\".\")[0].split(\"-\")[2:])\n",
    "    print(label)"
   ]
  },
  {
   "cell_type": "code",
   "execution_count": 5,
   "id": "322afdfa",
   "metadata": {},
   "outputs": [],
   "source": [
    "# Process each CSV file to add the `label_mul` column based on file names\n",
    "updated_dataframes = {}\n",
    "\n",
    "for file_name, df in csv_dataframes.items():\n",
    "    # Extract label from the file name\n",
    "    label = \" \".join(file_name.split(\".\")[0].split(\"-\")[2:])\n",
    "    # Add a new column `label_mul` with the extracted label\n",
    "    df[\"label_mul\"] = label\n",
    "    \n",
    "    # Save the updated DataFrame back to the dictionary\n",
    "    updated_dataframes[file_name] = df\n",
    "\n",
    "# Merging all updated DataFrames into a single DataFrame\n",
    "ta = pd.concat(updated_dataframes.values(), ignore_index=True)\n",
    "\n",
    "\n",
    "# Save the merged data to a new CSV file\n",
    "merged_output_path = \"./CICEVSE2024.csv\"\n",
    "ta.to_csv(merged_output_path, index=False)\n"
   ]
  },
  {
   "cell_type": "code",
   "execution_count": null,
   "id": "9ceabb60",
   "metadata": {},
   "outputs": [],
   "source": []
  }
 ],
 "metadata": {
  "kernelspec": {
   "display_name": "base",
   "language": "python",
   "name": "python3"
  },
  "language_info": {
   "codemirror_mode": {
    "name": "ipython",
    "version": 3
   },
   "file_extension": ".py",
   "mimetype": "text/x-python",
   "name": "python",
   "nbconvert_exporter": "python",
   "pygments_lexer": "ipython3",
   "version": "3.11.5"
  }
 },
 "nbformat": 4,
 "nbformat_minor": 5
}
