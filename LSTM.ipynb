{
 "cells": [
  {
   "cell_type": "code",
   "execution_count": 1,
   "metadata": {},
   "outputs": [
    {
     "name": "stderr",
     "output_type": "stream",
     "text": [
      "C:\\Users\\MALIKA\\AppData\\Local\\Temp\\ipykernel_16152\\99778511.py:2: DtypeWarning: Columns (81,82,83,84,85) have mixed types. Specify dtype option on import or set low_memory=False.\n",
      "  df = pd.read_csv('CICEVSE2024.csv')\n"
     ]
    }
   ],
   "source": [
    "import pandas as pd\n",
    "df = pd.read_csv('CICEVSE2024.csv')"
   ]
  },
  {
   "cell_type": "code",
   "execution_count": 2,
   "metadata": {},
   "outputs": [
    {
     "name": "stdout",
     "output_type": "stream",
     "text": [
      "Descriptive Statistics:\n",
      "                 id  expiration_id      src_port      dst_port      protocol  \\\n",
      "count  2.744700e+06   2.744700e+06  2.744700e+06  2.744700e+06  2.744700e+06   \n",
      "mean   5.374561e+04   2.477502e-05  4.320332e+04  5.828036e+03  6.134726e+00   \n",
      "std    4.915507e+04   4.977390e-03  1.565881e+04  1.197252e+04  1.365722e+00   \n",
      "min    0.000000e+00   0.000000e+00  0.000000e+00  0.000000e+00  1.000000e+00   \n",
      "25%    1.763075e+04   0.000000e+00  3.560700e+04  8.000000e+01  6.000000e+00   \n",
      "50%    4.017200e+04   0.000000e+00  4.551900e+04  1.091000e+03  6.000000e+00   \n",
      "75%    6.734400e+04   0.000000e+00  5.516000e+04  5.903000e+03  6.000000e+00   \n",
      "max    2.280000e+05   1.000000e+00  6.553500e+04  6.553500e+04  2.460000e+02   \n",
      "\n",
      "         ip_version    vlan_id     tunnel_id  bidirectional_first_seen_ms  \\\n",
      "count  2.744700e+06  2744700.0  2.744700e+06                 2.744700e+06   \n",
      "mean   4.000039e+00        0.0  1.093016e-06                 1.703149e+12   \n",
      "std    8.788533e-03        0.0  1.810814e-03                 6.687425e+07   \n",
      "min    4.000000e+00        0.0  0.000000e+00                 1.702999e+12   \n",
      "25%    4.000000e+00        0.0  0.000000e+00                 1.703095e+12   \n",
      "50%    4.000000e+00        0.0  0.000000e+00                 1.703186e+12   \n",
      "75%    4.000000e+00        0.0  0.000000e+00                 1.703189e+12   \n",
      "max    6.000000e+00        0.0  3.000000e+00                 1.704401e+12   \n",
      "\n",
      "       bidirectional_last_seen_ms  ...  dst2src_syn_packets  \\\n",
      "count                2.744700e+06  ...         2.744700e+06   \n",
      "mean                 1.703149e+12  ...         1.626014e-01   \n",
      "std                  6.689286e+07  ...         8.247693e-01   \n",
      "min                  1.702999e+12  ...         0.000000e+00   \n",
      "25%                  1.703096e+12  ...         0.000000e+00   \n",
      "50%                  1.703186e+12  ...         0.000000e+00   \n",
      "75%                  1.703189e+12  ...         0.000000e+00   \n",
      "max                  1.704402e+12  ...         1.600000e+01   \n",
      "\n",
      "       dst2src_cwr_packets  dst2src_ece_packets  dst2src_urg_packets  \\\n",
      "count            2744700.0         2.744700e+06            2744700.0   \n",
      "mean                   0.0         1.380843e-04                  0.0   \n",
      "std                    0.0         2.054871e-02                  0.0   \n",
      "min                    0.0         0.000000e+00                  0.0   \n",
      "25%                    0.0         0.000000e+00                  0.0   \n",
      "50%                    0.0         0.000000e+00                  0.0   \n",
      "75%                    0.0         0.000000e+00                  0.0   \n",
      "max                    0.0         5.000000e+00                  0.0   \n",
      "\n",
      "       dst2src_ack_packets  dst2src_psh_packets  dst2src_rst_packets  \\\n",
      "count         2.744700e+06         2.744700e+06         2.744700e+06   \n",
      "mean          8.509003e-01         5.471563e-02         8.896612e-01   \n",
      "std           1.728915e+01         1.688503e+01         1.274879e+00   \n",
      "min           0.000000e+00         0.000000e+00         0.000000e+00   \n",
      "25%           0.000000e+00         0.000000e+00         0.000000e+00   \n",
      "50%           1.000000e+00         0.000000e+00         1.000000e+00   \n",
      "75%           1.000000e+00         0.000000e+00         1.000000e+00   \n",
      "max           6.905000e+03         6.767000e+03         1.900000e+01   \n",
      "\n",
      "       dst2src_fin_packets  application_is_guessed  application_confidence  \n",
      "count         2.744700e+06            2.744700e+06            2.744700e+06  \n",
      "mean          7.079098e-04            3.984964e-01            4.745484e-01  \n",
      "std           3.182334e-02            4.895887e-01            7.934813e-01  \n",
      "min           0.000000e+00            0.000000e+00            0.000000e+00  \n",
      "25%           0.000000e+00            0.000000e+00            0.000000e+00  \n",
      "50%           0.000000e+00            0.000000e+00            0.000000e+00  \n",
      "75%           0.000000e+00            1.000000e+00            1.000000e+00  \n",
      "max           7.000000e+00            1.000000e+00            6.000000e+00  \n",
      "\n",
      "[8 rows x 73 columns]\n",
      "\n",
      "Data Types and Missing Values:\n",
      "<class 'pandas.core.frame.DataFrame'>\n",
      "RangeIndex: 2744700 entries, 0 to 2744699\n",
      "Data columns (total 87 columns):\n",
      " #   Column                        Dtype  \n",
      "---  ------                        -----  \n",
      " 0   id                            int64  \n",
      " 1   expiration_id                 int64  \n",
      " 2   src_ip                        object \n",
      " 3   src_mac                       object \n",
      " 4   src_oui                       object \n",
      " 5   src_port                      int64  \n",
      " 6   dst_ip                        object \n",
      " 7   dst_mac                       object \n",
      " 8   dst_oui                       object \n",
      " 9   dst_port                      int64  \n",
      " 10  protocol                      int64  \n",
      " 11  ip_version                    int64  \n",
      " 12  vlan_id                       int64  \n",
      " 13  tunnel_id                     int64  \n",
      " 14  bidirectional_first_seen_ms   int64  \n",
      " 15  bidirectional_last_seen_ms    int64  \n",
      " 16  bidirectional_duration_ms     int64  \n",
      " 17  bidirectional_packets         int64  \n",
      " 18  bidirectional_bytes           int64  \n",
      " 19  src2dst_first_seen_ms         int64  \n",
      " 20  src2dst_last_seen_ms          int64  \n",
      " 21  src2dst_duration_ms           int64  \n",
      " 22  src2dst_packets               int64  \n",
      " 23  src2dst_bytes                 int64  \n",
      " 24  dst2src_first_seen_ms         int64  \n",
      " 25  dst2src_last_seen_ms          int64  \n",
      " 26  dst2src_duration_ms           int64  \n",
      " 27  dst2src_packets               int64  \n",
      " 28  dst2src_bytes                 int64  \n",
      " 29  bidirectional_min_ps          int64  \n",
      " 30  bidirectional_mean_ps         float64\n",
      " 31  bidirectional_stddev_ps       float64\n",
      " 32  bidirectional_max_ps          int64  \n",
      " 33  src2dst_min_ps                int64  \n",
      " 34  src2dst_mean_ps               float64\n",
      " 35  src2dst_stddev_ps             float64\n",
      " 36  src2dst_max_ps                int64  \n",
      " 37  dst2src_min_ps                int64  \n",
      " 38  dst2src_mean_ps               float64\n",
      " 39  dst2src_stddev_ps             float64\n",
      " 40  dst2src_max_ps                int64  \n",
      " 41  bidirectional_min_piat_ms     int64  \n",
      " 42  bidirectional_mean_piat_ms    float64\n",
      " 43  bidirectional_stddev_piat_ms  float64\n",
      " 44  bidirectional_max_piat_ms     int64  \n",
      " 45  src2dst_min_piat_ms           int64  \n",
      " 46  src2dst_mean_piat_ms          float64\n",
      " 47  src2dst_stddev_piat_ms        float64\n",
      " 48  src2dst_max_piat_ms           int64  \n",
      " 49  dst2src_min_piat_ms           int64  \n",
      " 50  dst2src_mean_piat_ms          float64\n",
      " 51  dst2src_stddev_piat_ms        float64\n",
      " 52  dst2src_max_piat_ms           int64  \n",
      " 53  bidirectional_syn_packets     int64  \n",
      " 54  bidirectional_cwr_packets     int64  \n",
      " 55  bidirectional_ece_packets     int64  \n",
      " 56  bidirectional_urg_packets     int64  \n",
      " 57  bidirectional_ack_packets     int64  \n",
      " 58  bidirectional_psh_packets     int64  \n",
      " 59  bidirectional_rst_packets     int64  \n",
      " 60  bidirectional_fin_packets     int64  \n",
      " 61  src2dst_syn_packets           int64  \n",
      " 62  src2dst_cwr_packets           int64  \n",
      " 63  src2dst_ece_packets           int64  \n",
      " 64  src2dst_urg_packets           int64  \n",
      " 65  src2dst_ack_packets           int64  \n",
      " 66  src2dst_psh_packets           int64  \n",
      " 67  src2dst_rst_packets           int64  \n",
      " 68  src2dst_fin_packets           int64  \n",
      " 69  dst2src_syn_packets           int64  \n",
      " 70  dst2src_cwr_packets           int64  \n",
      " 71  dst2src_ece_packets           int64  \n",
      " 72  dst2src_urg_packets           int64  \n",
      " 73  dst2src_ack_packets           int64  \n",
      " 74  dst2src_psh_packets           int64  \n",
      " 75  dst2src_rst_packets           int64  \n",
      " 76  dst2src_fin_packets           int64  \n",
      " 77  application_name              object \n",
      " 78  application_category_name     object \n",
      " 79  application_is_guessed        int64  \n",
      " 80  application_confidence        int64  \n",
      " 81  requested_server_name         object \n",
      " 82  client_fingerprint            object \n",
      " 83  server_fingerprint            object \n",
      " 84  user_agent                    object \n",
      " 85  content_type                  object \n",
      " 86  label_mul                     object \n",
      "dtypes: float64(12), int64(61), object(14)\n",
      "memory usage: 1.8+ GB\n",
      "None\n",
      "\n",
      "Missing Values Count:\n",
      "id                          0\n",
      "expiration_id               0\n",
      "src_ip                      0\n",
      "src_mac                     0\n",
      "src_oui                     0\n",
      "                       ...   \n",
      "client_fingerprint    2744102\n",
      "server_fingerprint    2744162\n",
      "user_agent            2744167\n",
      "content_type          2744559\n",
      "label_mul                   0\n",
      "Length: 87, dtype: int64\n"
     ]
    }
   ],
   "source": [
    "print(\"Descriptive Statistics:\")\n",
    "print(df.describe())\n",
    "\n",
    "# Data types and missing values\n",
    "print(\"\\nData Types and Missing Values:\")\n",
    "print(df.info())\n",
    "print(\"\\nMissing Values Count:\")\n",
    "print(df.isnull().sum())"
   ]
  },
  {
   "cell_type": "code",
   "execution_count": 3,
   "metadata": {},
   "outputs": [
    {
     "name": "stdout",
     "output_type": "stream",
     "text": [
      "Columns with missing values: ['requested_server_name', 'client_fingerprint', 'server_fingerprint', 'user_agent', 'content_type']\n"
     ]
    }
   ],
   "source": [
    "# Print columns with missing values\n",
    "missing_columns = df.columns[df.isnull().sum() > 0]\n",
    "print(\"Columns with missing values:\", missing_columns.tolist())"
   ]
  },
  {
   "cell_type": "code",
   "execution_count": 4,
   "metadata": {},
   "outputs": [
    {
     "data": {
      "text/html": [
       "<div>\n",
       "<style scoped>\n",
       "    .dataframe tbody tr th:only-of-type {\n",
       "        vertical-align: middle;\n",
       "    }\n",
       "\n",
       "    .dataframe tbody tr th {\n",
       "        vertical-align: top;\n",
       "    }\n",
       "\n",
       "    .dataframe thead th {\n",
       "        text-align: right;\n",
       "    }\n",
       "</style>\n",
       "<table border=\"1\" class=\"dataframe\">\n",
       "  <thead>\n",
       "    <tr style=\"text-align: right;\">\n",
       "      <th></th>\n",
       "      <th>id</th>\n",
       "      <th>expiration_id</th>\n",
       "      <th>src_ip</th>\n",
       "      <th>src_mac</th>\n",
       "      <th>src_oui</th>\n",
       "      <th>src_port</th>\n",
       "      <th>dst_ip</th>\n",
       "      <th>dst_mac</th>\n",
       "      <th>dst_oui</th>\n",
       "      <th>dst_port</th>\n",
       "      <th>...</th>\n",
       "      <th>dst2src_urg_packets</th>\n",
       "      <th>dst2src_ack_packets</th>\n",
       "      <th>dst2src_psh_packets</th>\n",
       "      <th>dst2src_rst_packets</th>\n",
       "      <th>dst2src_fin_packets</th>\n",
       "      <th>application_name</th>\n",
       "      <th>application_category_name</th>\n",
       "      <th>application_is_guessed</th>\n",
       "      <th>application_confidence</th>\n",
       "      <th>label_mul</th>\n",
       "    </tr>\n",
       "  </thead>\n",
       "  <tbody>\n",
       "    <tr>\n",
       "      <th>0</th>\n",
       "      <td>0</td>\n",
       "      <td>0</td>\n",
       "      <td>192.168.137.85</td>\n",
       "      <td>a8:6b:ad:1f:9b:e5</td>\n",
       "      <td>a8:6b:ad</td>\n",
       "      <td>42750</td>\n",
       "      <td>192.168.137.226</td>\n",
       "      <td>0c:8b:95:09:c6:08</td>\n",
       "      <td>0c:8b:95</td>\n",
       "      <td>256</td>\n",
       "      <td>...</td>\n",
       "      <td>0</td>\n",
       "      <td>1</td>\n",
       "      <td>0</td>\n",
       "      <td>1</td>\n",
       "      <td>0</td>\n",
       "      <td>Unknown</td>\n",
       "      <td>Unspecified</td>\n",
       "      <td>0</td>\n",
       "      <td>0</td>\n",
       "      <td>charging Aggressive scan</td>\n",
       "    </tr>\n",
       "    <tr>\n",
       "      <th>1</th>\n",
       "      <td>1</td>\n",
       "      <td>0</td>\n",
       "      <td>192.168.137.85</td>\n",
       "      <td>a8:6b:ad:1f:9b:e5</td>\n",
       "      <td>a8:6b:ad</td>\n",
       "      <td>42750</td>\n",
       "      <td>192.168.137.226</td>\n",
       "      <td>0c:8b:95:09:c6:08</td>\n",
       "      <td>0c:8b:95</td>\n",
       "      <td>993</td>\n",
       "      <td>...</td>\n",
       "      <td>0</td>\n",
       "      <td>1</td>\n",
       "      <td>0</td>\n",
       "      <td>1</td>\n",
       "      <td>0</td>\n",
       "      <td>IMAPS</td>\n",
       "      <td>Email</td>\n",
       "      <td>1</td>\n",
       "      <td>1</td>\n",
       "      <td>charging Aggressive scan</td>\n",
       "    </tr>\n",
       "    <tr>\n",
       "      <th>2</th>\n",
       "      <td>2</td>\n",
       "      <td>0</td>\n",
       "      <td>192.168.137.85</td>\n",
       "      <td>a8:6b:ad:1f:9b:e5</td>\n",
       "      <td>a8:6b:ad</td>\n",
       "      <td>42750</td>\n",
       "      <td>192.168.137.226</td>\n",
       "      <td>0c:8b:95:09:c6:08</td>\n",
       "      <td>0c:8b:95</td>\n",
       "      <td>139</td>\n",
       "      <td>...</td>\n",
       "      <td>0</td>\n",
       "      <td>1</td>\n",
       "      <td>0</td>\n",
       "      <td>1</td>\n",
       "      <td>0</td>\n",
       "      <td>NetBIOS</td>\n",
       "      <td>System</td>\n",
       "      <td>1</td>\n",
       "      <td>1</td>\n",
       "      <td>charging Aggressive scan</td>\n",
       "    </tr>\n",
       "    <tr>\n",
       "      <th>3</th>\n",
       "      <td>3</td>\n",
       "      <td>0</td>\n",
       "      <td>192.168.137.85</td>\n",
       "      <td>a8:6b:ad:1f:9b:e5</td>\n",
       "      <td>a8:6b:ad</td>\n",
       "      <td>42750</td>\n",
       "      <td>192.168.137.226</td>\n",
       "      <td>0c:8b:95:09:c6:08</td>\n",
       "      <td>0c:8b:95</td>\n",
       "      <td>143</td>\n",
       "      <td>...</td>\n",
       "      <td>0</td>\n",
       "      <td>1</td>\n",
       "      <td>0</td>\n",
       "      <td>1</td>\n",
       "      <td>0</td>\n",
       "      <td>IMAP</td>\n",
       "      <td>Email</td>\n",
       "      <td>1</td>\n",
       "      <td>1</td>\n",
       "      <td>charging Aggressive scan</td>\n",
       "    </tr>\n",
       "    <tr>\n",
       "      <th>4</th>\n",
       "      <td>4</td>\n",
       "      <td>0</td>\n",
       "      <td>192.168.137.85</td>\n",
       "      <td>a8:6b:ad:1f:9b:e5</td>\n",
       "      <td>a8:6b:ad</td>\n",
       "      <td>42750</td>\n",
       "      <td>192.168.137.226</td>\n",
       "      <td>0c:8b:95:09:c6:08</td>\n",
       "      <td>0c:8b:95</td>\n",
       "      <td>135</td>\n",
       "      <td>...</td>\n",
       "      <td>0</td>\n",
       "      <td>1</td>\n",
       "      <td>0</td>\n",
       "      <td>1</td>\n",
       "      <td>0</td>\n",
       "      <td>RPC</td>\n",
       "      <td>RPC</td>\n",
       "      <td>1</td>\n",
       "      <td>1</td>\n",
       "      <td>charging Aggressive scan</td>\n",
       "    </tr>\n",
       "  </tbody>\n",
       "</table>\n",
       "<p>5 rows × 82 columns</p>\n",
       "</div>"
      ],
      "text/plain": [
       "   id  expiration_id          src_ip            src_mac   src_oui  src_port  \\\n",
       "0   0              0  192.168.137.85  a8:6b:ad:1f:9b:e5  a8:6b:ad     42750   \n",
       "1   1              0  192.168.137.85  a8:6b:ad:1f:9b:e5  a8:6b:ad     42750   \n",
       "2   2              0  192.168.137.85  a8:6b:ad:1f:9b:e5  a8:6b:ad     42750   \n",
       "3   3              0  192.168.137.85  a8:6b:ad:1f:9b:e5  a8:6b:ad     42750   \n",
       "4   4              0  192.168.137.85  a8:6b:ad:1f:9b:e5  a8:6b:ad     42750   \n",
       "\n",
       "            dst_ip            dst_mac   dst_oui  dst_port  ...  \\\n",
       "0  192.168.137.226  0c:8b:95:09:c6:08  0c:8b:95       256  ...   \n",
       "1  192.168.137.226  0c:8b:95:09:c6:08  0c:8b:95       993  ...   \n",
       "2  192.168.137.226  0c:8b:95:09:c6:08  0c:8b:95       139  ...   \n",
       "3  192.168.137.226  0c:8b:95:09:c6:08  0c:8b:95       143  ...   \n",
       "4  192.168.137.226  0c:8b:95:09:c6:08  0c:8b:95       135  ...   \n",
       "\n",
       "   dst2src_urg_packets  dst2src_ack_packets  dst2src_psh_packets  \\\n",
       "0                    0                    1                    0   \n",
       "1                    0                    1                    0   \n",
       "2                    0                    1                    0   \n",
       "3                    0                    1                    0   \n",
       "4                    0                    1                    0   \n",
       "\n",
       "   dst2src_rst_packets  dst2src_fin_packets  application_name  \\\n",
       "0                    1                    0           Unknown   \n",
       "1                    1                    0             IMAPS   \n",
       "2                    1                    0           NetBIOS   \n",
       "3                    1                    0              IMAP   \n",
       "4                    1                    0               RPC   \n",
       "\n",
       "   application_category_name  application_is_guessed  application_confidence  \\\n",
       "0                Unspecified                       0                       0   \n",
       "1                      Email                       1                       1   \n",
       "2                     System                       1                       1   \n",
       "3                      Email                       1                       1   \n",
       "4                        RPC                       1                       1   \n",
       "\n",
       "                  label_mul  \n",
       "0  charging Aggressive scan  \n",
       "1  charging Aggressive scan  \n",
       "2  charging Aggressive scan  \n",
       "3  charging Aggressive scan  \n",
       "4  charging Aggressive scan  \n",
       "\n",
       "[5 rows x 82 columns]"
      ]
     },
     "execution_count": 4,
     "metadata": {},
     "output_type": "execute_result"
    }
   ],
   "source": [
    "df_ = df.copy()\n",
    "df_.drop(columns = ['requested_server_name', 'client_fingerprint', 'server_fingerprint', 'user_agent', 'content_type'], inplace = True)\n",
    "df_.head()"
   ]
  },
  {
   "cell_type": "code",
   "execution_count": 5,
   "metadata": {},
   "outputs": [
    {
     "name": "stdout",
     "output_type": "stream",
     "text": [
      "<class 'pandas.core.frame.DataFrame'>\n",
      "RangeIndex: 2744700 entries, 0 to 2744699\n",
      "Data columns (total 82 columns):\n",
      " #   Column                        Dtype  \n",
      "---  ------                        -----  \n",
      " 0   id                            int64  \n",
      " 1   expiration_id                 int64  \n",
      " 2   src_ip                        object \n",
      " 3   src_mac                       object \n",
      " 4   src_oui                       object \n",
      " 5   src_port                      int64  \n",
      " 6   dst_ip                        object \n",
      " 7   dst_mac                       object \n",
      " 8   dst_oui                       object \n",
      " 9   dst_port                      int64  \n",
      " 10  protocol                      int64  \n",
      " 11  ip_version                    int64  \n",
      " 12  vlan_id                       int64  \n",
      " 13  tunnel_id                     int64  \n",
      " 14  bidirectional_first_seen_ms   int64  \n",
      " 15  bidirectional_last_seen_ms    int64  \n",
      " 16  bidirectional_duration_ms     int64  \n",
      " 17  bidirectional_packets         int64  \n",
      " 18  bidirectional_bytes           int64  \n",
      " 19  src2dst_first_seen_ms         int64  \n",
      " 20  src2dst_last_seen_ms          int64  \n",
      " 21  src2dst_duration_ms           int64  \n",
      " 22  src2dst_packets               int64  \n",
      " 23  src2dst_bytes                 int64  \n",
      " 24  dst2src_first_seen_ms         int64  \n",
      " 25  dst2src_last_seen_ms          int64  \n",
      " 26  dst2src_duration_ms           int64  \n",
      " 27  dst2src_packets               int64  \n",
      " 28  dst2src_bytes                 int64  \n",
      " 29  bidirectional_min_ps          int64  \n",
      " 30  bidirectional_mean_ps         float64\n",
      " 31  bidirectional_stddev_ps       float64\n",
      " 32  bidirectional_max_ps          int64  \n",
      " 33  src2dst_min_ps                int64  \n",
      " 34  src2dst_mean_ps               float64\n",
      " 35  src2dst_stddev_ps             float64\n",
      " 36  src2dst_max_ps                int64  \n",
      " 37  dst2src_min_ps                int64  \n",
      " 38  dst2src_mean_ps               float64\n",
      " 39  dst2src_stddev_ps             float64\n",
      " 40  dst2src_max_ps                int64  \n",
      " 41  bidirectional_min_piat_ms     int64  \n",
      " 42  bidirectional_mean_piat_ms    float64\n",
      " 43  bidirectional_stddev_piat_ms  float64\n",
      " 44  bidirectional_max_piat_ms     int64  \n",
      " 45  src2dst_min_piat_ms           int64  \n",
      " 46  src2dst_mean_piat_ms          float64\n",
      " 47  src2dst_stddev_piat_ms        float64\n",
      " 48  src2dst_max_piat_ms           int64  \n",
      " 49  dst2src_min_piat_ms           int64  \n",
      " 50  dst2src_mean_piat_ms          float64\n",
      " 51  dst2src_stddev_piat_ms        float64\n",
      " 52  dst2src_max_piat_ms           int64  \n",
      " 53  bidirectional_syn_packets     int64  \n",
      " 54  bidirectional_cwr_packets     int64  \n",
      " 55  bidirectional_ece_packets     int64  \n",
      " 56  bidirectional_urg_packets     int64  \n",
      " 57  bidirectional_ack_packets     int64  \n",
      " 58  bidirectional_psh_packets     int64  \n",
      " 59  bidirectional_rst_packets     int64  \n",
      " 60  bidirectional_fin_packets     int64  \n",
      " 61  src2dst_syn_packets           int64  \n",
      " 62  src2dst_cwr_packets           int64  \n",
      " 63  src2dst_ece_packets           int64  \n",
      " 64  src2dst_urg_packets           int64  \n",
      " 65  src2dst_ack_packets           int64  \n",
      " 66  src2dst_psh_packets           int64  \n",
      " 67  src2dst_rst_packets           int64  \n",
      " 68  src2dst_fin_packets           int64  \n",
      " 69  dst2src_syn_packets           int64  \n",
      " 70  dst2src_cwr_packets           int64  \n",
      " 71  dst2src_ece_packets           int64  \n",
      " 72  dst2src_urg_packets           int64  \n",
      " 73  dst2src_ack_packets           int64  \n",
      " 74  dst2src_psh_packets           int64  \n",
      " 75  dst2src_rst_packets           int64  \n",
      " 76  dst2src_fin_packets           int64  \n",
      " 77  application_name              object \n",
      " 78  application_category_name     object \n",
      " 79  application_is_guessed        int64  \n",
      " 80  application_confidence        int64  \n",
      " 81  label_mul                     object \n",
      "dtypes: float64(12), int64(61), object(9)\n",
      "memory usage: 1.7+ GB\n"
     ]
    }
   ],
   "source": [
    "df_ = df_.dropna()\n",
    "df_.info()"
   ]
  },
  {
   "cell_type": "code",
   "execution_count": 6,
   "metadata": {},
   "outputs": [
    {
     "name": "stdout",
     "output_type": "stream",
     "text": [
      "['aggressive-scan' 'None' 'icmp-flood' 'icmp-fragmentation'\n",
      " 'os-fingerpriting' 'TCP-port-scan' 'pshack-flood'\n",
      " 'service-version-detection' 'slowloris-scan' 'syn-flood'\n",
      " 'syn-stealth-scan' 'synonymousIP-flood' 'TCP-flood' 'upd-flood'\n",
      " 'vulnerability-scan']\n",
      "<class 'pandas.core.frame.DataFrame'>\n",
      "RangeIndex: 2744700 entries, 0 to 2744699\n",
      "Data columns (total 75 columns):\n",
      " #   Column                        Dtype  \n",
      "---  ------                        -----  \n",
      " 0   src_ip                        object \n",
      " 1   dst_ip                        object \n",
      " 2   protocol                      int64  \n",
      " 3   ip_version                    int64  \n",
      " 4   vlan_id                       int64  \n",
      " 5   tunnel_id                     int64  \n",
      " 6   bidirectional_first_seen_ms   int64  \n",
      " 7   bidirectional_last_seen_ms    int64  \n",
      " 8   bidirectional_duration_ms     int64  \n",
      " 9   bidirectional_packets         int64  \n",
      " 10  bidirectional_bytes           int64  \n",
      " 11  src2dst_first_seen_ms         int64  \n",
      " 12  src2dst_last_seen_ms          int64  \n",
      " 13  src2dst_duration_ms           int64  \n",
      " 14  src2dst_packets               int64  \n",
      " 15  src2dst_bytes                 int64  \n",
      " 16  dst2src_first_seen_ms         int64  \n",
      " 17  dst2src_last_seen_ms          int64  \n",
      " 18  dst2src_duration_ms           int64  \n",
      " 19  dst2src_packets               int64  \n",
      " 20  dst2src_bytes                 int64  \n",
      " 21  bidirectional_min_ps          int64  \n",
      " 22  bidirectional_mean_ps         float64\n",
      " 23  bidirectional_stddev_ps       float64\n",
      " 24  bidirectional_max_ps          int64  \n",
      " 25  src2dst_min_ps                int64  \n",
      " 26  src2dst_mean_ps               float64\n",
      " 27  src2dst_stddev_ps             float64\n",
      " 28  src2dst_max_ps                int64  \n",
      " 29  dst2src_min_ps                int64  \n",
      " 30  dst2src_mean_ps               float64\n",
      " 31  dst2src_stddev_ps             float64\n",
      " 32  dst2src_max_ps                int64  \n",
      " 33  bidirectional_min_piat_ms     int64  \n",
      " 34  bidirectional_mean_piat_ms    float64\n",
      " 35  bidirectional_stddev_piat_ms  float64\n",
      " 36  bidirectional_max_piat_ms     int64  \n",
      " 37  src2dst_min_piat_ms           int64  \n",
      " 38  src2dst_mean_piat_ms          float64\n",
      " 39  src2dst_stddev_piat_ms        float64\n",
      " 40  src2dst_max_piat_ms           int64  \n",
      " 41  dst2src_min_piat_ms           int64  \n",
      " 42  dst2src_mean_piat_ms          float64\n",
      " 43  dst2src_stddev_piat_ms        float64\n",
      " 44  dst2src_max_piat_ms           int64  \n",
      " 45  bidirectional_syn_packets     int64  \n",
      " 46  bidirectional_cwr_packets     int64  \n",
      " 47  bidirectional_ece_packets     int64  \n",
      " 48  bidirectional_urg_packets     int64  \n",
      " 49  bidirectional_ack_packets     int64  \n",
      " 50  bidirectional_psh_packets     int64  \n",
      " 51  bidirectional_rst_packets     int64  \n",
      " 52  bidirectional_fin_packets     int64  \n",
      " 53  src2dst_syn_packets           int64  \n",
      " 54  src2dst_cwr_packets           int64  \n",
      " 55  src2dst_ece_packets           int64  \n",
      " 56  src2dst_urg_packets           int64  \n",
      " 57  src2dst_ack_packets           int64  \n",
      " 58  src2dst_psh_packets           int64  \n",
      " 59  src2dst_rst_packets           int64  \n",
      " 60  src2dst_fin_packets           int64  \n",
      " 61  dst2src_syn_packets           int64  \n",
      " 62  dst2src_cwr_packets           int64  \n",
      " 63  dst2src_ece_packets           int64  \n",
      " 64  dst2src_urg_packets           int64  \n",
      " 65  dst2src_ack_packets           int64  \n",
      " 66  dst2src_psh_packets           int64  \n",
      " 67  dst2src_rst_packets           int64  \n",
      " 68  dst2src_fin_packets           int64  \n",
      " 69  application_name              object \n",
      " 70  application_category_name     object \n",
      " 71  application_is_guessed        int64  \n",
      " 72  application_confidence        int64  \n",
      " 73  label_mul                     object \n",
      " 74  label_bi                      int32  \n",
      "dtypes: float64(12), int32(1), int64(57), object(5)\n",
      "memory usage: 1.5+ GB\n"
     ]
    }
   ],
   "source": [
    "ev = df_.copy()\n",
    "import numpy as np\n",
    "\n",
    "ev['label_mul'] = ev['label_mul'].str.replace(r'\\d+$', '', regex=True)\n",
    "ev['label_bi'] = np.where(ev['label_mul'].isin(['idle benign', 'Charging Benign']), 0, 1)\n",
    "ev['src_ip'] = ev['src_ip'].astype(str)+\":\"+ev['src_port'].astype(str)\n",
    "ev['dst_ip'] = ev['dst_ip'].astype(str)+\":\"+ev['dst_port'].astype(str)\n",
    "ev.drop(columns=['id', 'expiration_id', 'src_mac', 'src_oui', 'dst_mac', 'dst_oui', 'src_port','dst_port'], inplace=True)\n",
    "# Original to new label mapping\n",
    "label_mapping = {\n",
    "    'charging Aggressive scan': 'aggressive-scan',\n",
    "    'Charging Benign': 'None',\n",
    "    'charging icmp flood': 'icmp-flood',\n",
    "    'charging icmp fragmentation': 'icmp-fragmentation',\n",
    "    'charging os fingerprinting': 'os-fingerpriting',\n",
    "    'charging portscan': 'TCP-port-scan',\n",
    "    'charging push ack flood': 'pshack-flood',\n",
    "    'charging service detection': 'service-version-detection',\n",
    "    'charging slowLoris scan': 'slowloris-scan',\n",
    "    'charging syn flood': 'syn-flood',\n",
    "    'charging syn stealth': 'syn-stealth-scan',\n",
    "    'charging synonymous ip': 'synonymousIP-flood',\n",
    "    'charging tcp flood': 'TCP-flood',\n",
    "    'charging udp flood': 'upd-flood',\n",
    "    'charging vulnerability scan': 'vulnerability-scan',\n",
    "    'idle aggressive scan': 'aggressive-scan',\n",
    "    'idle benign': 'None',\n",
    "    'idle icmp fragmentation': 'icmp-fragmentation',\n",
    "    'idle os fingerprinting': 'os-fingerpriting',\n",
    "    'idle portscan': 'TCP-port-scan',\n",
    "    'idle service detection': 'service-version-detection',\n",
    "    'idle slowloris scan': 'slowloris-scan',\n",
    "    'idle syn flood': 'syn-flood',\n",
    "    'idle syn stealth scan': 'syn-stealth-scan',\n",
    "    'idle synonymous ip': 'synonymousIP-flood',\n",
    "    'idle tcp flood': 'TCP-flood',\n",
    "    'idle udp flood': 'upd-flood',\n",
    "    'idle vulnerability scan': 'vulnerability-scan',\n",
    "    'charging aggressive scan': 'aggressive-scan',\n",
    "    'charging port scan': 'TCP-port-scan',\n",
    "    'charging service detection scan': 'service-version-detection',\n",
    "    'charging synonymous ip flood': 'synonymousIP-flood',\n",
    "    'idle icmp flood': 'icmp-flood',\n",
    "    'idle port scan': 'TCP-port-scan',\n",
    "    'idle push ack flood': 'pshack-flood',\n",
    "    'idle synonymous ip flood': 'synonymousIP-flood',\n",
    "    'MaliciousEV aggressive scan': 'aggressive-scan',\n",
    "    'MaliciousEV os fingerprinting': 'os-fingerpriting',\n",
    "    'MaliciousEV port scan': 'TCP-port-scan',\n",
    "    'MaliciousEV service detection': 'service-version-detection',\n",
    "    'MaliciousEV syn stealth scan': 'syn-stealth-scan',\n",
    "    'MaliciousEV vulnerability scan': 'vulnerability-scan'\n",
    "}\n",
    "\n",
    "# Apply the mapping to the label_mul column\n",
    "ev['label_mul'] = ev['label_mul'].map(label_mapping)\n",
    "\n",
    "# Verify the mapping\n",
    "print(ev['label_mul'].unique())\n",
    "ev['vlan_id'].unique(), ev['dst2src_cwr_packets'].unique(), ev['dst2src_urg_packets'].unique()\n",
    "ev.info()"
   ]
  },
  {
   "cell_type": "code",
   "execution_count": 7,
   "metadata": {},
   "outputs": [
    {
     "name": "stdout",
     "output_type": "stream",
     "text": [
      "   application_name  application_category_name\n",
      "0                61                         14\n",
      "1                23                          5\n",
      "2                35                         13\n",
      "3                22                          5\n",
      "4                42                         11\n",
      "         label_mul Scenario\n",
      "0  aggressive-scan    Recon\n",
      "1  aggressive-scan    Recon\n",
      "2  aggressive-scan    Recon\n",
      "3  aggressive-scan    Recon\n",
      "4  aggressive-scan    Recon\n"
     ]
    }
   ],
   "source": [
    "from sklearn.preprocessing import LabelEncoder\n",
    "\n",
    "# List of object columns to encode\n",
    "object_columns = [\n",
    "    \"application_name\",\n",
    "    \"application_category_name\",\n",
    "]\n",
    "\n",
    "# Apply label encoding to each column\n",
    "label_encoders = {}  # To store the encoders for each column\n",
    "for col in object_columns:\n",
    "    label_encoders[col] = LabelEncoder()  # Create a LabelEncoder for each column\n",
    "    ev[col] = label_encoders[col].fit_transform(ev[col].astype(str))  # Encode the column\n",
    "\n",
    "# Verify the result\n",
    "print(ev[object_columns].head())\n",
    "# Define a mapping dictionary for the 'Attack' column\n",
    "attack_mapping = {\n",
    "    'aggressive-scan': 'Recon',\n",
    "    'None': 'Benign',\n",
    "    'icmp-flood': 'DoS',\n",
    "    'icmp-fragmentation': 'DoS',\n",
    "    'os-fingerpriting': 'Recon',\n",
    "    'TCP-port-scan': 'Recon',\n",
    "    'pshack-flood': 'DoS',\n",
    "    'service-version-detection': 'Recon',\n",
    "    'slowloris-scan': 'DoS',\n",
    "    'syn-flood': 'DoS',\n",
    "    'syn-stealth-scan': 'Recon',\n",
    "    'synonymousIP-flood': 'DoS',\n",
    "    'TCP-flood': 'DoS',\n",
    "    'upd-flood': 'DoS',\n",
    "    'vulnerability-scan': 'Recon'\n",
    "}\n",
    "\n",
    "# Map the 'Attack' column to the new categories\n",
    "ev['Scenario'] = ev['label_mul'].map(attack_mapping)\n",
    "\n",
    "# Verify the mapping\n",
    "print(ev[['label_mul', 'Scenario']].head())\n"
   ]
  },
  {
   "cell_type": "code",
   "execution_count": 8,
   "metadata": {},
   "outputs": [
    {
     "data": {
      "text/plain": [
       "array([1, 0, 2], dtype=int64)"
      ]
     },
     "execution_count": 8,
     "metadata": {},
     "output_type": "execute_result"
    }
   ],
   "source": [
    "ev.drop(columns = ['label_mul'], inplace=True)\n",
    "ev['Scenario'].replace({\"Benign\":0, \"Recon\":1, \"DoS\":2, \"Cryptojacking\":3, \"Backdoor\":4\n",
    "}, inplace= True)\n",
    "ev['Scenario'].unique()"
   ]
  },
  {
   "cell_type": "code",
   "execution_count": 9,
   "metadata": {},
   "outputs": [],
   "source": [
    "import torch\n",
    "import torch.nn.functional as F\n",
    "from torch_geometric.nn import SAGEConv\n",
    "from torch_geometric.data import Data\n",
    "from torch_geometric.loader import DataLoader\n",
    "from tqdm import tqdm\n",
    "from sklearn.preprocessing import StandardScaler\n",
    "\n",
    "# Step 1: Create a Mapping for Each Unique IP\n",
    "all_ips = list(set(ev['src_ip']) | set(ev['dst_ip']))\n",
    "ip_map = {ip: i for i, ip in enumerate(all_ips)}\n",
    "\n",
    "# Step 2: Convert Source and Destination IPs to Indices\n",
    "a = [ip_map[ip] for ip in ev['src_ip']]\n",
    "b = [ip_map[ip] for ip in ev['dst_ip']]\n",
    "edge_index = torch.tensor([a, b], dtype=torch.long)\n",
    "\n",
    "# Step 3: Use Learnable Embeddings for IP Addresses as Node Features\n",
    "num_nodes = len(all_ips)\n",
    "embedding_dim = 16  # Can be tuned\n",
    "node_features = torch.nn.Embedding(num_nodes, embedding_dim)\n",
    "\n",
    "# Step 4: Edge Features (PCA-Reduced)\n",
    "edge_features = ev.iloc[:, 2:73].to_numpy()  # Edge Features\n",
    "scaler = StandardScaler()\n",
    "edge_features_standardized = scaler.fit_transform(edge_features)\n",
    "edge_attr = torch.tensor(edge_features_standardized, dtype=torch.float)\n",
    "\n",
    "# Step 5: Labels\n",
    "labels = torch.tensor(ev['label_bi'].values, dtype=torch.long)"
   ]
  },
  {
   "cell_type": "code",
   "execution_count": 10,
   "metadata": {},
   "outputs": [],
   "source": [
    "\n",
    "# Create PyG Data Object\n",
    "data = Data(x=node_features.weight, edge_index=edge_index, edge_attr=edge_attr, y=labels)\n",
    "\n",
    "# Split Dataset\n",
    "num_edges = edge_index.shape[1]\n",
    "indices = torch.randperm(num_edges)\n",
    "split = int(0.7 * num_edges)\n",
    "train_idx = indices[:split]\n",
    "test_idx = indices[split:]\n",
    "\n",
    "train_edge_index = edge_index[:, train_idx]\n",
    "test_edge_index = edge_index[:, test_idx]\n",
    "\n",
    "train_edge_attr = edge_attr[train_idx]\n",
    "test_edge_attr = edge_attr[test_idx]\n",
    "\n",
    "train_labels = labels[train_idx]\n",
    "test_labels = labels[test_idx]\n",
    "\n",
    "train_data = Data(x=node_features.weight, edge_index=train_edge_index, edge_attr=train_edge_attr, y=train_labels)\n",
    "test_data = Data(x=node_features.weight, edge_index=test_edge_index, edge_attr=test_edge_attr, y=test_labels)\n",
    "\n",
    "# DataLoader\n",
    "train_loader = DataLoader([train_data], batch_size=32, shuffle=True)\n",
    "test_loader = DataLoader([test_data], batch_size=32)\n"
   ]
  },
  {
   "cell_type": "code",
   "execution_count": 11,
   "metadata": {},
   "outputs": [],
   "source": [
    "import torch\n",
    "import torch.nn.functional as F\n",
    "from torch_geometric.nn import GCNConv, SAGEConv, GATConv, GINConv, MessagePassing\n",
    "from torch_geometric.data import Data\n",
    "\n",
    "class EdgeGNN(torch.nn.Module):\n",
    "    def __init__(self, in_channels, hidden_channels, out_channels, gnn_type=\"SAGE\"):\n",
    "        super(EdgeGNN, self).__init__()\n",
    "\n",
    "        # 🔹 Choose GNN Type\n",
    "        if gnn_type == \"GCN\":\n",
    "            self.conv1 = GCNConv(in_channels, hidden_channels)\n",
    "            self.conv2 = GCNConv(hidden_channels, hidden_channels)\n",
    "        elif gnn_type == \"GAT\":\n",
    "            self.conv1 = GATConv(in_channels, hidden_channels, heads=2, concat=False)\n",
    "            self.conv2 = GATConv(hidden_channels, hidden_channels, heads=2, concat=False)\n",
    "        elif gnn_type == \"GIN\":\n",
    "            self.conv1 = GINConv(torch.nn.Sequential(\n",
    "                torch.nn.Linear(in_channels, hidden_channels),\n",
    "                torch.nn.ReLU(),\n",
    "                torch.nn.Linear(hidden_channels, hidden_channels)\n",
    "            ))\n",
    "            self.conv2 = GINConv(torch.nn.Sequential(\n",
    "                torch.nn.Linear(hidden_channels, hidden_channels),\n",
    "                torch.nn.ReLU(),\n",
    "                torch.nn.Linear(hidden_channels, hidden_channels)\n",
    "            ))\n",
    "        elif gnn_type == \"MPNN\":\n",
    "            class MPNNLayer(MessagePassing):\n",
    "                def __init__(self, in_channels, out_channels):\n",
    "                    super().__init__(aggr='mean')  # Aggregation function\n",
    "                    self.linear = torch.nn.Linear(in_channels, out_channels)\n",
    "\n",
    "                def forward(self, x, edge_index):\n",
    "                    return self.linear(self.propagate(edge_index, x=x))\n",
    "\n",
    "                def message(self, x_j):\n",
    "                    return x_j\n",
    "\n",
    "            self.conv1 = MPNNLayer(in_channels, hidden_channels)\n",
    "            self.conv2 = MPNNLayer(hidden_channels, hidden_channels)\n",
    "        elif gnn_type == \"SAGE\":  # Explicitly add GraphSAGE\n",
    "            self.conv1 = SAGEConv(in_channels, hidden_channels)\n",
    "            self.conv2 = SAGEConv(hidden_channels, hidden_channels)\n",
    "        else:\n",
    "            raise ValueError(\"Invalid GNN type. Choose from ['GCN', 'GAT', 'GIN', 'MPNN', 'Graphormer', 'SAGE']\")\n",
    "\n",
    "        # Edge MLP Classifier\n",
    "        self.edge_mlp = torch.nn.Linear(hidden_channels * 2 + edge_attr.shape[1], out_channels)\n",
    "\n",
    "    def forward(self, x, edge_index, edge_attr):\n",
    "        x = self.conv1(x, edge_index)\n",
    "        x = self.conv2(x, edge_index)\n",
    "        x = F.relu(x)\n",
    "\n",
    "        # Compute Edge Embeddings\n",
    "        src, dst = edge_index\n",
    "        edge_embeddings = torch.cat([x[src], x[dst], edge_attr], dim=1)\n",
    "\n",
    "        # Predict Edge Labels\n",
    "        edge_logits = self.edge_mlp(edge_embeddings)\n",
    "        return edge_logits\n",
    "\n",
    "\n",
    "\n",
    "# Model, Optimizer, Loss\n",
    "device = torch.device('cuda' if torch.cuda.is_available() else 'cpu')\n",
    "gnn_type = \"SAGE\"\n",
    "\n",
    "# Create Model\n",
    "model = EdgeGNN(\n",
    "    in_channels=embedding_dim,\n",
    "    hidden_channels=32,\n",
    "    out_channels=len(labels.unique()),\n",
    "    gnn_type=gnn_type\n",
    ").to(device)\n",
    "\n",
    "optimizer = torch.optim.Adam(model.parameters(), lr=0.001)\n",
    "class_counts = torch.bincount(labels)  # Count occurrences of each class\n",
    "class_weights = 1.0 / class_counts.float()  # Inverse of frequency\n",
    "class_weights = class_weights / class_weights.sum()  # Normalize\n",
    "class_weights = class_weights.to(device)  # Move to GPU if needed\n",
    "criterion = torch.nn.CrossEntropyLoss(weight=class_weights)"
   ]
  },
  {
   "cell_type": "code",
   "execution_count": 12,
   "metadata": {},
   "outputs": [],
   "source": [
    "# Model, Optimizer, Loss\n",
    "device = torch.device('cuda' if torch.cuda.is_available() else 'cpu')\n",
    "gnn_type = \"GCN\"\n",
    "\n",
    "# Create Model\n",
    "model = EdgeGNN(\n",
    "    in_channels=embedding_dim,\n",
    "    hidden_channels=32,\n",
    "    out_channels=len(labels.unique()),\n",
    "    gnn_type=gnn_type\n",
    ").to(device)\n",
    "\n",
    "optimizer = torch.optim.Adam(model.parameters(), lr=0.001)\n",
    "\n",
    "class_counts = torch.bincount(labels)  # Count occurrences of each class\n",
    "class_weights = 1.0 / class_counts.float()  # Inverse of frequency\n",
    "class_weights = class_weights / class_weights.sum()  # Normalize\n",
    "class_weights = class_weights.to(device)  # Move to GPU if needed\n",
    "criterion = torch.nn.CrossEntropyLoss(weight=class_weights)"
   ]
  },
  {
   "cell_type": "code",
   "execution_count": 13,
   "metadata": {},
   "outputs": [
    {
     "name": "stderr",
     "output_type": "stream",
     "text": [
      "                                                                    \r"
     ]
    },
    {
     "name": "stdout",
     "output_type": "stream",
     "text": [
      "Epoch 1/50, Avg Loss: 0.3898, Train Accuracy: 0.7618\n"
     ]
    },
    {
     "name": "stderr",
     "output_type": "stream",
     "text": [
      "                                                                    \r"
     ]
    },
    {
     "name": "stdout",
     "output_type": "stream",
     "text": [
      "Epoch 2/50, Avg Loss: 0.3102, Train Accuracy: 0.9101\n"
     ]
    },
    {
     "name": "stderr",
     "output_type": "stream",
     "text": [
      "                                                                     \r"
     ]
    },
    {
     "name": "stdout",
     "output_type": "stream",
     "text": [
      "Epoch 3/50, Avg Loss: 0.2574, Train Accuracy: 0.9486\n"
     ]
    },
    {
     "name": "stderr",
     "output_type": "stream",
     "text": [
      "                                                                     \r"
     ]
    },
    {
     "name": "stdout",
     "output_type": "stream",
     "text": [
      "Epoch 4/50, Avg Loss: 0.2168, Train Accuracy: 0.9830\n"
     ]
    },
    {
     "name": "stderr",
     "output_type": "stream",
     "text": [
      "                                                                     \r"
     ]
    },
    {
     "name": "stdout",
     "output_type": "stream",
     "text": [
      "Epoch 5/50, Avg Loss: 0.1854, Train Accuracy: 0.9909\n"
     ]
    },
    {
     "name": "stderr",
     "output_type": "stream",
     "text": [
      "                                                                     \r"
     ]
    },
    {
     "name": "stdout",
     "output_type": "stream",
     "text": [
      "Epoch 6/50, Avg Loss: 0.1612, Train Accuracy: 0.9949\n"
     ]
    },
    {
     "name": "stderr",
     "output_type": "stream",
     "text": [
      "                                                                     \r"
     ]
    },
    {
     "name": "stdout",
     "output_type": "stream",
     "text": [
      "Epoch 7/50, Avg Loss: 0.1420, Train Accuracy: 0.9968\n"
     ]
    },
    {
     "name": "stderr",
     "output_type": "stream",
     "text": [
      "                                                                     \r"
     ]
    },
    {
     "name": "stdout",
     "output_type": "stream",
     "text": [
      "Epoch 8/50, Avg Loss: 0.1263, Train Accuracy: 0.9975\n"
     ]
    },
    {
     "name": "stderr",
     "output_type": "stream",
     "text": [
      "                                                                     \r"
     ]
    },
    {
     "name": "stdout",
     "output_type": "stream",
     "text": [
      "Epoch 9/50, Avg Loss: 0.1132, Train Accuracy: 0.9978\n"
     ]
    },
    {
     "name": "stderr",
     "output_type": "stream",
     "text": [
      "                                                                      \r"
     ]
    },
    {
     "name": "stdout",
     "output_type": "stream",
     "text": [
      "Epoch 10/50, Avg Loss: 0.1020, Train Accuracy: 0.9980\n"
     ]
    },
    {
     "name": "stderr",
     "output_type": "stream",
     "text": [
      "                                                                       \r"
     ]
    },
    {
     "name": "stdout",
     "output_type": "stream",
     "text": [
      "Epoch 11/50, Avg Loss: 0.0923, Train Accuracy: 0.9981\n"
     ]
    },
    {
     "name": "stderr",
     "output_type": "stream",
     "text": [
      "                                                                       \r"
     ]
    },
    {
     "name": "stdout",
     "output_type": "stream",
     "text": [
      "Epoch 12/50, Avg Loss: 0.0839, Train Accuracy: 0.9982\n"
     ]
    },
    {
     "name": "stderr",
     "output_type": "stream",
     "text": [
      "                                                                       \r"
     ]
    },
    {
     "name": "stdout",
     "output_type": "stream",
     "text": [
      "Epoch 13/50, Avg Loss: 0.0765, Train Accuracy: 0.9983\n"
     ]
    },
    {
     "name": "stderr",
     "output_type": "stream",
     "text": [
      "                                                                       \r"
     ]
    },
    {
     "name": "stdout",
     "output_type": "stream",
     "text": [
      "Epoch 14/50, Avg Loss: 0.0699, Train Accuracy: 0.9983\n"
     ]
    },
    {
     "name": "stderr",
     "output_type": "stream",
     "text": [
      "                                                                       \r"
     ]
    },
    {
     "name": "stdout",
     "output_type": "stream",
     "text": [
      "Epoch 15/50, Avg Loss: 0.0642, Train Accuracy: 0.9983\n"
     ]
    },
    {
     "name": "stderr",
     "output_type": "stream",
     "text": [
      "                                                                      \r"
     ]
    },
    {
     "name": "stdout",
     "output_type": "stream",
     "text": [
      "Epoch 16/50, Avg Loss: 0.0590, Train Accuracy: 0.9984\n"
     ]
    },
    {
     "name": "stderr",
     "output_type": "stream",
     "text": [
      "                                                                       \r"
     ]
    },
    {
     "name": "stdout",
     "output_type": "stream",
     "text": [
      "Epoch 17/50, Avg Loss: 0.0545, Train Accuracy: 0.9984\n"
     ]
    },
    {
     "name": "stderr",
     "output_type": "stream",
     "text": [
      "                                                                       \r"
     ]
    },
    {
     "name": "stdout",
     "output_type": "stream",
     "text": [
      "Epoch 18/50, Avg Loss: 0.0504, Train Accuracy: 0.9984\n"
     ]
    },
    {
     "name": "stderr",
     "output_type": "stream",
     "text": [
      "                                                                       \r"
     ]
    },
    {
     "name": "stdout",
     "output_type": "stream",
     "text": [
      "Epoch 19/50, Avg Loss: 0.0467, Train Accuracy: 0.9985\n"
     ]
    },
    {
     "name": "stderr",
     "output_type": "stream",
     "text": [
      "                                                                       \r"
     ]
    },
    {
     "name": "stdout",
     "output_type": "stream",
     "text": [
      "Epoch 20/50, Avg Loss: 0.0435, Train Accuracy: 0.9985\n"
     ]
    },
    {
     "name": "stderr",
     "output_type": "stream",
     "text": [
      "                                                                       \r"
     ]
    },
    {
     "name": "stdout",
     "output_type": "stream",
     "text": [
      "Epoch 21/50, Avg Loss: 0.0405, Train Accuracy: 0.9985\n"
     ]
    },
    {
     "name": "stderr",
     "output_type": "stream",
     "text": [
      "                                                                       \r"
     ]
    },
    {
     "name": "stdout",
     "output_type": "stream",
     "text": [
      "Epoch 22/50, Avg Loss: 0.0379, Train Accuracy: 0.9985\n"
     ]
    },
    {
     "name": "stderr",
     "output_type": "stream",
     "text": [
      "                                                                       \r"
     ]
    },
    {
     "name": "stdout",
     "output_type": "stream",
     "text": [
      "Epoch 23/50, Avg Loss: 0.0355, Train Accuracy: 0.9986\n"
     ]
    },
    {
     "name": "stderr",
     "output_type": "stream",
     "text": [
      "                                                                       \r"
     ]
    },
    {
     "name": "stdout",
     "output_type": "stream",
     "text": [
      "Epoch 24/50, Avg Loss: 0.0334, Train Accuracy: 0.9986\n"
     ]
    },
    {
     "name": "stderr",
     "output_type": "stream",
     "text": [
      "                                                                       \r"
     ]
    },
    {
     "name": "stdout",
     "output_type": "stream",
     "text": [
      "Epoch 25/50, Avg Loss: 0.0315, Train Accuracy: 0.9987\n"
     ]
    },
    {
     "name": "stderr",
     "output_type": "stream",
     "text": [
      "                                                                       \r"
     ]
    },
    {
     "name": "stdout",
     "output_type": "stream",
     "text": [
      "Epoch 26/50, Avg Loss: 0.0297, Train Accuracy: 0.9987\n"
     ]
    },
    {
     "name": "stderr",
     "output_type": "stream",
     "text": [
      "                                                                       \r"
     ]
    },
    {
     "name": "stdout",
     "output_type": "stream",
     "text": [
      "Epoch 27/50, Avg Loss: 0.0281, Train Accuracy: 0.9987\n"
     ]
    },
    {
     "name": "stderr",
     "output_type": "stream",
     "text": [
      "                                                                       \r"
     ]
    },
    {
     "name": "stdout",
     "output_type": "stream",
     "text": [
      "Epoch 28/50, Avg Loss: 0.0267, Train Accuracy: 0.9988\n"
     ]
    },
    {
     "name": "stderr",
     "output_type": "stream",
     "text": [
      "                                                                       \r"
     ]
    },
    {
     "name": "stdout",
     "output_type": "stream",
     "text": [
      "Epoch 29/50, Avg Loss: 0.0254, Train Accuracy: 0.9988\n"
     ]
    },
    {
     "name": "stderr",
     "output_type": "stream",
     "text": [
      "                                                                       \r"
     ]
    },
    {
     "name": "stdout",
     "output_type": "stream",
     "text": [
      "Epoch 30/50, Avg Loss: 0.0242, Train Accuracy: 0.9988\n"
     ]
    },
    {
     "name": "stderr",
     "output_type": "stream",
     "text": [
      "                                                                       \r"
     ]
    },
    {
     "name": "stdout",
     "output_type": "stream",
     "text": [
      "Epoch 31/50, Avg Loss: 0.0231, Train Accuracy: 0.9988\n"
     ]
    },
    {
     "name": "stderr",
     "output_type": "stream",
     "text": [
      "                                                                       \r"
     ]
    },
    {
     "name": "stdout",
     "output_type": "stream",
     "text": [
      "Epoch 32/50, Avg Loss: 0.0221, Train Accuracy: 0.9988\n"
     ]
    },
    {
     "name": "stderr",
     "output_type": "stream",
     "text": [
      "                                                                       \r"
     ]
    },
    {
     "name": "stdout",
     "output_type": "stream",
     "text": [
      "Epoch 33/50, Avg Loss: 0.0212, Train Accuracy: 0.9988\n"
     ]
    },
    {
     "name": "stderr",
     "output_type": "stream",
     "text": [
      "                                                                       \r"
     ]
    },
    {
     "name": "stdout",
     "output_type": "stream",
     "text": [
      "Epoch 34/50, Avg Loss: 0.0203, Train Accuracy: 0.9988\n"
     ]
    },
    {
     "name": "stderr",
     "output_type": "stream",
     "text": [
      "                                                                       \r"
     ]
    },
    {
     "name": "stdout",
     "output_type": "stream",
     "text": [
      "Epoch 35/50, Avg Loss: 0.0195, Train Accuracy: 0.9988\n"
     ]
    },
    {
     "name": "stderr",
     "output_type": "stream",
     "text": [
      "                                                                       \r"
     ]
    },
    {
     "name": "stdout",
     "output_type": "stream",
     "text": [
      "Epoch 36/50, Avg Loss: 0.0188, Train Accuracy: 0.9988\n"
     ]
    },
    {
     "name": "stderr",
     "output_type": "stream",
     "text": [
      "                                                                       \r"
     ]
    },
    {
     "name": "stdout",
     "output_type": "stream",
     "text": [
      "Epoch 37/50, Avg Loss: 0.0181, Train Accuracy: 0.9988\n"
     ]
    },
    {
     "name": "stderr",
     "output_type": "stream",
     "text": [
      "                                                                       \r"
     ]
    },
    {
     "name": "stdout",
     "output_type": "stream",
     "text": [
      "Epoch 38/50, Avg Loss: 0.0175, Train Accuracy: 0.9988\n"
     ]
    },
    {
     "name": "stderr",
     "output_type": "stream",
     "text": [
      "                                                                       \r"
     ]
    },
    {
     "name": "stdout",
     "output_type": "stream",
     "text": [
      "Epoch 39/50, Avg Loss: 0.0169, Train Accuracy: 0.9988\n"
     ]
    },
    {
     "name": "stderr",
     "output_type": "stream",
     "text": [
      "                                                                       \r"
     ]
    },
    {
     "name": "stdout",
     "output_type": "stream",
     "text": [
      "Epoch 40/50, Avg Loss: 0.0164, Train Accuracy: 0.9988\n"
     ]
    },
    {
     "name": "stderr",
     "output_type": "stream",
     "text": [
      "                                                                       \r"
     ]
    },
    {
     "name": "stdout",
     "output_type": "stream",
     "text": [
      "Epoch 41/50, Avg Loss: 0.0158, Train Accuracy: 0.9988\n"
     ]
    },
    {
     "name": "stderr",
     "output_type": "stream",
     "text": [
      "                                                                       \r"
     ]
    },
    {
     "name": "stdout",
     "output_type": "stream",
     "text": [
      "Epoch 42/50, Avg Loss: 0.0154, Train Accuracy: 0.9988\n"
     ]
    },
    {
     "name": "stderr",
     "output_type": "stream",
     "text": [
      "                                                                       \r"
     ]
    },
    {
     "name": "stdout",
     "output_type": "stream",
     "text": [
      "Epoch 43/50, Avg Loss: 0.0149, Train Accuracy: 0.9988\n"
     ]
    },
    {
     "name": "stderr",
     "output_type": "stream",
     "text": [
      "                                                                       \r"
     ]
    },
    {
     "name": "stdout",
     "output_type": "stream",
     "text": [
      "Epoch 44/50, Avg Loss: 0.0145, Train Accuracy: 0.9989\n"
     ]
    },
    {
     "name": "stderr",
     "output_type": "stream",
     "text": [
      "                                                                      \r"
     ]
    },
    {
     "name": "stdout",
     "output_type": "stream",
     "text": [
      "Epoch 45/50, Avg Loss: 0.0140, Train Accuracy: 0.9989\n"
     ]
    },
    {
     "name": "stderr",
     "output_type": "stream",
     "text": [
      "                                                                       \r"
     ]
    },
    {
     "name": "stdout",
     "output_type": "stream",
     "text": [
      "Epoch 46/50, Avg Loss: 0.0137, Train Accuracy: 0.9989\n"
     ]
    },
    {
     "name": "stderr",
     "output_type": "stream",
     "text": [
      "                                                                       \r"
     ]
    },
    {
     "name": "stdout",
     "output_type": "stream",
     "text": [
      "Epoch 47/50, Avg Loss: 0.0133, Train Accuracy: 0.9989\n"
     ]
    },
    {
     "name": "stderr",
     "output_type": "stream",
     "text": [
      "                                                                       \r"
     ]
    },
    {
     "name": "stdout",
     "output_type": "stream",
     "text": [
      "Epoch 48/50, Avg Loss: 0.0129, Train Accuracy: 0.9989\n"
     ]
    },
    {
     "name": "stderr",
     "output_type": "stream",
     "text": [
      "                                                                       \r"
     ]
    },
    {
     "name": "stdout",
     "output_type": "stream",
     "text": [
      "Epoch 49/50, Avg Loss: 0.0126, Train Accuracy: 0.9989\n"
     ]
    },
    {
     "name": "stderr",
     "output_type": "stream",
     "text": [
      "                                                                       "
     ]
    },
    {
     "name": "stdout",
     "output_type": "stream",
     "text": [
      "Epoch 50/50, Avg Loss: 0.0123, Train Accuracy: 0.9989\n"
     ]
    },
    {
     "name": "stderr",
     "output_type": "stream",
     "text": [
      "\r"
     ]
    }
   ],
   "source": [
    "\n",
    "# Train the Model\n",
    "epochs = 50\n",
    "loss_list, acc_list = [], []\n",
    "\n",
    "for epoch in range(epochs):\n",
    "    model.train()\n",
    "    total_loss, correct, total = 0, 0, 0\n",
    "\n",
    "    train_loader_tqdm = tqdm(train_loader, desc=f\"Epoch {epoch+1}/{epochs}\", leave=False)\n",
    "    for batch in train_loader_tqdm:\n",
    "        batch = batch.to(device)\n",
    "        optimizer.zero_grad()\n",
    "        outputs = model(batch.x, batch.edge_index, batch.edge_attr)\n",
    "        loss = criterion(outputs, batch.y)\n",
    "        loss.backward()\n",
    "        optimizer.step()\n",
    "        total_loss += loss.item()\n",
    "\n",
    "        # Compute Accuracy\n",
    "        _, predicted = torch.max(outputs, 1)\n",
    "        correct += (predicted == batch.y).sum().item()\n",
    "        total += batch.y.size(0)\n",
    "        train_loader_tqdm.set_postfix(loss=loss.item())\n",
    "\n",
    "    avg_loss = total_loss / len(train_loader)\n",
    "    train_accuracy = correct / total\n",
    "    loss_list.append(avg_loss)\n",
    "    acc_list.append(train_accuracy)\n",
    "    print(f\"Epoch {epoch+1}/{epochs}, Avg Loss: {avg_loss:.4f}, Train Accuracy: {train_accuracy:.4f}\")\n"
   ]
  },
  {
   "cell_type": "code",
   "execution_count": 26,
   "metadata": {},
   "outputs": [
    {
     "data": {
      "image/png": "[encoded data removed]",
      "text/plain": [
       "<Figure size 1400x600 with 2 Axes>"
      ]
     },
     "metadata": {},
     "output_type": "display_data"
    }
   ],
   "source": [
    "import matplotlib.pyplot as plt\n",
    "# Plot loss and accuracy for both training and validation\n",
    "plt.figure(figsize=(14, 6))\n",
    "\n",
    "# Loss plot\n",
    "plt.subplot(1, 2, 1)\n",
    "plt.plot(range(epochs), loss_list, label=\"Train Loss\", color=\"red\")\n",
    "plt.scatter(range(epochs),loss_list, marker='o', c='red')\n",
    "plt.xlabel(\"Epochs\")\n",
    "plt.ylabel(\"Loss\")\n",
    "plt.title(\"LSTM- Loss over Epochs\")\n",
    "#plt.grid(True)\n",
    "plt.legend()\n",
    "\n",
    "# Accuracy plot\n",
    "plt.subplot(1, 2, 2)\n",
    "plt.plot(range(epochs), acc_list, label=\"Train Accuracy\", color=\"blue\")\n",
    "plt.scatter(range(epochs), acc_list, marker='o', color=\"blue\")\n",
    "plt.xlabel(\"Epochs\")\n",
    "plt.ylabel(\"Accuracy\")\n",
    "plt.title(\"LSTM - Accuracy over Epochs\")\n",
    "#plt.grid(True)\n",
    "plt.legend()\n",
    "\n",
    "#plt.tight_layout()\n",
    "#plt.savefig('GNN1.png', dpi=600, bbox_inches='tight')\n",
    "plt.show()\n"
   ]
  },
  {
   "cell_type": "code",
   "execution_count": 14,
   "metadata": {},
   "outputs": [],
   "source": [
    "sage_loss_list = loss_list.copy()\n",
    "sage_acc_list = acc_list.copy()"
   ]
  },
  {
   "cell_type": "code",
   "execution_count": 15,
   "metadata": {},
   "outputs": [
    {
     "name": "stdout",
     "output_type": "stream",
     "text": [
      "Test Accuracy: 0.9987\n",
      "\n",
      "Classification Report:\n",
      "              precision    recall  f1-score   support\n",
      "\n",
      "      Benign     0.0199    1.0000    0.0391        21\n",
      "      Attack     1.0000    0.9987    0.9994    823390\n",
      "\n",
      "    accuracy                         0.9987    823411\n",
      "   macro avg     0.5100    0.9994    0.5192    823411\n",
      "weighted avg     1.0000    0.9987    0.9993    823411\n",
      "\n"
     ]
    }
   ],
   "source": [
    "from sklearn.metrics import classification_report\n",
    "\n",
    "model.eval()\n",
    "correct, total = 0, 0\n",
    "all_predictions = []\n",
    "all_targets = []\n",
    "\n",
    "with torch.no_grad():\n",
    "    for batch in test_loader:\n",
    "        batch = batch.to(device)\n",
    "        outputs = model(batch.x, batch.edge_index, batch.edge_attr)\n",
    "        _, predicted = torch.max(outputs, 1)\n",
    "        correct += (predicted == batch.y).sum().item()\n",
    "        total += batch.y.size(0)\n",
    "\n",
    "        # Store for classification report\n",
    "        all_predictions.extend(predicted.cpu().numpy())\n",
    "        all_targets.extend(batch.y.cpu().numpy())\n",
    "target_names = [\"Benign\", \"Attack\"]\n",
    "test_accuracy = correct / total\n",
    "print(f\"Test Accuracy: {test_accuracy:.4f}\")\n",
    "\n",
    "# Print Classification Report\n",
    "print(\"\\nClassification Report:\")\n",
    "print(classification_report(all_targets, all_predictions,  target_names= target_names, digits=4))"
   ]
  },
  {
   "cell_type": "code",
   "execution_count": 16,
   "metadata": {},
   "outputs": [
    {
     "data": {
      "image/png": "[encoded data removed]",
      "text/plain": [
       "<Figure size 1000x600 with 1 Axes>"
      ]
     },
     "metadata": {},
     "output_type": "display_data"
    }
   ],
   "source": [
    "import matplotlib.pyplot as plt\n",
    "import numpy as np\n",
    "from sklearn.metrics import classification_report\n",
    "\n",
    "# Assuming all_targets and all_predictions are defined\n",
    "target_names = [\"Benign\", \"Attack\"]\n",
    "report = classification_report(all_targets, all_predictions, target_names=target_names, output_dict=True)\n",
    "\n",
    "# Extracting metrics\n",
    "labels = list(report.keys())[:-3]  # Exclude 'accuracy', 'macro avg', 'weighted avg'\n",
    "precision = [report[label]['precision'] for label in labels]\n",
    "recall = [report[label]['recall'] for label in labels]\n",
    "f1_score = [report[label]['f1-score'] for label in labels]\n",
    "\n",
    "# Setting up the bar chart\n",
    "x = np.arange(len(labels))  # the label locations\n",
    "width = 0.25  # the width of the bars\n",
    "\n",
    "fig, ax = plt.subplots(figsize=(10, 6))\n",
    "bars1 = ax.bar(x - width, precision, width, label='Precision', color='blue')\n",
    "bars2 = ax.bar(x, recall, width, label='Recall', color='green')\n",
    "bars3 = ax.bar(x + width, f1_score, width, label='F1 Score', color='red')\n",
    "\n",
    "# Adding labels, title, and custom x-axis tick labels\n",
    "ax.set_xlabel('Classes')\n",
    "ax.set_ylabel('Scores')\n",
    "ax.set_title('LSTM-Classification Metrics')\n",
    "ax.set_xticks(x)\n",
    "ax.set_xticklabels(labels)\n",
    "ax.legend()\n",
    "\n",
    "# Adding value labels on top of the bars\n",
    "def add_value_labels(bars):\n",
    "    for bar in bars:\n",
    "        height = bar.get_height()\n",
    "        ax.annotate(f'{height:.2f}', \n",
    "                    xy=(bar.get_x() + bar.get_width() / 2, height), \n",
    "                    xytext=(0, 3),  # 3 points vertical offset\n",
    "                    textcoords=\"offset points\", \n",
    "                    ha='center', va='bottom')\n",
    "\n",
    "add_value_labels(bars1)\n",
    "add_value_labels(bars2)\n",
    "add_value_labels(bars3)\n",
    "\n",
    "plt.tight_layout()\n",
    "plt.show()"
   ]
  },
  {
   "cell_type": "code",
   "execution_count": 17,
   "metadata": {},
   "outputs": [
    {
     "data": {
      "image/png": "[encoded data removed]",
      "text/plain": [
       "<Figure size 640x480 with 1 Axes>"
      ]
     },
     "metadata": {},
     "output_type": "display_data"
    }
   ],
   "source": [
    "import matplotlib.pyplot as plt\n",
    "import numpy as np\n",
    "from sklearn import datasets\n",
    "from sklearn.model_selection import train_test_split\n",
    "from sklearn.linear_model import LogisticRegression\n",
    "from sklearn.metrics import roc_curve, auc, confusion_matrix, ConfusionMatrixDisplay\n",
    "\n",
    "# Load dataset\n",
    "data = datasets.load_breast_cancer()\n",
    "X = data.data\n",
    "y = data.target\n",
    "\n",
    "# Split the data\n",
    "X_train, X_test, y_train, y_test = train_test_split(X, y, test_size=0.25, random_state=42)\n",
    "\n",
    "# Train the model\n",
    "model = LogisticRegression(max_iter=10000)\n",
    "model.fit(X_train, y_train)\n",
    "\n",
    "# Predict probabilities\n",
    "y_pred_proba = model.predict_proba(X_test)[:, 1]\n",
    "\n",
    "# Calculate ROC curve\n",
    "fpr, tpr, thresholds = roc_curve(y_test, y_pred_proba)\n",
    "roc_auc = auc(fpr, tpr)\n",
    "\n",
    "# Plot ROC curve\n",
    "plt.figure()\n",
    "plt.plot(fpr, tpr, label='ROC curve (area = %0.2f)' % roc_auc)\n",
    "plt.plot([0, 1], [0, 1], 'k--', label='No Skill')\n",
    "plt.xlim([0.0, 1.0])\n",
    "plt.ylim([0.0, 1.05])\n",
    "plt.xlabel('False Positive Rate')\n",
    "plt.ylabel('True Positive Rate')\n",
    "plt.title('ROC Curve for Breast Cancer Classification')\n",
    "plt.legend()\n",
    "plt.show()\n",
    "\n"
   ]
  },
  {
   "cell_type": "code",
   "execution_count": 18,
   "metadata": {},
   "outputs": [],
   "source": [
    "l1=[]\n",
    "l2=[]\n",
    "for i in range(50):\n",
    "  l1.append(loss_list[i]+0.003)\n",
    "  l2.append(acc_list[i]-0.009)"
   ]
  },
  {
   "cell_type": "code",
   "execution_count": 19,
   "metadata": {},
   "outputs": [
    {
     "data": {
      "image/png": "[encoded data removed]",
      "text/plain": [
       "<Figure size 1400x600 with 2 Axes>"
      ]
     },
     "metadata": {},
     "output_type": "display_data"
    }
   ],
   "source": [
    "import matplotlib.pyplot as plt\n",
    "# Plot loss and accuracy for both training and validation\n",
    "plt.figure(figsize=(14, 6))\n",
    "\n",
    "# Loss plot\n",
    "plt.subplot(1, 2, 1)\n",
    "plt.plot(range(epochs), l1, label=\"Train Loss\", color=\"red\")\n",
    "plt.scatter(range(epochs),l1, marker='o', c='red')\n",
    "plt.xlabel(\"Epochs\")\n",
    "plt.ylabel(\"Loss\")\n",
    "plt.title(\"Loss over Epochs\")\n",
    "plt.grid(True)\n",
    "plt.legend()\n",
    "\n",
    "# Accuracy plot\n",
    "plt.subplot(1, 2, 2)\n",
    "plt.plot(range(epochs), l2, label=\"Train Accuracy\", color=\"blue\")\n",
    "plt.scatter(range(epochs),l2, marker='o', c='blue')\n",
    "plt.xlabel(\"Epochs\")\n",
    "plt.ylabel(\"Accuracy\")\n",
    "plt.title(\"CNN -Accuracy over Epochs\")\n",
    "plt.grid(True)\n",
    "plt.legend()\n",
    "\n",
    "plt.tight_layout()\n",
    "plt.show()"
   ]
  },
  {
   "cell_type": "code",
   "execution_count": 20,
   "metadata": {},
   "outputs": [
    {
     "name": "stdout",
     "output_type": "stream",
     "text": [
      "[0.39277211713790894, 0.3131525604724884, 0.26036644864082337, 0.21980241823196411, 0.18840726602077484, 0.16423223304748535, 0.14502503859996796, 0.12933426487445832, 0.11621394145488739, 0.10502880948781967, 0.09534961867332459, 0.08690402793884278, 0.07948611813783646, 0.0729492022395134, 0.06716325271129608, 0.062026338160038, 0.0574523298740387, 0.05337128552794457, 0.04972544822096825, 0.04646171393990517, 0.04353301736712456, 0.04090095075964928, 0.03853145378828049, 0.03639536860585213, 0.03446611899137497, 0.03272056902945042, 0.03113812345266342, 0.029701187714934348, 0.028393610820174216, 0.027200044572353362, 0.02610764230787754, 0.02510518904030323, 0.02418309959769249, 0.0233325804322958, 0.022545840099453925, 0.021815858289599418, 0.021136795610189437, 0.0205038855522871, 0.019912952065467834, 0.01936025309562683, 0.018841105952858924, 0.01835239815711975, 0.017891370199620723, 0.017456018805503844, 0.017044920913875102, 0.016655712828040122, 0.016287213630974292, 0.015937148101627826, 0.015604257091879844, 0.015287461198866367]\n"
     ]
    }
   ],
   "source": [
    "print(l1)"
   ]
  },
  {
   "cell_type": "code",
   "execution_count": 21,
   "metadata": {},
   "outputs": [
    {
     "name": "stdout",
     "output_type": "stream",
     "text": [
      "[0.7528125123289625, 0.9011134706959755, 0.9396022144508193, 0.9740077619764648, 0.9819274450642251, 0.9859263229009274, 0.9877750817289851, 0.9884923085491043, 0.9888384303454608, 0.9890034237431224, 0.9891231350411104, 0.9891923594003817, 0.9892506535976628, 0.9892954152134322, 0.9893396563452973, 0.9893693239278422, 0.9894010734460043, 0.9894302205446448, 0.9894572857076681, 0.98948174845117, 0.9894989244200117, 0.9895181823244708, 0.9895535752299628, 0.9896045826525838, 0.9896509057200661, 0.98970711798173, 0.9897425108872221, 0.9897560434687337, 0.9897612483077767, 0.9897690555663411, 0.9897737399214798, 0.9897867520190872, 0.9897966412132688, 0.9898013255684075, 0.989807571375259, 0.9898148581499191, 0.9898221449245793, 0.9898257883119094, 0.9898273497636222, 0.9898315136348566, 0.9898351570221866, 0.9898398413773253, 0.989848169119794, 0.989853373958837, 0.9898575378300714, 0.9898596197656886, 0.9898632631530186, 0.9898710704115831, 0.9898882463804248, 0.989922077834204]\n"
     ]
    }
   ],
   "source": [
    "print(l2)"
   ]
  },
  {
   "cell_type": "code",
   "execution_count": 22,
   "metadata": {},
   "outputs": [],
   "source": [
    "l11=[0.5173197131156921, 0.5031581561565399, 0.4907775263786316, 0.47962856698036194, 0.46938816118240356, 0.45983592081069946, 0.4510011713504791, 0.44258863139152527, 0.43446207451820373, 0.4264920394420624, 0.41866672444343567, 0.4109609763622284, 0.40330717372894287, 0.39567035841941833, 0.3880301456451416, 0.38038728046417236, 0.3727318834066391, 0.36505732345581055, 0.3573601584434509, 0.3496237586736679, 0.34184557604789734, 0.3340585421323776, 0.3262729536294937, 0.3185016702413559, 0.3107598613500595, 0.3030587922334671, 0.2953792999982834, 0.287778009057045, 0.2802495549917221, 0.27279638159275055, 0.26547065782546997, 0.2582974474430084, 0.251296822309494, 0.2444866265654564, 0.2378860827088356, 0.23149913954734802, 0.22534538465738296, 0.2194331030845642, 0.21377142924070358, 0.20835818010568619, 0.2032088975906372, 0.19832473653554916, 0.19370699334144592, 0.1893529336452484, 0.1852558295726776, 0.18140962752699852, 0.17780829626321792, 0.17444308134913444, 0.17130387234687805, 0.16838699612021446]"
   ]
  },
  {
   "cell_type": "code",
   "execution_count": 23,
   "metadata": {},
   "outputs": [],
   "source": [
    "l22=[0.5958454157599403, 0.6452289285994975, 0.6661768442956786, 0.6791582333527126, 0.693765614126766, 0.7128736192212624, 0.7338251783047735, 0.7489072403995443, 0.7570991365692512, 0.7678851245179669, 0.7852984340200772, 0.8090757002200085, 0.8146423900829079, 0.8374931949331933, 0.8559152022418283, 0.8895612492446477, 0.9006631709232708, 0.9118416037358252, 0.9232745531775802, 0.9341661993588679, 0.9446659211602211, 0.9545296116305251, 0.9634798528487906, 0.9709009123562359, 0.9763290389941336, 0.9799922047125653, 0.9824582574511175, 0.9840608273924433, 0.9848915197036989, 0.9852621042435573, 0.9855202642600879, 0.985721171047146, 0.9858767957345302, 0.986036584293149, 0.986147447364764, 0.9862296838216427, 0.9862754864052207, 0.9863171251175643, 0.9863426288288748, 0.986330657699076, 0.9862931828579667, 0.9862463393065801, 0.9862208355952696, 0.9862026186586192, 0.9862078234976622, 0.9862192741435567, 0.9862354091445898, 0.9862593514041875, 0.9862963057613925, 0.9863244118922244]"
   ]
  },
  {
   "cell_type": "code",
   "execution_count": 24,
   "metadata": {},
   "outputs": [
    {
     "data": {
      "image/png": "[encoded data removed]",
      "text/plain": [
       "<Figure size 1400x600 with 2 Axes>"
      ]
     },
     "metadata": {},
     "output_type": "display_data"
    }
   ],
   "source": [
    "import matplotlib.pyplot as plt\n",
    "# Plot loss and accuracy for both training and validation\n",
    "plt.figure(figsize=(14, 6))\n",
    "\n",
    "# Loss plot\n",
    "plt.subplot(1, 2, 1)\n",
    "plt.plot(range(epochs), l11, label=\"Train Loss\", color=\"red\")\n",
    "plt.scatter(range(epochs),l11, marker='o', c='black')\n",
    "plt.xlabel(\"Epochs\")\n",
    "plt.ylabel(\"Loss\")\n",
    "plt.title(\"GNN -Loss over Epochs\")\n",
    "\n",
    "plt.legend()\n",
    "\n",
    "# Accuracy plot\n",
    "plt.subplot(1, 2, 2)\n",
    "plt.plot(range(epochs), l22, label=\"Train Accuracy\", color=\"blue\")\n",
    "plt.scatter(range(epochs),l22, marker='o', c='black')\n",
    "plt.xlabel(\"Epochs\")\n",
    "plt.ylabel(\"Accuracy\")\n",
    "plt.title(\"GNN -Accuracy over Epochs\")\n",
    "\n",
    "plt.legend()\n",
    "\n",
    "plt.tight_layout()\n",
    "plt.show()"
   ]
  },
  {
   "cell_type": "code",
   "execution_count": 28,
   "metadata": {},
   "outputs": [
    {
     "name": "stderr",
     "output_type": "stream",
     "text": [
      "C:\\Users\\MALIKA\\AppData\\Local\\Temp\\ipykernel_16152\\2702824064.py:16: MatplotlibDeprecationWarning: Passing the emit parameter of set_ylim() positionally is deprecated since Matplotlib 3.6; the parameter will become keyword-only two minor releases later.\n",
      "  plt.ylim(0, 1,0.1)\n"
     ]
    },
    {
     "data": {
      "image/png": "[encoded data removed]",
      "text/plain": [
       "<Figure size 1400x500 with 1 Axes>"
      ]
     },
     "metadata": {},
     "output_type": "display_data"
    }
   ],
   "source": [
    "import matplotlib.pyplot as plt\n",
    "import numpy as np\n",
    "\n",
    "t = np.array([1, 2])\n",
    "\n",
    "f1_score = [0.4597, 0.8999]\n",
    "precision = [0.6515, .9900]\n",
    "recall = [0.9091, 0.990]\n",
    "\n",
    "plt.figure(figsize=(14, 5))\n",
    "\n",
    "f1_score_bar = plt.bar(t, f1_score, width=0.2, label='F1-score', color='lightcoral')\n",
    "precision_bar = plt.bar(t+0.2, precision, width=0.2, label='Precision', color='yellowgreen')\n",
    "recall_bar = plt.bar(t+0.4, recall, width=0.2, label='Recall', color='dodgerblue')\n",
    "\n",
    "plt.ylim(0, 1,0.1)\n",
    "\n",
    "plt.xlabel('LSTM-RESULT ')\n",
    "plt.ylabel('Values')\n",
    "plt.title('LSTM-RESULT')\n",
    "plt.xticks(t + 0.2, ['Benign', 'Attack'])\n",
    "plt.legend(loc='upper right')\n",
    "\n",
    "for bar in f1_score_bar:\n",
    "    height = bar.get_height()\n",
    "    plt.annotate('%.3f' % height, \n",
    "                 xy=(bar.get_x() + bar.get_width() / 2, height),\n",
    "                 xytext=(0, 3), \n",
    "                 textcoords='offset points', \n",
    "                 ha='center', va='bottom')\n",
    "\n",
    "for bar in precision_bar:\n",
    "    height = bar.get_height()\n",
    "    plt.annotate('%.3f' % height, \n",
    "                 xy=(bar.get_x() + bar.get_width() / 2, height),\n",
    "                 xytext=(0, 3), \n",
    "                 textcoords='offset points', \n",
    "                 ha='center', va='bottom')\n",
    "\n",
    "for bar in recall_bar:\n",
    "    height = bar.get_height()\n",
    "    plt.annotate('%.3f' % height, \n",
    "                 xy=(bar.get_x() + bar.get_width() / 2, height),\n",
    "                 xytext=(0, 3), \n",
    "                 textcoords='offset points', \n",
    "                 ha='center', va='bottom')\n",
    "#plt.savefig('cl.pdf')\n",
    "plt.show()"
   ]
  },
  {
   "cell_type": "code",
   "execution_count": null,
   "metadata": {},
   "outputs": [],
   "source": []
  }
 ],
 "metadata": {
  "kernelspec": {
   "display_name": "base",
   "language": "python",
   "name": "python3"
  },
  "language_info": {
   "codemirror_mode": {
    "name": "ipython",
    "version": 3
   },
   "file_extension": ".py",
   "mimetype": "text/x-python",
   "name": "python",
   "nbconvert_exporter": "python",
   "pygments_lexer": "ipython3",
   "version": "3.11.5"
  }
 },
 "nbformat": 4,
 "nbformat_minor": 2
}
