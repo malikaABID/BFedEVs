{
  "cells": [
    {
      "cell_type": "code",
      "execution_count": 28,
      "metadata": {
        "id": "-AZSMXRymjzo"
      },
      "outputs": [],
      "source": [
        "import os, warnings, random\n",
        "import numpy as np\n",
        "import pandas as pd\n",
        "import matplotlib.pyplot as plt\n",
        "import csv"
      ]
    },
    {
      "cell_type": "code",
      "execution_count": null,
      "metadata": {
        "colab": {
          "base_uri": "https://localhost:8080/",
          "height": 826
        },
        "id": "ZO-NtKwJmvDq",
        "outputId": "8349dfeb-7aaa-48c2-d5dd-c94b3f7067a4"
      },
      "outputs": [],
      "source": [
        "dataset =pd.read_csv('./data/CICEVSE2024.csv')\n",
        "data = dataset.copy()\n",
        "data"
      ]
    },
    {
      "cell_type": "code",
      "execution_count": 26,
      "metadata": {
        "colab": {
          "base_uri": "https://localhost:8080/"
        },
        "id": "Yt08IbKTmvGo",
        "outputId": "745b6660-875d-4062-dd25-d5f056fefb4c"
      },
      "outputs": [
        {
          "name": "stdout",
          "output_type": "stream",
          "text": [
            "Gözlem sayısı :  2744700\n",
            "Değişken sayısı :  72\n"
          ]
        }
      ],
      "source": [
        "print(\"Gözlem sayısı : \" ,len(data))\n",
        "print(\"Değişken sayısı : \", len(data.columns))"
      ]
    },
    {
      "cell_type": "code",
      "execution_count": 4,
      "metadata": {
        "colab": {
          "base_uri": "https://localhost:8080/",
          "height": 586
        },
        "id": "RJHAUtK6mvJY",
        "outputId": "0bd65fe0-47d0-4c2d-fdeb-865c25606eb4"
      },
      "outputs": [
        {
          "data": {
            "text/plain": [
              "label_mul\n",
              "MaliciousEV syn stealth scan       228001\n",
              "charging syn stealth               222097\n",
              "charging port scan                 177409\n",
              "charging service detection scan    165171\n",
              "MaliciousEV port scan              158013\n",
              "charging syn flood                 131106\n",
              "idle tcp flood                     131104\n",
              "charging push ack flood            131095\n",
              "idle syn flood                     131090\n",
              "charging tcp flood                 131090\n",
              "charging vulnerability scan        119236\n",
              "MaliciousEV service detection       87089\n",
              "idle syn stealth scan               80848\n",
              "idle port scan                      78145\n",
              "charging os fingerprinting          72735\n",
              "idle push ack flood                 65559\n",
              "charging synonymous ip              65548\n",
              "charging synonymous ip flood        65546\n",
              "idle synonymous ip flood            65546\n",
              "idle synonymous ip                  65545\n",
              "MaliciousEV vulnerability scan      57058\n",
              "idle vulnerability scan             55073\n",
              "idle os fingerprinting              49279\n",
              "idle aggressive scan                38290\n",
              "charging aggressive scan            37872\n",
              "idle service detection              36967\n",
              "MaliciousEV os fingerprinting       18259\n",
              "charging udp flood                  16375\n",
              "MaliciousEV aggressive scan         16361\n",
              "idle udp flood                      16100\n",
              "charging Aggressive scan             9999\n",
              "charging portscan                    8117\n",
              "idle portscan                        4975\n",
              "charging service detection           3629\n",
              "idle slowloris scan                  2235\n",
              "charging slowLoris scan              1966\n",
              "idle benign                            68\n",
              "charging icmp flood                    32\n",
              "idle icmp flood                        30\n",
              "idle icmp fragmentation                17\n",
              "Charging Benign                        14\n",
              "charging icmp fragmentation            11\n",
              "Name: count, dtype: int64"
            ]
          },
          "execution_count": 4,
          "metadata": {},
          "output_type": "execute_result"
        }
      ],
      "source": [
        "data['label_mul'].value_counts()"
      ]
    },
    {
      "cell_type": "markdown",
      "metadata": {
        "id": "sJszpnuzm-ep"
      },
      "source": [
        "NaN ve Inf Değerleri Kontrol Etme\n"
      ]
    },
    {
      "cell_type": "code",
      "execution_count": 5,
      "metadata": {
        "id": "O5PokCLomvOv"
      },
      "outputs": [],
      "source": [
        "#NaN değere sahip sutünları kaldırma\n",
        "data.drop([\"requested_server_name\",\"client_fingerprint\",\"server_fingerprint\",\"user_agent\",\"content_type\"],axis=1,inplace=True)"
      ]
    },
    {
      "cell_type": "code",
      "execution_count": 6,
      "metadata": {},
      "outputs": [],
      "source": [
        "data.drop(columns=['id', 'expiration_id', 'src_mac', 'src_oui', 'dst_mac', 'dst_oui', 'src_port','dst_port'], inplace=True)"
      ]
    },
    {
      "cell_type": "code",
      "execution_count": 7,
      "metadata": {
        "colab": {
          "base_uri": "https://localhost:8080/"
        },
        "id": "5h15AbWfnqDu",
        "outputId": "1633de45-57ce-440b-a3b7-fe6309e3d24a"
      },
      "outputs": [
        {
          "name": "stdout",
          "output_type": "stream",
          "text": [
            "Non-integer columns: Index(['src_ip', 'dst_ip', 'bidirectional_mean_ps', 'bidirectional_stddev_ps',\n",
            "       'src2dst_mean_ps', 'src2dst_stddev_ps', 'dst2src_mean_ps',\n",
            "       'dst2src_stddev_ps', 'bidirectional_mean_piat_ms',\n",
            "       'bidirectional_stddev_piat_ms', 'src2dst_mean_piat_ms',\n",
            "       'src2dst_stddev_piat_ms', 'dst2src_mean_piat_ms',\n",
            "       'dst2src_stddev_piat_ms', 'application_name',\n",
            "       'application_category_name', 'label_mul'],\n",
            "      dtype='object')\n"
          ]
        }
      ],
      "source": [
        "\n",
        "non_integer_columns = data.select_dtypes(exclude=['int']).columns\n",
        "print(\"Non-integer columns:\", non_integer_columns)"
      ]
    },
    {
      "cell_type": "code",
      "execution_count": 8,
      "metadata": {
        "id": "Ta5x3TLOnqG2"
      },
      "outputs": [],
      "source": [
        "#data['application_name'] = data['application_name'].round().astype(int)\n",
        "#data['application_category_name'] = data['application_category_name'].round().astype(int)\n",
        "\n",
        "data['bidirectional_mean_ps'] = data['bidirectional_mean_ps'].round().astype(int)\n",
        "data['bidirectional_stddev_ps'] = data['bidirectional_stddev_ps'].round().astype(int)\n",
        "data['src2dst_mean_ps'] = data['src2dst_mean_ps'].round().astype(int)\n",
        "data['src2dst_stddev_ps'] = data['src2dst_stddev_ps'].round().astype(int)\n",
        "data['dst2src_mean_ps'] = data['dst2src_mean_ps'].round().astype(int)\n",
        "data['dst2src_stddev_ps'] = data['dst2src_stddev_ps'].round().astype(int)\n",
        "data['bidirectional_mean_piat_ms'] = data['bidirectional_mean_piat_ms'].round().astype(int)\n",
        "data['bidirectional_stddev_piat_ms'] = data['bidirectional_stddev_piat_ms'].round().astype(int)\n",
        "data['src2dst_mean_piat_ms'] = data['src2dst_mean_piat_ms'].round().astype(int)\n",
        "data['src2dst_stddev_piat_ms'] = data['src2dst_stddev_piat_ms'].round().astype(int)\n",
        "data['dst2src_mean_piat_ms'] = data['dst2src_mean_piat_ms'].round().astype(int)\n",
        "data['dst2src_stddev_piat_ms'] = data['dst2src_stddev_piat_ms'].round().astype(int)"
      ]
    },
    {
      "cell_type": "code",
      "execution_count": 9,
      "metadata": {},
      "outputs": [
        {
          "name": "stdout",
          "output_type": "stream",
          "text": [
            "Non-integer columns: Index(['src_ip', 'dst_ip', 'application_name', 'application_category_name',\n",
            "       'label_mul'],\n",
            "      dtype='object')\n"
          ]
        }
      ],
      "source": [
        "\n",
        "non_integer_columns = data.select_dtypes(exclude=['int']).columns\n",
        "print(\"Non-integer columns:\", non_integer_columns)"
      ]
    },
    {
      "cell_type": "code",
      "execution_count": 10,
      "metadata": {},
      "outputs": [
        {
          "data": {
            "text/plain": [
              "(array([0], dtype=int64), array([0], dtype=int64), array([0], dtype=int64))"
            ]
          },
          "execution_count": 10,
          "metadata": {},
          "output_type": "execute_result"
        }
      ],
      "source": [
        "data['vlan_id'].unique(), data['dst2src_cwr_packets'].unique(), data['dst2src_urg_packets'].unique()"
      ]
    },
    {
      "cell_type": "code",
      "execution_count": 11,
      "metadata": {},
      "outputs": [
        {
          "name": "stdout",
          "output_type": "stream",
          "text": [
            "   application_name  application_category_name\n",
            "0                61                         14\n",
            "1                23                          5\n",
            "2                35                         13\n",
            "3                22                          5\n",
            "4                42                         11\n"
          ]
        }
      ],
      "source": [
        "from sklearn.preprocessing import LabelEncoder\n",
        "\n",
        "# List of object columns to encode\n",
        "object_columns = [\n",
        "    \"application_name\",\n",
        "    \"application_category_name\",\n",
        "]\n",
        "\n",
        "# Apply label encoding to each column\n",
        "label_encoders = {}  # To store the encoders for each column\n",
        "for col in object_columns:\n",
        "    label_encoders[col] = LabelEncoder()  # Create a LabelEncoder for each column\n",
        "    data[col] = label_encoders[col].fit_transform(data[col].astype(str))  # Encode the column\n",
        "\n",
        "# Verify the result\n",
        "print(data[object_columns].head())\n"
      ]
    },
    {
      "cell_type": "code",
      "execution_count": 12,
      "metadata": {},
      "outputs": [
        {
          "name": "stdout",
          "output_type": "stream",
          "text": [
            "['aggressive-scan' 'None' 'icmp-flood' 'icmp-fragmentation'\n",
            " 'os-fingerpriting' 'TCP-port-scan' 'pshack-flood'\n",
            " 'service-version-detection' 'slowloris-scan' 'syn-flood'\n",
            " 'syn-stealth-scan' 'synonymousIP-flood' 'TCP-flood' 'upd-flood'\n",
            " 'vulnerability-scan']\n"
          ]
        }
      ],
      "source": [
        "# Original to new label mapping\n",
        "label_mapping = {\n",
        "    'charging Aggressive scan': 'aggressive-scan',\n",
        "    'Charging Benign': 'None',\n",
        "    'charging icmp flood': 'icmp-flood',\n",
        "    'charging icmp fragmentation': 'icmp-fragmentation',\n",
        "    'charging os fingerprinting': 'os-fingerpriting',\n",
        "    'charging portscan': 'TCP-port-scan',\n",
        "    'charging push ack flood': 'pshack-flood',\n",
        "    'charging service detection': 'service-version-detection',\n",
        "    'charging slowLoris scan': 'slowloris-scan',\n",
        "    'charging syn flood': 'syn-flood',\n",
        "    'charging syn stealth': 'syn-stealth-scan',\n",
        "    'charging synonymous ip': 'synonymousIP-flood',\n",
        "    'charging tcp flood': 'TCP-flood',\n",
        "    'charging udp flood': 'upd-flood',\n",
        "    'charging vulnerability scan': 'vulnerability-scan',\n",
        "    'idle aggressive scan': 'aggressive-scan',\n",
        "    'idle benign': 'None',\n",
        "    'idle icmp fragmentation': 'icmp-fragmentation',\n",
        "    'idle os fingerprinting': 'os-fingerpriting',\n",
        "    'idle portscan': 'TCP-port-scan',\n",
        "    'idle service detection': 'service-version-detection',\n",
        "    'idle slowloris scan': 'slowloris-scan',\n",
        "    'idle syn flood': 'syn-flood',\n",
        "    'idle syn stealth scan': 'syn-stealth-scan',\n",
        "    'idle synonymous ip': 'synonymousIP-flood',\n",
        "    'idle tcp flood': 'TCP-flood',\n",
        "    'idle udp flood': 'upd-flood',\n",
        "    'idle vulnerability scan': 'vulnerability-scan',\n",
        "    'charging aggressive scan': 'aggressive-scan',\n",
        "    'charging port scan': 'TCP-port-scan',\n",
        "    'charging service detection scan': 'service-version-detection',\n",
        "    'charging synonymous ip flood': 'synonymousIP-flood',\n",
        "    'idle icmp flood': 'icmp-flood',\n",
        "    'idle port scan': 'TCP-port-scan',\n",
        "    'idle push ack flood': 'pshack-flood',\n",
        "    'idle synonymous ip flood': 'synonymousIP-flood',\n",
        "    'MaliciousEV aggressive scan': 'aggressive-scan',\n",
        "    'MaliciousEV os fingerprinting': 'os-fingerpriting',\n",
        "    'MaliciousEV port scan': 'TCP-port-scan',\n",
        "    'MaliciousEV service detection': 'service-version-detection',\n",
        "    'MaliciousEV syn stealth scan': 'syn-stealth-scan',\n",
        "    'MaliciousEV vulnerability scan': 'vulnerability-scan'\n",
        "}\n",
        "\n",
        "# Apply the mapping to the label_mul column\n",
        "data['label_mul'] = data['label_mul'].map(label_mapping)\n",
        "\n",
        "# Verify the mapping\n",
        "print(data['label_mul'].unique())\n"
      ]
    },
    {
      "cell_type": "code",
      "execution_count": 13,
      "metadata": {
        "colab": {
          "base_uri": "https://localhost:8080/",
          "height": 586
        },
        "id": "YoBtEEdanqdO",
        "outputId": "bf004f69-fb07-454f-a3a6-c0d9daf993ae"
      },
      "outputs": [
        {
          "data": {
            "text/plain": [
              "label_mul\n",
              "syn-stealth-scan             530946\n",
              "TCP-port-scan                426659\n",
              "service-version-detection    292856\n",
              "syn-flood                    262196\n",
              "TCP-flood                    262194\n",
              "synonymousIP-flood           262185\n",
              "vulnerability-scan           231367\n",
              "pshack-flood                 196654\n",
              "os-fingerpriting             140273\n",
              "aggressive-scan              102522\n",
              "upd-flood                     32475\n",
              "slowloris-scan                 4201\n",
              "None                             82\n",
              "icmp-flood                       62\n",
              "icmp-fragmentation               28\n",
              "Name: count, dtype: int64"
            ]
          },
          "execution_count": 13,
          "metadata": {},
          "output_type": "execute_result"
        }
      ],
      "source": [
        "data['label_mul'].value_counts()"
      ]
    },
    {
      "cell_type": "code",
      "execution_count": null,
      "metadata": {
        "colab": {
          "base_uri": "https://localhost:8080/"
        },
        "id": "DrByRfyPnqf-",
        "outputId": "ee8f21a5-5053-4713-c64c-b91eb546913e"
      },
      "outputs": [
        {
          "name": "stdout",
          "output_type": "stream",
          "text": [
            "['aggressive-scan' 'None' 'icmp-flood' 'icmp-fragmentation'\n",
            " 'os-fingerpriting' 'TCP-port-scan' 'pshack-flood'\n",
            " 'service-version-detection' 'slowloris-scan' 'syn-flood'\n",
            " 'syn-stealth-scan' 'synonymousIP-flood' 'TCP-flood' 'upd-flood'\n",
            " 'vulnerability-scan']\n"
          ]
        }
      ],
      "source": [
        "attack_types = data['label_mul'].unique()\n",
        "print(attack_types)"
      ]
    },
    {
      "cell_type": "code",
      "execution_count": null,
      "metadata": {},
      "outputs": [],
      "source": []
    },
    {
      "cell_type": "code",
      "execution_count": 15,
      "metadata": {
        "colab": {
          "base_uri": "https://localhost:8080/",
          "height": 586
        },
        "id": "0vPx4TCZnqi5",
        "outputId": "6ad42958-62c7-4c3c-d1df-6c6f12a473c5"
      },
      "outputs": [],
      "source": [
        "data['label_mul'].replace({ 'None':0, 'aggressive-scan':1,  \n",
        "                         'icmp-flood':2, 'icmp-fragmentation':3,\n",
        "                     'os-fingerpriting':4, 'TCP-port-scan':5, 'pshack-flood':6,\n",
        " 'service-version-detection':7, 'slowloris-scan':8, 'syn-flood':9,\n",
        " 'syn-stealth-scan':10, 'synonymousIP-flood':11, 'TCP-flood':12, 'upd-flood':13,\n",
        " 'vulnerability-scan':14}, inplace= True)"
      ]
    },
    {
      "cell_type": "code",
      "execution_count": 16,
      "metadata": {},
      "outputs": [
        {
          "name": "stdout",
          "output_type": "stream",
          "text": [
            "<class 'pandas.core.frame.DataFrame'>\n",
            "RangeIndex: 2744700 entries, 0 to 2744699\n",
            "Data columns (total 74 columns):\n",
            " #   Column                        Dtype \n",
            "---  ------                        ----- \n",
            " 0   src_ip                        object\n",
            " 1   dst_ip                        object\n",
            " 2   protocol                      int64 \n",
            " 3   ip_version                    int64 \n",
            " 4   vlan_id                       int64 \n",
            " 5   tunnel_id                     int64 \n",
            " 6   bidirectional_first_seen_ms   int64 \n",
            " 7   bidirectional_last_seen_ms    int64 \n",
            " 8   bidirectional_duration_ms     int64 \n",
            " 9   bidirectional_packets         int64 \n",
            " 10  bidirectional_bytes           int64 \n",
            " 11  src2dst_first_seen_ms         int64 \n",
            " 12  src2dst_last_seen_ms          int64 \n",
            " 13  src2dst_duration_ms           int64 \n",
            " 14  src2dst_packets               int64 \n",
            " 15  src2dst_bytes                 int64 \n",
            " 16  dst2src_first_seen_ms         int64 \n",
            " 17  dst2src_last_seen_ms          int64 \n",
            " 18  dst2src_duration_ms           int64 \n",
            " 19  dst2src_packets               int64 \n",
            " 20  dst2src_bytes                 int64 \n",
            " 21  bidirectional_min_ps          int64 \n",
            " 22  bidirectional_mean_ps         int32 \n",
            " 23  bidirectional_stddev_ps       int32 \n",
            " 24  bidirectional_max_ps          int64 \n",
            " 25  src2dst_min_ps                int64 \n",
            " 26  src2dst_mean_ps               int32 \n",
            " 27  src2dst_stddev_ps             int32 \n",
            " 28  src2dst_max_ps                int64 \n",
            " 29  dst2src_min_ps                int64 \n",
            " 30  dst2src_mean_ps               int32 \n",
            " 31  dst2src_stddev_ps             int32 \n",
            " 32  dst2src_max_ps                int64 \n",
            " 33  bidirectional_min_piat_ms     int64 \n",
            " 34  bidirectional_mean_piat_ms    int32 \n",
            " 35  bidirectional_stddev_piat_ms  int32 \n",
            " 36  bidirectional_max_piat_ms     int64 \n",
            " 37  src2dst_min_piat_ms           int64 \n",
            " 38  src2dst_mean_piat_ms          int32 \n",
            " 39  src2dst_stddev_piat_ms        int32 \n",
            " 40  src2dst_max_piat_ms           int64 \n",
            " 41  dst2src_min_piat_ms           int64 \n",
            " 42  dst2src_mean_piat_ms          int32 \n",
            " 43  dst2src_stddev_piat_ms        int32 \n",
            " 44  dst2src_max_piat_ms           int64 \n",
            " 45  bidirectional_syn_packets     int64 \n",
            " 46  bidirectional_cwr_packets     int64 \n",
            " 47  bidirectional_ece_packets     int64 \n",
            " 48  bidirectional_urg_packets     int64 \n",
            " 49  bidirectional_ack_packets     int64 \n",
            " 50  bidirectional_psh_packets     int64 \n",
            " 51  bidirectional_rst_packets     int64 \n",
            " 52  bidirectional_fin_packets     int64 \n",
            " 53  src2dst_syn_packets           int64 \n",
            " 54  src2dst_cwr_packets           int64 \n",
            " 55  src2dst_ece_packets           int64 \n",
            " 56  src2dst_urg_packets           int64 \n",
            " 57  src2dst_ack_packets           int64 \n",
            " 58  src2dst_psh_packets           int64 \n",
            " 59  src2dst_rst_packets           int64 \n",
            " 60  src2dst_fin_packets           int64 \n",
            " 61  dst2src_syn_packets           int64 \n",
            " 62  dst2src_cwr_packets           int64 \n",
            " 63  dst2src_ece_packets           int64 \n",
            " 64  dst2src_urg_packets           int64 \n",
            " 65  dst2src_ack_packets           int64 \n",
            " 66  dst2src_psh_packets           int64 \n",
            " 67  dst2src_rst_packets           int64 \n",
            " 68  dst2src_fin_packets           int64 \n",
            " 69  application_name              int32 \n",
            " 70  application_category_name     int32 \n",
            " 71  application_is_guessed        int64 \n",
            " 72  application_confidence        int64 \n",
            " 73  label_mul                     int64 \n",
            "dtypes: int32(14), int64(58), object(2)\n",
            "memory usage: 1.4+ GB\n"
          ]
        }
      ],
      "source": [
        "data.info()"
      ]
    },
    {
      "cell_type": "code",
      "execution_count": 19,
      "metadata": {},
      "outputs": [
        {
          "data": {
            "text/html": [
              "<div>\n",
              "<style scoped>\n",
              "    .dataframe tbody tr th:only-of-type {\n",
              "        vertical-align: middle;\n",
              "    }\n",
              "\n",
              "    .dataframe tbody tr th {\n",
              "        vertical-align: top;\n",
              "    }\n",
              "\n",
              "    .dataframe thead th {\n",
              "        text-align: right;\n",
              "    }\n",
              "</style>\n",
              "<table border=\"1\" class=\"dataframe\">\n",
              "  <thead>\n",
              "    <tr style=\"text-align: right;\">\n",
              "      <th></th>\n",
              "      <th>src_ip</th>\n",
              "      <th>dst_ip</th>\n",
              "      <th>protocol</th>\n",
              "      <th>ip_version</th>\n",
              "      <th>vlan_id</th>\n",
              "      <th>tunnel_id</th>\n",
              "      <th>bidirectional_first_seen_ms</th>\n",
              "      <th>bidirectional_last_seen_ms</th>\n",
              "      <th>bidirectional_duration_ms</th>\n",
              "      <th>bidirectional_packets</th>\n",
              "      <th>...</th>\n",
              "      <th>dst2src_urg_packets</th>\n",
              "      <th>dst2src_ack_packets</th>\n",
              "      <th>dst2src_psh_packets</th>\n",
              "      <th>dst2src_rst_packets</th>\n",
              "      <th>dst2src_fin_packets</th>\n",
              "      <th>application_name</th>\n",
              "      <th>application_category_name</th>\n",
              "      <th>application_is_guessed</th>\n",
              "      <th>application_confidence</th>\n",
              "      <th>label_mul</th>\n",
              "    </tr>\n",
              "  </thead>\n",
              "  <tbody>\n",
              "    <tr>\n",
              "      <th>0</th>\n",
              "      <td>192.168.137.85</td>\n",
              "      <td>192.168.137.226</td>\n",
              "      <td>6</td>\n",
              "      <td>4</td>\n",
              "      <td>0</td>\n",
              "      <td>0</td>\n",
              "      <td>1703261991666</td>\n",
              "      <td>1703261991779</td>\n",
              "      <td>113</td>\n",
              "      <td>2</td>\n",
              "      <td>...</td>\n",
              "      <td>0</td>\n",
              "      <td>1</td>\n",
              "      <td>0</td>\n",
              "      <td>1</td>\n",
              "      <td>0</td>\n",
              "      <td>61</td>\n",
              "      <td>14</td>\n",
              "      <td>0</td>\n",
              "      <td>0</td>\n",
              "      <td>1</td>\n",
              "    </tr>\n",
              "    <tr>\n",
              "      <th>1</th>\n",
              "      <td>192.168.137.85</td>\n",
              "      <td>192.168.137.226</td>\n",
              "      <td>6</td>\n",
              "      <td>4</td>\n",
              "      <td>0</td>\n",
              "      <td>0</td>\n",
              "      <td>1703261991667</td>\n",
              "      <td>1703261991784</td>\n",
              "      <td>117</td>\n",
              "      <td>2</td>\n",
              "      <td>...</td>\n",
              "      <td>0</td>\n",
              "      <td>1</td>\n",
              "      <td>0</td>\n",
              "      <td>1</td>\n",
              "      <td>0</td>\n",
              "      <td>23</td>\n",
              "      <td>5</td>\n",
              "      <td>1</td>\n",
              "      <td>1</td>\n",
              "      <td>1</td>\n",
              "    </tr>\n",
              "    <tr>\n",
              "      <th>2</th>\n",
              "      <td>192.168.137.85</td>\n",
              "      <td>192.168.137.226</td>\n",
              "      <td>6</td>\n",
              "      <td>4</td>\n",
              "      <td>0</td>\n",
              "      <td>0</td>\n",
              "      <td>1703261991667</td>\n",
              "      <td>1703261991784</td>\n",
              "      <td>117</td>\n",
              "      <td>2</td>\n",
              "      <td>...</td>\n",
              "      <td>0</td>\n",
              "      <td>1</td>\n",
              "      <td>0</td>\n",
              "      <td>1</td>\n",
              "      <td>0</td>\n",
              "      <td>35</td>\n",
              "      <td>13</td>\n",
              "      <td>1</td>\n",
              "      <td>1</td>\n",
              "      <td>1</td>\n",
              "    </tr>\n",
              "    <tr>\n",
              "      <th>3</th>\n",
              "      <td>192.168.137.85</td>\n",
              "      <td>192.168.137.226</td>\n",
              "      <td>6</td>\n",
              "      <td>4</td>\n",
              "      <td>0</td>\n",
              "      <td>0</td>\n",
              "      <td>1703261991667</td>\n",
              "      <td>1703261991785</td>\n",
              "      <td>118</td>\n",
              "      <td>2</td>\n",
              "      <td>...</td>\n",
              "      <td>0</td>\n",
              "      <td>1</td>\n",
              "      <td>0</td>\n",
              "      <td>1</td>\n",
              "      <td>0</td>\n",
              "      <td>22</td>\n",
              "      <td>5</td>\n",
              "      <td>1</td>\n",
              "      <td>1</td>\n",
              "      <td>1</td>\n",
              "    </tr>\n",
              "    <tr>\n",
              "      <th>4</th>\n",
              "      <td>192.168.137.85</td>\n",
              "      <td>192.168.137.226</td>\n",
              "      <td>6</td>\n",
              "      <td>4</td>\n",
              "      <td>0</td>\n",
              "      <td>0</td>\n",
              "      <td>1703261991667</td>\n",
              "      <td>1703261991785</td>\n",
              "      <td>118</td>\n",
              "      <td>2</td>\n",
              "      <td>...</td>\n",
              "      <td>0</td>\n",
              "      <td>1</td>\n",
              "      <td>0</td>\n",
              "      <td>1</td>\n",
              "      <td>0</td>\n",
              "      <td>42</td>\n",
              "      <td>11</td>\n",
              "      <td>1</td>\n",
              "      <td>1</td>\n",
              "      <td>1</td>\n",
              "    </tr>\n",
              "    <tr>\n",
              "      <th>...</th>\n",
              "      <td>...</td>\n",
              "      <td>...</td>\n",
              "      <td>...</td>\n",
              "      <td>...</td>\n",
              "      <td>...</td>\n",
              "      <td>...</td>\n",
              "      <td>...</td>\n",
              "      <td>...</td>\n",
              "      <td>...</td>\n",
              "      <td>...</td>\n",
              "      <td>...</td>\n",
              "      <td>...</td>\n",
              "      <td>...</td>\n",
              "      <td>...</td>\n",
              "      <td>...</td>\n",
              "      <td>...</td>\n",
              "      <td>...</td>\n",
              "      <td>...</td>\n",
              "      <td>...</td>\n",
              "      <td>...</td>\n",
              "      <td>...</td>\n",
              "    </tr>\n",
              "    <tr>\n",
              "      <th>2744695</th>\n",
              "      <td>192.168.10.4</td>\n",
              "      <td>192.168.10.2</td>\n",
              "      <td>6</td>\n",
              "      <td>4</td>\n",
              "      <td>0</td>\n",
              "      <td>0</td>\n",
              "      <td>1703104383605</td>\n",
              "      <td>1703104383606</td>\n",
              "      <td>1</td>\n",
              "      <td>2</td>\n",
              "      <td>...</td>\n",
              "      <td>0</td>\n",
              "      <td>1</td>\n",
              "      <td>0</td>\n",
              "      <td>1</td>\n",
              "      <td>0</td>\n",
              "      <td>61</td>\n",
              "      <td>14</td>\n",
              "      <td>0</td>\n",
              "      <td>0</td>\n",
              "      <td>14</td>\n",
              "    </tr>\n",
              "    <tr>\n",
              "      <th>2744696</th>\n",
              "      <td>192.168.10.4</td>\n",
              "      <td>192.168.10.2</td>\n",
              "      <td>6</td>\n",
              "      <td>4</td>\n",
              "      <td>0</td>\n",
              "      <td>0</td>\n",
              "      <td>1703104383606</td>\n",
              "      <td>1703104383606</td>\n",
              "      <td>0</td>\n",
              "      <td>2</td>\n",
              "      <td>...</td>\n",
              "      <td>0</td>\n",
              "      <td>1</td>\n",
              "      <td>0</td>\n",
              "      <td>1</td>\n",
              "      <td>0</td>\n",
              "      <td>61</td>\n",
              "      <td>14</td>\n",
              "      <td>0</td>\n",
              "      <td>0</td>\n",
              "      <td>14</td>\n",
              "    </tr>\n",
              "    <tr>\n",
              "      <th>2744697</th>\n",
              "      <td>192.168.10.4</td>\n",
              "      <td>192.168.10.2</td>\n",
              "      <td>6</td>\n",
              "      <td>4</td>\n",
              "      <td>0</td>\n",
              "      <td>0</td>\n",
              "      <td>1703104383606</td>\n",
              "      <td>1703104383606</td>\n",
              "      <td>0</td>\n",
              "      <td>2</td>\n",
              "      <td>...</td>\n",
              "      <td>0</td>\n",
              "      <td>1</td>\n",
              "      <td>0</td>\n",
              "      <td>1</td>\n",
              "      <td>0</td>\n",
              "      <td>61</td>\n",
              "      <td>14</td>\n",
              "      <td>0</td>\n",
              "      <td>0</td>\n",
              "      <td>14</td>\n",
              "    </tr>\n",
              "    <tr>\n",
              "      <th>2744698</th>\n",
              "      <td>192.168.10.4</td>\n",
              "      <td>192.168.10.2</td>\n",
              "      <td>6</td>\n",
              "      <td>4</td>\n",
              "      <td>0</td>\n",
              "      <td>0</td>\n",
              "      <td>1703104383606</td>\n",
              "      <td>1703104383606</td>\n",
              "      <td>0</td>\n",
              "      <td>2</td>\n",
              "      <td>...</td>\n",
              "      <td>0</td>\n",
              "      <td>1</td>\n",
              "      <td>0</td>\n",
              "      <td>1</td>\n",
              "      <td>0</td>\n",
              "      <td>61</td>\n",
              "      <td>14</td>\n",
              "      <td>0</td>\n",
              "      <td>0</td>\n",
              "      <td>14</td>\n",
              "    </tr>\n",
              "    <tr>\n",
              "      <th>2744699</th>\n",
              "      <td>192.168.10.4</td>\n",
              "      <td>192.168.10.2</td>\n",
              "      <td>6</td>\n",
              "      <td>4</td>\n",
              "      <td>0</td>\n",
              "      <td>0</td>\n",
              "      <td>1703104383840</td>\n",
              "      <td>1703104383898</td>\n",
              "      <td>58</td>\n",
              "      <td>9</td>\n",
              "      <td>...</td>\n",
              "      <td>0</td>\n",
              "      <td>4</td>\n",
              "      <td>1</td>\n",
              "      <td>0</td>\n",
              "      <td>1</td>\n",
              "      <td>54</td>\n",
              "      <td>12</td>\n",
              "      <td>0</td>\n",
              "      <td>6</td>\n",
              "      <td>14</td>\n",
              "    </tr>\n",
              "  </tbody>\n",
              "</table>\n",
              "<p>2744700 rows × 74 columns</p>\n",
              "</div>"
            ],
            "text/plain": [
              "                 src_ip           dst_ip  protocol  ip_version  vlan_id  \\\n",
              "0        192.168.137.85  192.168.137.226         6           4        0   \n",
              "1        192.168.137.85  192.168.137.226         6           4        0   \n",
              "2        192.168.137.85  192.168.137.226         6           4        0   \n",
              "3        192.168.137.85  192.168.137.226         6           4        0   \n",
              "4        192.168.137.85  192.168.137.226         6           4        0   \n",
              "...                 ...              ...       ...         ...      ...   \n",
              "2744695    192.168.10.4     192.168.10.2         6           4        0   \n",
              "2744696    192.168.10.4     192.168.10.2         6           4        0   \n",
              "2744697    192.168.10.4     192.168.10.2         6           4        0   \n",
              "2744698    192.168.10.4     192.168.10.2         6           4        0   \n",
              "2744699    192.168.10.4     192.168.10.2         6           4        0   \n",
              "\n",
              "         tunnel_id  bidirectional_first_seen_ms  bidirectional_last_seen_ms  \\\n",
              "0                0                1703261991666               1703261991779   \n",
              "1                0                1703261991667               1703261991784   \n",
              "2                0                1703261991667               1703261991784   \n",
              "3                0                1703261991667               1703261991785   \n",
              "4                0                1703261991667               1703261991785   \n",
              "...            ...                          ...                         ...   \n",
              "2744695          0                1703104383605               1703104383606   \n",
              "2744696          0                1703104383606               1703104383606   \n",
              "2744697          0                1703104383606               1703104383606   \n",
              "2744698          0                1703104383606               1703104383606   \n",
              "2744699          0                1703104383840               1703104383898   \n",
              "\n",
              "         bidirectional_duration_ms  bidirectional_packets  ...  \\\n",
              "0                              113                      2  ...   \n",
              "1                              117                      2  ...   \n",
              "2                              117                      2  ...   \n",
              "3                              118                      2  ...   \n",
              "4                              118                      2  ...   \n",
              "...                            ...                    ...  ...   \n",
              "2744695                          1                      2  ...   \n",
              "2744696                          0                      2  ...   \n",
              "2744697                          0                      2  ...   \n",
              "2744698                          0                      2  ...   \n",
              "2744699                         58                      9  ...   \n",
              "\n",
              "         dst2src_urg_packets  dst2src_ack_packets  dst2src_psh_packets  \\\n",
              "0                          0                    1                    0   \n",
              "1                          0                    1                    0   \n",
              "2                          0                    1                    0   \n",
              "3                          0                    1                    0   \n",
              "4                          0                    1                    0   \n",
              "...                      ...                  ...                  ...   \n",
              "2744695                    0                    1                    0   \n",
              "2744696                    0                    1                    0   \n",
              "2744697                    0                    1                    0   \n",
              "2744698                    0                    1                    0   \n",
              "2744699                    0                    4                    1   \n",
              "\n",
              "         dst2src_rst_packets  dst2src_fin_packets  application_name  \\\n",
              "0                          1                    0                61   \n",
              "1                          1                    0                23   \n",
              "2                          1                    0                35   \n",
              "3                          1                    0                22   \n",
              "4                          1                    0                42   \n",
              "...                      ...                  ...               ...   \n",
              "2744695                    1                    0                61   \n",
              "2744696                    1                    0                61   \n",
              "2744697                    1                    0                61   \n",
              "2744698                    1                    0                61   \n",
              "2744699                    0                    1                54   \n",
              "\n",
              "         application_category_name  application_is_guessed  \\\n",
              "0                               14                       0   \n",
              "1                                5                       1   \n",
              "2                               13                       1   \n",
              "3                                5                       1   \n",
              "4                               11                       1   \n",
              "...                            ...                     ...   \n",
              "2744695                         14                       0   \n",
              "2744696                         14                       0   \n",
              "2744697                         14                       0   \n",
              "2744698                         14                       0   \n",
              "2744699                         12                       0   \n",
              "\n",
              "         application_confidence  label_mul  \n",
              "0                             0          1  \n",
              "1                             1          1  \n",
              "2                             1          1  \n",
              "3                             1          1  \n",
              "4                             1          1  \n",
              "...                         ...        ...  \n",
              "2744695                       0         14  \n",
              "2744696                       0         14  \n",
              "2744697                       0         14  \n",
              "2744698                       0         14  \n",
              "2744699                       6         14  \n",
              "\n",
              "[2744700 rows x 74 columns]"
            ]
          },
          "execution_count": 19,
          "metadata": {},
          "output_type": "execute_result"
        }
      ],
      "source": [
        "data"
      ]
    },
    {
      "cell_type": "code",
      "execution_count": 20,
      "metadata": {
        "id": "aX_UO-PjoErw"
      },
      "outputs": [],
      "source": [
        "data.to_csv(\"./data/cleaned_merged_data.csv\", index = False)"
      ]
    },
    {
      "cell_type": "code",
      "execution_count": 23,
      "metadata": {},
      "outputs": [],
      "source": [
        "data.drop(columns=['src_ip','dst_ip'], inplace=True)"
      ]
    },
    {
      "cell_type": "code",
      "execution_count": 24,
      "metadata": {
        "colab": {
          "base_uri": "https://localhost:8080/"
        },
        "id": "blfTREs7oE0u",
        "outputId": "374307e8-a036-4ecf-854c-88368b6d355f"
      },
      "outputs": [
        {
          "name": "stdout",
          "output_type": "stream",
          "text": [
            "   protocol  ip_version  vlan_id  tunnel_id  bidirectional_first_seen_ms  \\\n",
            "0  0.020408         0.0      0.0        0.0                     0.187793   \n",
            "1  0.020408         0.0      0.0        0.0                     0.187793   \n",
            "2  0.020408         0.0      0.0        0.0                     0.187793   \n",
            "3  0.020408         0.0      0.0        0.0                     0.187793   \n",
            "4  0.020408         0.0      0.0        0.0                     0.187793   \n",
            "\n",
            "   bidirectional_last_seen_ms  bidirectional_duration_ms  \\\n",
            "0                    0.187653                   0.000063   \n",
            "1                    0.187653                   0.000065   \n",
            "2                    0.187653                   0.000065   \n",
            "3                    0.187653                   0.000066   \n",
            "4                    0.187653                   0.000066   \n",
            "\n",
            "   bidirectional_packets  bidirectional_bytes  src2dst_first_seen_ms  ...  \\\n",
            "0           9.315038e-08         9.804380e-09               0.187793  ...   \n",
            "1           9.315038e-08         9.804380e-09               0.187793  ...   \n",
            "2           9.315038e-08         9.804380e-09               0.187793  ...   \n",
            "3           9.315038e-08         9.804380e-09               0.187793  ...   \n",
            "4           9.315038e-08         9.804380e-09               0.187793  ...   \n",
            "\n",
            "   dst2src_urg_packets  dst2src_ack_packets  dst2src_psh_packets  \\\n",
            "0                  0.0             0.000145                  0.0   \n",
            "1                  0.0             0.000145                  0.0   \n",
            "2                  0.0             0.000145                  0.0   \n",
            "3                  0.0             0.000145                  0.0   \n",
            "4                  0.0             0.000145                  0.0   \n",
            "\n",
            "   dst2src_rst_packets  dst2src_fin_packets  application_name  \\\n",
            "0             0.052632                  0.0          0.938462   \n",
            "1             0.052632                  0.0          0.353846   \n",
            "2             0.052632                  0.0          0.538462   \n",
            "3             0.052632                  0.0          0.338462   \n",
            "4             0.052632                  0.0          0.646154   \n",
            "\n",
            "   application_category_name  application_is_guessed  application_confidence  \\\n",
            "0                   0.823529                     0.0                0.000000   \n",
            "1                   0.294118                     1.0                0.166667   \n",
            "2                   0.764706                     1.0                0.166667   \n",
            "3                   0.294118                     1.0                0.166667   \n",
            "4                   0.647059                     1.0                0.166667   \n",
            "\n",
            "   label_mul  \n",
            "0          1  \n",
            "1          1  \n",
            "2          1  \n",
            "3          1  \n",
            "4          1  \n",
            "\n",
            "[5 rows x 72 columns]\n"
          ]
        }
      ],
      "source": [
        "from sklearn.preprocessing import MinMaxScaler\n",
        "\n",
        "# Min-Max normalizasyonu için bir ölçekleyici oluşturun\n",
        "scaler = MinMaxScaler()\n",
        "\n",
        "# 'atack_num' sütununu dışındaki veri sütunlarını ölçeklendirin\n",
        "scaled_data = data.copy()  # Veriyi korumak için kopyalayın\n",
        "columns_to_scale = scaled_data.columns.difference(['label_mul'])  # 'atack_num' sütunu dışındaki sütunları seçin\n",
        "scaled_data[columns_to_scale] = scaler.fit_transform(scaled_data[columns_to_scale])  # Seçilen sütunları ölçeklendirin\n",
        "\n",
        "# Normalleştirilmiş veriyi görüntüleyin\n",
        "print(scaled_data.head())\n",
        "data = scaled_data.copy()\n"
      ]
    },
    {
      "cell_type": "code",
      "execution_count": 25,
      "metadata": {
        "id": "OcF_pClcoE38"
      },
      "outputs": [],
      "source": [
        "data.to_csv(\"./data/cleaned_merged_data_MinMax.csv\", index = False)"
      ]
    }
  ],
  "metadata": {
    "colab": {
      "provenance": []
    },
    "kernelspec": {
      "display_name": "base",
      "language": "python",
      "name": "python3"
    },
    "language_info": {
      "codemirror_mode": {
        "name": "ipython",
        "version": 3
      },
      "file_extension": ".py",
      "mimetype": "text/x-python",
      "name": "python",
      "nbconvert_exporter": "python",
      "pygments_lexer": "ipython3",
      "version": "3.11.5"
    }
  },
  "nbformat": 4,
  "nbformat_minor": 0
}
