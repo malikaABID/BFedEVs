{
 "cells": [
  {
   "cell_type": "code",
   "execution_count": 1,
   "id": "7f5982bd-f859-4943-bc6a-68b411bdf90e",
   "metadata": {},
   "outputs": [],
   "source": [
    "import pandas as pd\n",
    "import numpy as np\n",
    "\n",
    "# Load the dataset\n",
    "file_path = './data/SMOTE_data.csv'\n",
    "df = pd.read_csv(file_path)"
   ]
  },
  {
   "cell_type": "code",
   "execution_count": 2,
   "id": "c0dec095-d4b4-4051-8563-0a0fb96fbb4a",
   "metadata": {},
   "outputs": [
    {
     "data": {
      "text/plain": [
       "(7964190, 10)"
      ]
     },
     "execution_count": 2,
     "metadata": {},
     "output_type": "execute_result"
    }
   ],
   "source": [
    "df.shape"
   ]
  },
  {
   "cell_type": "code",
   "execution_count": 4,
   "id": "146b9096-d6d5-442c-9fa5-39f663e8176b",
   "metadata": {},
   "outputs": [
    {
     "name": "stdout",
     "output_type": "stream",
     "text": [
      "<class 'pandas.core.frame.DataFrame'>\n",
      "RangeIndex: 7964190 entries, 0 to 7964189\n",
      "Data columns (total 10 columns):\n",
      " #   Column                     Dtype  \n",
      "---  ------                     -----  \n",
      " 0   dst2src_first_seen_ms      float64\n",
      " 1   dst2src_last_seen_ms       float64\n",
      " 2   dst2src_max_piat_ms        float64\n",
      " 3   bidirectional_syn_packets  float64\n",
      " 4   src2dst_syn_packets        float64\n",
      " 5   application_name           float64\n",
      " 6   application_category_name  float64\n",
      " 7   application_is_guessed     float64\n",
      " 8   application_confidence     float64\n",
      " 9   label_mul                  int64  \n",
      "dtypes: float64(9), int64(1)\n",
      "memory usage: 607.6 MB\n"
     ]
    }
   ],
   "source": [
    "df.info()"
   ]
  },
  {
   "cell_type": "code",
   "execution_count": 5,
   "id": "a58f177a-fee2-4d69-8f65-80de7d2af4df",
   "metadata": {},
   "outputs": [],
   "source": [
    "\n",
    "import numpy as np\n",
    "import pandas as pd\n",
    "import matplotlib.pyplot as plt\n",
    "\n",
    "# Sample DataFrame creation (replace this with your actual DataFrame)\n",
    "data = {\n",
    "    'dst2src_first_seen_ms': np.random.rand(100),\n",
    "    'dst2src_last_seen_ms': np.random.rand(100),\n",
    "    'dst2src_max_piat_ms': np.random.rand(100),\n",
    "    'bidirectional_syn_packets': np.random.rand(100),\n",
    "    'src2dst_syn_packets': np.random.rand(100),\n",
    "    'application_is_guessed': np.random.randint(0, 2, 100),\n",
    "    'application_confidence': np.random.rand(100),\n",
    "    'label_mul': np.random.randint(0, 15, 100)\n",
    "}\n",
    "\n",
    "df = pd.DataFrame(data)\n",
    "\n",
    "# Create binary labels\n",
    "df['binary_label'] = df['label_mul'].apply(lambda x: 0 if x == 0 else 1)\n",
    "\n",
    "# Prepare features and labels\n",
    "features = df.drop(columns=['label_mul', 'binary_label', 'application_is_guessed', 'application_confidence'])\n",
    "labels = df['binary_label'].values\n",
    "\n",
    "\n",
    "\n"
   ]
  },
  {
   "cell_type": "code",
   "execution_count": 6,
   "id": "37281e31-370b-4b88-ae75-8d7fa64cf200",
   "metadata": {},
   "outputs": [
    {
     "data": {
      "text/plain": [
       "array([1, 1, 1, 1, 1, 1, 1, 1, 1, 1, 1, 1, 0, 1, 1, 1, 1, 1, 1, 1, 1, 1,\n",
       "       1, 1, 1, 1, 1, 1, 1, 1, 1, 1, 1, 1, 1, 1, 1, 1, 1, 1, 1, 1, 1, 1,\n",
       "       1, 1, 1, 1, 1, 0, 1, 1, 1, 0, 1, 1, 1, 1, 1, 1, 1, 1, 1, 1, 1, 1,\n",
       "       1, 1, 1, 0, 1, 1, 1, 0, 1, 1, 1, 1, 1, 1, 0, 1, 1, 0, 1, 1, 1, 1,\n",
       "       1, 1, 1, 0, 1, 1, 1, 1, 1, 1, 1, 1], dtype=int64)"
      ]
     },
     "execution_count": 6,
     "metadata": {},
     "output_type": "execute_result"
    }
   ],
   "source": [
    "labels"
   ]
  },
  {
   "cell_type": "code",
   "execution_count": 7,
   "id": "cdf00c19-13d2-4b9f-b03e-8c1ae0523081",
   "metadata": {},
   "outputs": [
    {
     "name": "stdout",
     "output_type": "stream",
     "text": [
      "Requirement already satisfied: imblearn in c:\\users\\malika\\appdata\\local\\anaconda3\\lib\\site-packages (0.0)\n",
      "Requirement already satisfied: imbalanced-learn in c:\\users\\malika\\appdata\\local\\anaconda3\\lib\\site-packages (from imblearn) (0.12.0)\n",
      "Requirement already satisfied: numpy>=1.17.3 in c:\\users\\malika\\appdata\\local\\anaconda3\\lib\\site-packages (from imbalanced-learn->imblearn) (1.24.3)\n",
      "Requirement already satisfied: scipy>=1.5.0 in c:\\users\\malika\\appdata\\local\\anaconda3\\lib\\site-packages (from imbalanced-learn->imblearn) (1.11.1)\n",
      "Requirement already satisfied: scikit-learn>=1.0.2 in c:\\users\\malika\\appdata\\local\\anaconda3\\lib\\site-packages (from imbalanced-learn->imblearn) (1.2.2)\n",
      "Requirement already satisfied: joblib>=1.1.1 in c:\\users\\malika\\appdata\\local\\anaconda3\\lib\\site-packages (from imbalanced-learn->imblearn) (1.2.0)\n",
      "Requirement already satisfied: threadpoolctl>=2.0.0 in c:\\users\\malika\\appdata\\local\\anaconda3\\lib\\site-packages (from imbalanced-learn->imblearn) (2.2.0)\n",
      "Note: you may need to restart the kernel to use updated packages.\n"
     ]
    }
   ],
   "source": [
    "pip install imblearn"
   ]
  },
  {
   "cell_type": "code",
   "execution_count": 8,
   "id": "b9950e1a-6a39-4318-a94b-7da7b3533e59",
   "metadata": {},
   "outputs": [],
   "source": [
    "import numpy as np\n",
    "import pandas as pd\n",
    "from sklearn.model_selection import train_test_split\n",
    "from sklearn.preprocessing import MinMaxScaler, LabelEncoder\n",
    "from tensorflow.keras.models import Sequential\n",
    "from tensorflow.keras.layers import LSTM, Dense, Dropout\n",
    "from tensorflow.keras.utils import to_categorical\n",
    "from imblearn.over_sampling import SMOTE\n",
    "import matplotlib.pyplot as plt"
   ]
  },
  {
   "cell_type": "raw",
   "id": "8e65af5c-f35d-425c-8e6a-b9b095c4551d",
   "metadata": {},
   "source": [
    "def load_and_preprocess_data(filepath):\n",
    "    # Load the data\n",
    "    df = pd.read_csv(filepath)\n",
    "    \n",
    "    # Create binary labels from 'label_mul'\n",
    "    df['binary_label'] = df['label_mul'].apply(lambda x: 0 if x == 0 else 1)\n",
    "    \n",
    "    # Prepare features and labels\n",
    "    y = df['binary_label'].values  # Use the binary labels\n",
    "    X = df.drop(['label_mul', 'binary_label'], axis=1).values  # Drop the original label and binary label\n",
    "    \n",
    "    # Scale the features\n",
    "    scaler = MinMaxScaler()\n",
    "    X_scaled = scaler.fit_transform(X)\n",
    "    \n",
    "    # Reshape the data for LSTM (timesteps, features)\n",
    "    timesteps, features = 1, X_scaled.shape[1] // 1\n",
    "    X_reshaped = X_scaled.reshape(-1, timesteps, features)\n",
    "    \n",
    "    return X_reshaped, y, timesteps, features\n"
   ]
  },
  {
   "cell_type": "code",
   "execution_count": 9,
   "id": "aafb4f67-8359-4102-9712-b663e1139d59",
   "metadata": {},
   "outputs": [],
   "source": [
    "def load_and_preprocess_data(filepath):\n",
    "    df = pd.read_csv(filepath)\n",
    "    label_encoder = LabelEncoder()\n",
    "    y_encoded = label_encoder.fit_transform(df['label_mul'])\n",
    "    y = to_categorical(y_encoded)\n",
    "    X = df.drop(['label_mul'], axis=1).values\n",
    "    scaler = MinMaxScaler()\n",
    "    X_scaled = scaler.fit_transform(X)\n",
    "    timesteps, features = 1, X_scaled.shape[1] // 1\n",
    "    X_reshaped = X_scaled.reshape(-1, timesteps, features)\n",
    "    return X_reshaped, y, timesteps, features\n"
   ]
  },
  {
   "cell_type": "code",
   "execution_count": 10,
   "id": "e26c5119-6824-4880-8ad5-4d32a1ff65bb",
   "metadata": {},
   "outputs": [],
   "source": [
    "def distribute_data_dirichlet(X, y, num_clients, alpha=0.01):\n",
    "    y_labels = np.argmax(y, axis=1) if y.ndim > 1 else y\n",
    "    num_classes = len(np.unique(y_labels))\n",
    "    class_indices = [np.where(y_labels == i)[0] for i in range(num_classes)]\n",
    "\n",
    "    client_indices = [[] for _ in range(num_clients)]\n",
    "\n",
    "    for c in range(num_classes):\n",
    "        np.random.shuffle(class_indices[c])\n",
    "        proportions = np.random.dirichlet(np.repeat(alpha, num_clients))\n",
    "        proportions = proportions / proportions.sum()  # Normalize proportions\n",
    "\n",
    "        split_points = (np.cumsum(proportions) * len(class_indices[c])).astype(int)\n",
    "        split_points[-1] = len(class_indices[c])  # Ensure last point matches length\n",
    "        splits = np.split(class_indices[c], split_points[:-1])\n",
    "\n",
    "        for i in range(num_clients):\n",
    "            client_indices[i].extend(splits[i])\n",
    "\n",
    "    clients_data = [(X[client_idx], y[client_idx]) for client_idx in client_indices]\n",
    "    return clients_data\n"
   ]
  },
  {
   "cell_type": "code",
   "execution_count": 11,
   "id": "9eecf8e5-1c27-4022-8a3c-29ddda66c18e",
   "metadata": {},
   "outputs": [],
   "source": [
    "import matplotlib.pyplot as plt\n",
    "import matplotlib.cm as cm\n",
    "import numpy as np\n",
    "\n",
    "def plot_label_distribution(clients_data, task_name,alpha,exclude_label=6 ):\n",
    "    num_clients = len(clients_data)\n",
    "    fig, axes = plt.subplots(1, num_clients, figsize=(20, 5), tight_layout=True)\n",
    "    fig.suptitle(f'Label Distribution Across Clients for {task_name} Task aplha ={alpha}')\n",
    "\n",
    "    # Create a color map (using a colormap like 'tab10', 'tab20', etc.)\n",
    "    cmap = plt.get_cmap('tab10')  # tab10 has 10 different colors\n",
    "    colors = [cmap(i) for i in range(10)]  # Adjust according to number of labels you have\n",
    "\n",
    "    for i, (X_client, y_client) in enumerate(clients_data):\n",
    "        labels = np.argmax(y_client, axis=1) if y_client.ndim > 1 else y_client\n",
    "        labels = labels[labels != exclude_label]\n",
    "\n",
    "        unique, counts = np.unique(labels, return_counts=True)\n",
    "\n",
    "        # Assign a color for each unique label\n",
    "        label_colors = [colors[label % len(colors)] for label in unique]\n",
    "\n",
    "        axes[i].bar(unique, counts, color=label_colors)\n",
    "        axes[i].set_title(f'Client {i+1}')\n",
    "        axes[i].set_xlabel('Label')\n",
    "        axes[i].set_ylabel('Count')\n",
    "        axes[i].set_xticks(unique)\n",
    "    plt.savefig('attack_distributiona.png', dpi=600, bbox_inches='tight')\n",
    "    plt.show()\n"
   ]
  },
  {
   "cell_type": "code",
   "execution_count": 12,
   "id": "eb8adea1-a239-4f2e-bed4-aaf9e1dce85f",
   "metadata": {},
   "outputs": [],
   "source": [
    "num_clients = 5\n",
    "num_rounds = 10\n",
    "task_name = 'Non-IID'\n",
    "alpha = 1000"
   ]
  },
  {
   "cell_type": "code",
   "execution_count": 13,
   "id": "857c5127-985b-4a9a-aeb7-50fb841d5e38",
   "metadata": {},
   "outputs": [],
   "source": [
    "X, y, timesteps, features = load_and_preprocess_data(file_path)"
   ]
  },
  {
   "cell_type": "code",
   "execution_count": 14,
   "id": "3e2eefa7-347f-4ef2-9e65-8b768672c555",
   "metadata": {},
   "outputs": [],
   "source": [
    "x_train, x_val, y_train, y_val = train_test_split(X, y, test_size=0.2, random_state=42)"
   ]
  },
  {
   "cell_type": "code",
   "execution_count": 16,
   "id": "960f5a53-d5fd-40a4-8e87-c8329a56ccc9",
   "metadata": {},
   "outputs": [],
   "source": [
    "def apply_smote(X, y):\n",
    "    y_labels = np.argmax(y, axis=1) if y.ndim > 1 else y\n",
    "    smote = SMOTE()\n",
    "    try:\n",
    "        X_reshaped = X.reshape(X.shape[0], -1)\n",
    "        X_resampled, y_resampled_labels = smote.fit_resample(X_reshaped, y_labels)\n",
    "        y_resampled = to_categorical(y_resampled_labels, num_classes=y.shape[1])\n",
    "        X_resampled_reshaped = X_resampled.reshape(-1, X.shape[1], X.shape[2])\n",
    "        return X_resampled_reshaped, y_resampled\n",
    "    except Exception as e:\n",
    "        print(f\"SMOTE could not be applied: {e}\")\n",
    "        return X, y\n"
   ]
  },
  {
   "cell_type": "code",
   "execution_count": null,
   "id": "74c990cd-d298-415d-8dad-9c5ccd1adfe0",
   "metadata": {},
   "outputs": [],
   "source": [
    "X_smote, y_smote = apply_smote(x_train, y_train)"
   ]
  },
  {
   "cell_type": "code",
   "execution_count": 26,
   "id": "fd5f0b9b-140c-48a8-9970-7a975cf80ee8",
   "metadata": {},
   "outputs": [],
   "source": [
    "# Distribute data using Dirichlet distribution\n",
    "clients_data = distribute_data_dirichlet(X_smote, y_smote, num_clients, alpha)"
   ]
  },
  {
   "cell_type": "code",
   "execution_count": 27,
   "id": "e08e6eb9-55d1-4774-93ee-b9d14f56e1d3",
   "metadata": {},
   "outputs": [
    {
     "data": {
      "image/png": "[encoded data removed]",
      "text/plain": [
       "<Figure size 2000x500 with 5 Axes>"
      ]
     },
     "metadata": {},
     "output_type": "display_data"
    }
   ],
   "source": [
    "# Plot label distribution\n",
    "plot_label_distribution(clients_data, task_name ,alpha)\n"
   ]
  },
  {
   "cell_type": "code",
   "execution_count": null,
   "id": "95856cee-5ec3-449d-a586-b946e4c2d52b",
   "metadata": {},
   "outputs": [],
   "source": []
  }
 ],
 "metadata": {
  "kernelspec": {
   "display_name": "base",
   "language": "python",
   "name": "python3"
  },
  "language_info": {
   "codemirror_mode": {
    "name": "ipython",
    "version": 3
   },
   "file_extension": ".py",
   "mimetype": "text/x-python",
   "name": "python",
   "nbconvert_exporter": "python",
   "pygments_lexer": "ipython3",
   "version": "3.11.5"
  }
 },
 "nbformat": 4,
 "nbformat_minor": 5
}
